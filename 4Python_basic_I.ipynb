{
  "metadata": {
    "kernelspec": {
      "name": "python",
      "display_name": "Python (Pyodide)",
      "language": "python"
    },
    "language_info": {
      "codemirror_mode": {
        "name": "ipython",
        "version": 3
      },
      "file_extension": ".py",
      "mimetype": "text/x-python",
      "name": "python",
      "nbconvert_exporter": "python",
      "pygments_lexer": "ipython3",
      "version": "3.9.21"
    },
    "celltoolbar": "Slideshow"
  },
  "nbformat_minor": 5,
  "nbformat": 4,
  "cells": [
    {
      "id": "b3debf2a-a399-4156-b4b3-715fcb8228dd",
      "cell_type": "markdown",
      "source": "<div align='center'><font size='500'>Python Basics I</font></div>",
      "metadata": {
        "slideshow": {
          "slide_type": "slide"
        },
        "tags": []
      }
    },
    {
      "id": "0ed5c175",
      "cell_type": "markdown",
      "source": "## Errors Are Okay!!\n\n### Programs will crash if they contain code the computer can’t understand, which will cause Python to show an error message. \n### An error message won’t break your computer, though, so don’t be afraid to make mistakes. A crash just means the program stopped running unexpectedly.",
      "metadata": {
        "slideshow": {
          "slide_type": "subslide"
        }
      }
    },
    {
      "id": "0f87d597",
      "cell_type": "markdown",
      "source": "# We will cover\n1. Variables and Data types\n2. Numbers and strings\n3. Operators\n4. Control flow 1: Condition and if statement\n5. Control flow 2: Iteration and loops",
      "metadata": {
        "slideshow": {
          "slide_type": "slide"
        }
      }
    },
    {
      "id": "a01fdf42",
      "cell_type": "markdown",
      "source": "# Variables\n",
      "metadata": {
        "slideshow": {
          "slide_type": "slide"
        }
      }
    },
    {
      "id": "ce4b1a40",
      "cell_type": "markdown",
      "source": "A variable in Python is similar to a tag or reference that points to an object in the memory. ",
      "metadata": {
        "slideshow": {
          "slide_type": "fragment"
        }
      }
    },
    {
      "id": "bb998eba",
      "cell_type": "markdown",
      "source": "An example",
      "metadata": {
        "slideshow": {
          "slide_type": "subslide"
        }
      }
    },
    {
      "id": "268ba2fb",
      "cell_type": "code",
      "source": "print('hello world')",
      "metadata": {
        "slideshow": {
          "slide_type": "fragment"
        },
        "trusted": true
      },
      "outputs": [],
      "execution_count": null
    },
    {
      "id": "fdedbf23",
      "cell_type": "code",
      "source": "message = 'hello world'\nprint(message)",
      "metadata": {
        "slideshow": {
          "slide_type": "fragment"
        },
        "trusted": true
      },
      "outputs": [],
      "execution_count": null
    },
    {
      "id": "1916a8bf",
      "cell_type": "markdown",
      "source": "**Note**: Here, we put the sentense \"hello world\" in vairable message!",
      "metadata": {
        "slideshow": {
          "slide_type": "fragment"
        }
      }
    },
    {
      "id": "4a99e99b",
      "cell_type": "markdown",
      "source": "## Variable Name: Python Identifiers\n\n## Identifier is a user-defined name given to a variable, function, class, module, etc. The identifier is a combination of character digits and an underscore. There are specific rules which we need to follow while selecting a name for an identifier in Python\n\n## You can name a variable anything as long as it obeys the following three rules:\n1. It can be only one word.\n2. It can use only letters, numbers, and the underscore (_) character. \n3. It CAN NOT begin with a number.",
      "metadata": {
        "slideshow": {
          "slide_type": "subslide"
        }
      }
    },
    {
      "id": "d57887f5",
      "cell_type": "markdown",
      "source": "## - Python keywords cannot be used as identifiers.\n## - Special symbols like $.,!, @, \\#, \\%$, etc. are not allowed as the identifier name in Python.\n## - There is no limitation on the length of the identifier in Python.\n## - Identifiers are case sensitive, i.e., ‘xmu’, 'XMU' \\& ‘Xmu’ are three different identifiers in Python.\n\n**Note**: We should not use identifier names that start and ends with two underscores like $\\_\\_$len$\\_\\_$ or $\\_\\_$load$\\_\\_$ etc. Python uses these kinds of terms to define special variables and methods inside the framework classes. We should avoid using this format to create new identifiers.",
      "metadata": {
        "slideshow": {
          "slide_type": "subslide"
        }
      }
    },
    {
      "id": "96e071e5",
      "cell_type": "markdown",
      "source": "# Some examples\n![image](./example_var.png)\n\n",
      "metadata": {
        "slideshow": {
          "slide_type": "subslide"
        }
      }
    },
    {
      "id": "d4ef4c90",
      "cell_type": "code",
      "source": "2sample = 5",
      "metadata": {
        "slideshow": {
          "slide_type": "subslide"
        },
        "trusted": true
      },
      "outputs": [],
      "execution_count": null
    },
    {
      "id": "d2105636",
      "cell_type": "code",
      "source": "'hello' = 5",
      "metadata": {
        "slideshow": {
          "slide_type": "fragment"
        },
        "trusted": true
      },
      "outputs": [],
      "execution_count": null
    },
    {
      "id": "0f705998",
      "cell_type": "code",
      "source": "Xmu = 1\nxmu = 13\nXmu + xmu",
      "metadata": {
        "slideshow": {
          "slide_type": "fragment"
        },
        "trusted": true
      },
      "outputs": [],
      "execution_count": null
    },
    {
      "id": "b8301a94",
      "cell_type": "markdown",
      "source": "# Naming conventions:\n\n1. Use variable names that describe the value:\nIt makes sense if you use the name computer understands, as I mentioned earlier. You, as the programmer, need to understand and remember what value to expect from the variable whenever you come across it in your code.\n\nFor example, to store a user's name, don't use \"n\"; instead, use \"user_name\", \"first_name\" or \"last_name\"\n\n \n\n2. Use camelCase or snake_case in naming your variables:\nIf you have multiple words for your variables, use either camelcase or snake case to name your variables. For instance, use either \"firstName\" or \"first_name\" if you need to store the user's first name. ",
      "metadata": {
        "slideshow": {
          "slide_type": "subslide"
        }
      }
    },
    {
      "id": "21dc55b0",
      "cell_type": "markdown",
      "source": "## camelCase: lookLikeThis\n![image](./camel.png)\n\n",
      "metadata": {
        "slideshow": {
          "slide_type": "subslide"
        }
      }
    },
    {
      "id": "01875cb8",
      "cell_type": "markdown",
      "source": "## underscore type: look_like_this\n",
      "metadata": {
        "slideshow": {
          "slide_type": "fragment"
        }
      }
    },
    {
      "id": "bed32c14",
      "cell_type": "markdown",
      "source": "# Storing Values in Variables\n\nYou’ll store values in variables with an assignment statement. \nAn assignment statement consists of a variable name, an equal sign (called the assignment operator), and the value to be stored.\n<div>\n<img src=\"./variable.png\" width=\"300\"/>\n</div>\n",
      "metadata": {
        "slideshow": {
          "slide_type": "subslide"
        }
      }
    },
    {
      "id": "a4e379ca",
      "cell_type": "code",
      "source": "spam = 42\nspam",
      "metadata": {
        "slideshow": {
          "slide_type": "fragment"
        },
        "trusted": true
      },
      "outputs": [],
      "execution_count": null
    },
    {
      "id": "1c4155d5",
      "cell_type": "markdown",
      "source": "# Overwrite\n<div>\n<img src=\"./overwrite.png\" width=\"1000\"/>\n</div>\n",
      "metadata": {
        "slideshow": {
          "slide_type": "subslide"
        }
      }
    },
    {
      "id": "9e0d0b7b",
      "cell_type": "markdown",
      "source": "<div>\n<img src=\"./store.png\" width=\"1000\"/>\n</div>\n",
      "metadata": {
        "slideshow": {
          "slide_type": "subslide"
        }
      }
    },
    {
      "id": "8b4989f9",
      "cell_type": "code",
      "source": "spam =40\nspam += 2\nspam ",
      "metadata": {
        "slideshow": {
          "slide_type": "fragment"
        },
        "trusted": true
      },
      "outputs": [],
      "execution_count": null
    },
    {
      "id": "196d61d4",
      "cell_type": "markdown",
      "source": "**Note**: We don’t need to provide the type of information while defining a variable. Python implicitly assumes the type of the variable based on the value assigned to the variable.",
      "metadata": {
        "slideshow": {
          "slide_type": "subslide"
        }
      }
    },
    {
      "id": "c3ac1b16",
      "cell_type": "code",
      "source": "x = 5\nprint(type(x))\nx = 'xmu'\nprint(type(x))",
      "metadata": {
        "slideshow": {
          "slide_type": "fragment"
        },
        "trusted": true
      },
      "outputs": [],
      "execution_count": null
    },
    {
      "id": "6d854d2a",
      "cell_type": "markdown",
      "source": "**Note**: type() is the bulid-in function to check the type of an object",
      "metadata": {
        "slideshow": {
          "slide_type": "fragment"
        }
      }
    },
    {
      "id": "04b9c790",
      "cell_type": "markdown",
      "source": "Initially, x was pointing to an integer object, and now x is pointing to a string object in the memory. The type of the variable also changed, i.e., initially, it was an integer, but when we assigned a string object in it, then the type of x becomes str, i.e., a string.",
      "metadata": {
        "slideshow": {
          "slide_type": "fragment"
        }
      }
    },
    {
      "id": "607501b5",
      "cell_type": "markdown",
      "source": "## Literals",
      "metadata": {
        "slideshow": {
          "slide_type": "slide"
        }
      }
    },
    {
      "id": "ad02e96a",
      "cell_type": "markdown",
      "source": "A Literal in python is a raw data or a constant value that can get assigned to a variable.",
      "metadata": {
        "slideshow": {
          "slide_type": "fragment"
        }
      }
    },
    {
      "id": "8670ed9f",
      "cell_type": "code",
      "source": "x = 100 ",
      "metadata": {
        "slideshow": {
          "slide_type": "fragment"
        },
        "trusted": true
      },
      "outputs": [],
      "execution_count": null
    },
    {
      "id": "f8943562",
      "cell_type": "markdown",
      "source": "Here 100 is literal, and we assigned it to a variable x.",
      "metadata": {}
    },
    {
      "id": "9fd6c856",
      "cell_type": "markdown",
      "source": "### There are different types of literals in python. For example,",
      "metadata": {
        "slideshow": {
          "slide_type": "subslide"
        }
      }
    },
    {
      "id": "7a540668",
      "cell_type": "markdown",
      "source": "1. Numeric Literals\n2. String Literals\n3. Bool Literals\n",
      "metadata": {
        "slideshow": {
          "slide_type": "fragment"
        }
      }
    },
    {
      "id": "0c12890d",
      "cell_type": "markdown",
      "source": "## Numeric Literals",
      "metadata": {
        "slideshow": {
          "slide_type": "subslide"
        }
      }
    },
    {
      "id": "3823dd54",
      "cell_type": "markdown",
      "source": "Numeric literals represent the numbers in python, and it can be of the following types",
      "metadata": {
        "slideshow": {
          "slide_type": "fragment"
        }
      }
    },
    {
      "id": "d02a2878",
      "cell_type": "markdown",
      "source": "- Integer Literal:\n  - Positive \\& negative round numbers.\n  - For example, 100, -20, 15 etc.\n- Float Literal:\n  - Positive \\& negative decimal numbers.\n  - For example, 10.89, -20.1, 15.22 etc.\n- Binary Literal:\n  - The binary representation of numbers.\n  - For example, 00000110 is binary literal for 6.\n- Octal Literal, Hexadecimal Literal\n- Complex Literal:\n  - Represents the complex numbers.\n  - For example $5 + 7i$.",
      "metadata": {
        "slideshow": {
          "slide_type": "fragment"
        }
      }
    },
    {
      "id": "500f6956",
      "cell_type": "code",
      "source": "### Integer number\nx = 10\nprint(type(x))",
      "metadata": {
        "slideshow": {
          "slide_type": "subslide"
        },
        "trusted": true
      },
      "outputs": [],
      "execution_count": null
    },
    {
      "id": "085def54",
      "cell_type": "code",
      "source": "### float number\nx = 10.0\nprint(type(x))",
      "metadata": {
        "slideshow": {
          "slide_type": "fragment"
        },
        "trusted": true
      },
      "outputs": [],
      "execution_count": null
    },
    {
      "id": "f5ec2eca",
      "cell_type": "code",
      "source": "### binary number\nx = 0b111\nprint(x)\nprint(type(x))",
      "metadata": {
        "slideshow": {
          "slide_type": "fragment"
        },
        "trusted": true
      },
      "outputs": [],
      "execution_count": null
    },
    {
      "id": "4596c80e",
      "cell_type": "code",
      "source": "### complex number\nx = 5 + 7j\nprint(type(x))",
      "metadata": {
        "slideshow": {
          "slide_type": "fragment"
        },
        "trusted": true
      },
      "outputs": [],
      "execution_count": null
    },
    {
      "id": "96bd489c",
      "cell_type": "code",
      "source": "x = complex(10,2)\nprint(x)",
      "metadata": {
        "slideshow": {
          "slide_type": "fragment"
        },
        "trusted": true
      },
      "outputs": [],
      "execution_count": null
    },
    {
      "id": "10a0e399",
      "cell_type": "markdown",
      "source": "### Change between different types:\n",
      "metadata": {
        "slideshow": {
          "slide_type": "subslide"
        }
      }
    },
    {
      "id": "27c7dd34",
      "cell_type": "code",
      "source": "### to float\nx = float(10)\nprint(x)\ny = float(0b11)\nprint(y)",
      "metadata": {
        "slideshow": {
          "slide_type": "fragment"
        },
        "trusted": true
      },
      "outputs": [],
      "execution_count": null
    },
    {
      "id": "d5e77bda",
      "cell_type": "code",
      "source": "x = float(10 + 5j)",
      "metadata": {
        "slideshow": {
          "slide_type": "fragment"
        },
        "trusted": true
      },
      "outputs": [],
      "execution_count": null
    },
    {
      "id": "ca08b6d7",
      "cell_type": "code",
      "source": "### to int\n### 整数部分\nx = 3.8 \nprint(int(x))\n\ny = -3.87\nprint(int(y))",
      "metadata": {
        "slideshow": {
          "slide_type": "fragment"
        },
        "trusted": true
      },
      "outputs": [],
      "execution_count": null
    },
    {
      "id": "3c7d4293",
      "cell_type": "code",
      "source": "### to int\n### round 四舍五入\nx = 3.8\nprint(round(x))\n\ny = -3.37\nprint(round(y))",
      "metadata": {
        "slideshow": {
          "slide_type": "subslide"
        },
        "trusted": true
      },
      "outputs": [],
      "execution_count": null
    },
    {
      "id": "2b5225a9",
      "cell_type": "code",
      "source": "### to complex\nx = 12\ny = complex(x)\nprint(y)",
      "metadata": {
        "scrolled": true,
        "slideshow": {
          "slide_type": "fragment"
        },
        "trusted": true
      },
      "outputs": [],
      "execution_count": null
    },
    {
      "id": "d2c436b9",
      "cell_type": "code",
      "source": "### to binary number\nx = bin(3)\nprint(x)\nprint(type(x))\n",
      "metadata": {
        "scrolled": true,
        "slideshow": {
          "slide_type": "subslide"
        },
        "trusted": true
      },
      "outputs": [],
      "execution_count": null
    },
    {
      "id": "bb54cee7",
      "cell_type": "markdown",
      "source": "## String Literals",
      "metadata": {
        "slideshow": {
          "slide_type": "slide"
        }
      }
    },
    {
      "id": "f3cc317d",
      "cell_type": "markdown",
      "source": "A String Literal in python is a group of characters. For example,",
      "metadata": {
        "slideshow": {
          "slide_type": "fragment"
        }
      }
    },
    {
      "id": "54c29ce5",
      "cell_type": "code",
      "source": "x = 'xmu'\ny = \"data science\"\nz = '''XMU'''\nw = \"\"\"XMU\"\"\"\n\nprint(x)\nprint(y)\nprint(z)\nprint(w)",
      "metadata": {
        "slideshow": {
          "slide_type": "fragment"
        },
        "trusted": true
      },
      "outputs": [],
      "execution_count": null
    },
    {
      "id": "f0b47d64",
      "cell_type": "markdown",
      "source": "**Note**: We can enclose the string literals in either single quotes or double quotes, or triple quotes. ",
      "metadata": {
        "slideshow": {
          "slide_type": "fragment"
        }
      }
    },
    {
      "id": "44a8053e",
      "cell_type": "code",
      "source": "announcement = 'Let's go to school'\nprint(announcement)",
      "metadata": {
        "slideshow": {
          "slide_type": "subslide"
        },
        "trusted": true
      },
      "outputs": [],
      "execution_count": null
    },
    {
      "id": "e81ed18b",
      "cell_type": "code",
      "source": "announcement = \"Let's go to school\"\nprint(announcement)",
      "metadata": {
        "slideshow": {
          "slide_type": "fragment"
        },
        "trusted": true
      },
      "outputs": [],
      "execution_count": null
    },
    {
      "id": "7fa114db",
      "cell_type": "markdown",
      "source": "### Multi-line string literal",
      "metadata": {
        "slideshow": {
          "slide_type": "subslide"
        }
      }
    },
    {
      "id": "e3e5b170",
      "cell_type": "markdown",
      "source": "While defining a string literal, there is no difference between single or double-quotes. We can create a string literal by either or them. But if our string literal is a little big and consists of multiple lines, then we need to use the triple quotes (''') to enclose a multi-line string literal. For example,",
      "metadata": {
        "slideshow": {
          "slide_type": "fragment"
        }
      }
    },
    {
      "id": "65467482",
      "cell_type": "code",
      "source": "x = \"\"\"We are studying at\n     XMU\"\"\"\nprint(x)",
      "metadata": {
        "slideshow": {
          "slide_type": "fragment"
        },
        "trusted": true
      },
      "outputs": [],
      "execution_count": null
    },
    {
      "id": "adda77d5",
      "cell_type": "markdown",
      "source": "Or we can use three single quotes too,",
      "metadata": {
        "slideshow": {
          "slide_type": "subslide"
        }
      }
    },
    {
      "id": "7ea7a4c8",
      "cell_type": "code",
      "source": "x = '''We are studying at\n     XMU''' \nprint(x)",
      "metadata": {
        "trusted": true
      },
      "outputs": [],
      "execution_count": null
    },
    {
      "id": "dbfa0bc6",
      "cell_type": "markdown",
      "source": "We can also use the single or double quotes to define multi-line string literals, but we need to end the lines with an escape character ‘\\’. For example,",
      "metadata": {
        "slideshow": {
          "slide_type": "subslide"
        }
      }
    },
    {
      "id": "699984b9",
      "cell_type": "code",
      "source": "y =  \"This is \\\n     a data science class \\\n     for junior student.\"\nprint(y)",
      "metadata": {
        "slideshow": {
          "slide_type": "fragment"
        },
        "trusted": true
      },
      "outputs": [],
      "execution_count": null
    },
    {
      "id": "e7f4199a",
      "cell_type": "markdown",
      "source": "We can escape characters in a string literal. Escape character starts with a ‘\\’, and each escape character serves a special purpose. For example,",
      "metadata": {
        "slideshow": {
          "slide_type": "subslide"
        }
      }
    },
    {
      "id": "1b83a0e4",
      "cell_type": "code",
      "source": "announcement = 'Let\\'s go to school'\nprint(announcement)",
      "metadata": {
        "slideshow": {
          "slide_type": "fragment"
        },
        "trusted": true
      },
      "outputs": [],
      "execution_count": null
    },
    {
      "id": "173beee1",
      "cell_type": "markdown",
      "source": "Some of the other escape characters are,",
      "metadata": {
        "slideshow": {
          "slide_type": "subslide"
        }
      }
    },
    {
      "id": "2c0ded0b",
      "cell_type": "markdown",
      "source": "- \\ : Newline continuation\n- \\\\: Display a single \\\n- \\\\': Display a single quote\n- \\\\\": Display a double quote\n- \\b: Backspace\n- \\n: New Line\n- \\t: Horizontal Tab\n- \\v: Vertical Tab\n- \\r: Enter",
      "metadata": {
        "slideshow": {
          "slide_type": "fragment"
        }
      }
    },
    {
      "id": "dd4c01a4",
      "cell_type": "code",
      "source": "path = 'D:\\one\\two\\three\\next'\nprint(path)",
      "metadata": {
        "scrolled": true,
        "slideshow": {
          "slide_type": "subslide"
        },
        "trusted": true
      },
      "outputs": [],
      "execution_count": null
    },
    {
      "id": "19e4d467",
      "cell_type": "code",
      "source": "path = 'D:\\\\one\\\\two\\\\three\\\\next'\nprint(path)",
      "metadata": {
        "slideshow": {
          "slide_type": "fragment"
        },
        "trusted": true
      },
      "outputs": [],
      "execution_count": null
    },
    {
      "id": "5f9c991f",
      "cell_type": "markdown",
      "source": "### Raw string",
      "metadata": {
        "slideshow": {
          "slide_type": "subslide"
        }
      }
    },
    {
      "id": "5656ea4f",
      "cell_type": "markdown",
      "source": "A raw string is a string literal that treats backslashes (\\) as literal characters rather than escape characters.",
      "metadata": {
        "slideshow": {
          "slide_type": "fragment"
        }
      }
    },
    {
      "id": "33bcfb82",
      "cell_type": "code",
      "source": "regular_string = 'D:\\\\one\\\\two\\\\three\\\\next'\nprint(regular_string)",
      "metadata": {
        "slideshow": {
          "slide_type": "fragment"
        },
        "trusted": true
      },
      "outputs": [],
      "execution_count": null
    },
    {
      "id": "7c0fa8d7",
      "cell_type": "code",
      "source": "raw_string = r'D:\\one\\two\\three\\next'\nprint(raw_string)",
      "metadata": {
        "slideshow": {
          "slide_type": "fragment"
        },
        "trusted": true
      },
      "outputs": [],
      "execution_count": null
    },
    {
      "id": "81f82a46",
      "cell_type": "markdown",
      "source": "### f-string",
      "metadata": {
        "slideshow": {
          "slide_type": "subslide"
        }
      }
    },
    {
      "id": "e0405154",
      "cell_type": "markdown",
      "source": "An f-string (formatted string literal) is a feature in Python that allows you to embed expressions inside string literals, using curly braces {}",
      "metadata": {
        "slideshow": {
          "slide_type": "fragment"
        }
      }
    },
    {
      "id": "8ef11f02",
      "cell_type": "code",
      "source": "x = 10\ny = 20\nprint(f'{x} + {y} = {x+y}')",
      "metadata": {
        "slideshow": {
          "slide_type": "fragment"
        },
        "trusted": true
      },
      "outputs": [],
      "execution_count": null
    },
    {
      "id": "9059de28",
      "cell_type": "code",
      "source": "x = 10\ny = 20\nformat_string = '{} + {} = {}'.format(x,y,x+y)\nprint(format_string)",
      "metadata": {
        "slideshow": {
          "slide_type": "fragment"
        },
        "trusted": true
      },
      "outputs": [],
      "execution_count": null
    },
    {
      "id": "232b46a8",
      "cell_type": "markdown",
      "source": "You can use formatting specifiers inside the curly braces to control how the values are displayed",
      "metadata": {
        "slideshow": {
          "slide_type": "subslide"
        }
      }
    },
    {
      "id": "acc17bff",
      "cell_type": "code",
      "source": "pi = 3.14159\nformatted_pi = f\"Pi rounded to 2 decimal places: {pi:.2f}\"\nprint(formatted_pi)",
      "metadata": {
        "slideshow": {
          "slide_type": "fragment"
        },
        "trusted": true
      },
      "outputs": [],
      "execution_count": null
    },
    {
      "id": "369fc5ad",
      "cell_type": "markdown",
      "source": "## Boolean Literal",
      "metadata": {
        "slideshow": {
          "slide_type": "subslide"
        }
      }
    },
    {
      "id": "593206d0",
      "cell_type": "markdown",
      "source": "There are only two Boolean literals in python, i.e., True and False.",
      "metadata": {
        "slideshow": {
          "slide_type": "fragment"
        }
      }
    },
    {
      "id": "3e6644e7",
      "cell_type": "code",
      "source": "True and False",
      "metadata": {
        "slideshow": {
          "slide_type": "fragment"
        },
        "trusted": true
      },
      "outputs": [],
      "execution_count": null
    },
    {
      "id": "c5105256",
      "cell_type": "code",
      "source": "False == 0 ",
      "metadata": {
        "slideshow": {
          "slide_type": "fragment"
        },
        "trusted": true
      },
      "outputs": [],
      "execution_count": null
    },
    {
      "id": "b7f58f94",
      "cell_type": "code",
      "source": "True == 1",
      "metadata": {
        "slideshow": {
          "slide_type": "fragment"
        },
        "trusted": true
      },
      "outputs": [],
      "execution_count": null
    },
    {
      "id": "f438c3df",
      "cell_type": "markdown",
      "source": "We use bool() function to test the \"truthiness\" of values and return a Boolean (True or False) object.\n",
      "metadata": {
        "slideshow": {
          "slide_type": "subslide"
        }
      }
    },
    {
      "id": "4081d2db",
      "cell_type": "code",
      "source": "bool(1)",
      "metadata": {
        "slideshow": {
          "slide_type": "fragment"
        },
        "trusted": true
      },
      "outputs": [],
      "execution_count": null
    },
    {
      "id": "5e27d567",
      "cell_type": "code",
      "source": "bool(None)",
      "metadata": {
        "slideshow": {
          "slide_type": "fragment"
        },
        "trusted": true
      },
      "outputs": [],
      "execution_count": null
    },
    {
      "id": "6718165b",
      "cell_type": "code",
      "source": "bool([12,3])",
      "metadata": {
        "slideshow": {
          "slide_type": "fragment"
        },
        "trusted": true
      },
      "outputs": [],
      "execution_count": null
    },
    {
      "id": "81155f9c",
      "cell_type": "markdown",
      "source": "note Except empty, 0 and None, all the others are True",
      "metadata": {
        "slideshow": {
          "slide_type": "subslide"
        }
      }
    },
    {
      "id": "a242765c",
      "cell_type": "code",
      "source": "bool(0)",
      "metadata": {
        "slideshow": {
          "slide_type": "fragment"
        },
        "trusted": true
      },
      "outputs": [],
      "execution_count": null
    },
    {
      "id": "a26f7773",
      "cell_type": "code",
      "source": "bool(100)",
      "metadata": {
        "slideshow": {
          "slide_type": "fragment"
        },
        "trusted": true
      },
      "outputs": [],
      "execution_count": null
    },
    {
      "id": "3c652c95",
      "cell_type": "code",
      "source": "bool(set())",
      "metadata": {
        "slideshow": {
          "slide_type": "fragment"
        },
        "trusted": true
      },
      "outputs": [],
      "execution_count": null
    },
    {
      "id": "89d44098",
      "cell_type": "code",
      "source": "bool('')",
      "metadata": {
        "scrolled": true,
        "trusted": true
      },
      "outputs": [],
      "execution_count": null
    },
    {
      "id": "870df431",
      "cell_type": "code",
      "source": "bool(0.0)",
      "metadata": {
        "slideshow": {
          "slide_type": "subslide"
        },
        "trusted": true
      },
      "outputs": [],
      "execution_count": null
    },
    {
      "id": "9d58816b",
      "cell_type": "code",
      "source": "bool(complex(0,0))",
      "metadata": {
        "trusted": true
      },
      "outputs": [],
      "execution_count": null
    },
    {
      "id": "0fbd972d",
      "cell_type": "code",
      "source": "bool(complex(0,1))",
      "metadata": {
        "trusted": true
      },
      "outputs": [],
      "execution_count": null
    },
    {
      "id": "5b1e2c93",
      "cell_type": "markdown",
      "source": "# Operators ",
      "metadata": {
        "slideshow": {
          "slide_type": "slide"
        }
      }
    },
    {
      "id": "4fe00d5d",
      "cell_type": "markdown",
      "source": "## Arithmetic Operators\n",
      "metadata": {
        "slideshow": {
          "slide_type": "subslide"
        }
      }
    },
    {
      "id": "28d03cc1",
      "cell_type": "markdown",
      "source": "<div>\n<img src=\"./operator.png\" width=\"1000\"/>\n</div>",
      "metadata": {
        "slideshow": {
          "slide_type": "fragment"
        }
      }
    },
    {
      "id": "4e2eb5cf",
      "cell_type": "code",
      "source": "x = 10\ny = 3\nprint(x + y)\nprint(x * y)\nprint(x ** y) ",
      "metadata": {
        "slideshow": {
          "slide_type": "subslide"
        },
        "trusted": true
      },
      "outputs": [],
      "execution_count": null
    },
    {
      "id": "47f68f6e",
      "cell_type": "code",
      "source": "print(x / y)\nprint(x // y)\nprint(x % y)",
      "metadata": {
        "slideshow": {
          "slide_type": "fragment"
        },
        "trusted": true
      },
      "outputs": [],
      "execution_count": null
    },
    {
      "id": "24ae0b3e",
      "cell_type": "code",
      "source": "print(rf'type of 4 + 2 is {type(4 + 2)}')\nprint(rf'type of 4 - 2 is {type(4 - 2)}')\nprint(rf'type of 4 * 2 is {type(4 * 2)}')\nprint(rf'type of 4 / 2 is {type(4 / 2)}')\nprint(rf'type of 4 ** 2 is {type(4 ** 2)}')\nprint(rf'type of 4 // 2 is {type(4 // 2)}')\nprint(rf'type of 4 % 2 is {type(4 % 2)}')\n",
      "metadata": {
        "slideshow": {
          "slide_type": "subslide"
        },
        "trusted": true
      },
      "outputs": [],
      "execution_count": null
    },
    {
      "id": "bdb64a6a",
      "cell_type": "markdown",
      "source": "**Note**: outcome of division is always a float number.",
      "metadata": {
        "slideshow": {
          "slide_type": "fragment"
        }
      }
    },
    {
      "id": "a8653cc3",
      "cell_type": "markdown",
      "source": "### the pow() function\npow(a,b) = a ** b\n\npow(a,b,c) = a ** b % c",
      "metadata": {
        "slideshow": {
          "slide_type": "subslide"
        }
      }
    },
    {
      "id": "d00c81d9",
      "cell_type": "code",
      "source": "pow(2,3)",
      "metadata": {
        "slideshow": {
          "slide_type": "fragment"
        },
        "trusted": true
      },
      "outputs": [],
      "execution_count": null
    },
    {
      "id": "0857c448",
      "cell_type": "code",
      "source": "pow(2,3,5)",
      "metadata": {
        "slideshow": {
          "slide_type": "fragment"
        },
        "trusted": true
      },
      "outputs": [],
      "execution_count": null
    },
    {
      "id": "5ed91cdc",
      "cell_type": "markdown",
      "source": "How about string ",
      "metadata": {
        "slideshow": {
          "slide_type": "subslide"
        }
      }
    },
    {
      "id": "341babb3",
      "cell_type": "markdown",
      "source": "str + str\nstr * number",
      "metadata": {
        "slideshow": {
          "slide_type": "fragment"
        }
      }
    },
    {
      "id": "d3e09779",
      "cell_type": "code",
      "source": "'123' + '456'",
      "metadata": {
        "slideshow": {
          "slide_type": "fragment"
        },
        "trusted": true
      },
      "outputs": [],
      "execution_count": null
    },
    {
      "id": "20e3361f",
      "cell_type": "code",
      "source": "'123' * 3",
      "metadata": {
        "slideshow": {
          "slide_type": "fragment"
        },
        "trusted": true
      },
      "outputs": [],
      "execution_count": null
    },
    {
      "id": "db0f3946",
      "cell_type": "markdown",
      "source": "### Operator Precedence\n\n1. The order of operations (also called precedence) of Python math operators is similar to that of mathematics. \n2. The ** operator is evaluated first; \n3. the *, /, //, and % operators are evaluated next, from left to right;\n4. the + and - operators are evaluated last (also from left to right). \n5. You can use parentheses (but not square brackets or curly braces) to override the usual precedence, if you need to.\n",
      "metadata": {
        "slideshow": {
          "slide_type": "subslide"
        }
      }
    },
    {
      "id": "f7f8062a",
      "cell_type": "code",
      "source": "'123' + 'abs' * 3",
      "metadata": {
        "slideshow": {
          "slide_type": "subslide"
        },
        "trusted": true
      },
      "outputs": [],
      "execution_count": null
    },
    {
      "id": "476bc9a2",
      "cell_type": "code",
      "source": "1 + 2 ** 3 * 4",
      "metadata": {
        "trusted": true
      },
      "outputs": [],
      "execution_count": null
    },
    {
      "id": "3a424695",
      "cell_type": "code",
      "source": "(1 + 2) ** 3 * 4",
      "metadata": {
        "trusted": true
      },
      "outputs": [],
      "execution_count": null
    },
    {
      "id": "eac3e834",
      "cell_type": "markdown",
      "source": "## Comparison Operators",
      "metadata": {
        "slideshow": {
          "slide_type": "subslide"
        }
      }
    },
    {
      "id": "9109f2da",
      "cell_type": "markdown",
      "source": "==, !=, >, <, >=, <=\n\n**note**: output is a Boolean object",
      "metadata": {
        "slideshow": {
          "slide_type": "fragment"
        }
      }
    },
    {
      "id": "f78ab1d4",
      "cell_type": "code",
      "source": "5 == 4",
      "metadata": {
        "slideshow": {
          "slide_type": "fragment"
        },
        "trusted": true
      },
      "outputs": [],
      "execution_count": null
    },
    {
      "id": "a6b55128",
      "cell_type": "markdown",
      "source": "How about Strings?",
      "metadata": {
        "slideshow": {
          "slide_type": "subslide"
        }
      }
    },
    {
      "id": "2b9b7b9e",
      "cell_type": "code",
      "source": "'b' >= '>'",
      "metadata": {
        "slideshow": {
          "slide_type": "fragment"
        },
        "trusted": true
      },
      "outputs": [],
      "execution_count": null
    },
    {
      "id": "4d8d320a",
      "cell_type": "markdown",
      "source": "**note**: In Python, when you compare strings using operators like >, <, >=, <=, it compares them based on their ASCII/Unicode values. Each character has a numerical value assigned to it.\n\nWe can use ord() to get the ASCII value of a character",
      "metadata": {
        "slideshow": {
          "slide_type": "fragment"
        }
      }
    },
    {
      "id": "1bd3c6bf",
      "cell_type": "code",
      "source": "print(ord('b'))\nprint(ord('>'))",
      "metadata": {
        "slideshow": {
          "slide_type": "subslide"
        },
        "trusted": true
      },
      "outputs": [],
      "execution_count": null
    },
    {
      "id": "c44e2f72",
      "cell_type": "code",
      "source": "'az' > 'bacv'",
      "metadata": {
        "slideshow": {
          "slide_type": "fragment"
        },
        "trusted": true
      },
      "outputs": [],
      "execution_count": null
    },
    {
      "id": "d3db8f19",
      "cell_type": "markdown",
      "source": "**note**:Python compares strings character by character from left to right until it finds a difference",
      "metadata": {
        "slideshow": {
          "slide_type": "fragment"
        }
      }
    },
    {
      "id": "007a1467",
      "cell_type": "markdown",
      "source": "# Logical Operators\n",
      "metadata": {
        "slideshow": {
          "slide_type": "subslide"
        }
      }
    },
    {
      "id": "5fc71083",
      "cell_type": "markdown",
      "source": "'and', 'or', '!'\n\n\n\n",
      "metadata": {
        "slideshow": {
          "slide_type": "fragment"
        }
      }
    },
    {
      "id": "3fcc7ec4",
      "cell_type": "markdown",
      "source": "## and Operator\nThe and operator returns True if both conditions (or operands) are True.\n\nIf any of the conditions is False, the result is False.\n\n\n",
      "metadata": {
        "slideshow": {
          "slide_type": "fragment"
        }
      }
    },
    {
      "id": "a7a792d9",
      "cell_type": "markdown",
      "source": "## or Operator\nThe or operator returns True if at least one of the conditions (or operands) is True.\n\nIt only returns False if both conditions are False.",
      "metadata": {
        "slideshow": {
          "slide_type": "subslide"
        }
      }
    },
    {
      "id": "9ac5cf94",
      "cell_type": "markdown",
      "source": "## not Operator\nThe or operator returns the opposite outcome of a Boolean object",
      "metadata": {
        "slideshow": {
          "slide_type": "fragment"
        }
      }
    },
    {
      "id": "6e20bcba",
      "cell_type": "markdown",
      "source": "- True and True is True\n- True and False is False\n- False and True is False\n- False and False is False\n- True or True is True\n- True or False is True\n- False or True is True\n- False or False is False\n- not True is False\n- not False is True\n",
      "metadata": {
        "slideshow": {
          "slide_type": "subslide"
        }
      }
    },
    {
      "id": "0c770251",
      "cell_type": "code",
      "source": "3 and 4",
      "metadata": {
        "slideshow": {
          "slide_type": "subslide"
        },
        "trusted": true
      },
      "outputs": [],
      "execution_count": null
    },
    {
      "id": "14bea090",
      "cell_type": "code",
      "source": "0 and 4",
      "metadata": {
        "slideshow": {
          "slide_type": "fragment"
        },
        "trusted": true
      },
      "outputs": [],
      "execution_count": null
    },
    {
      "id": "f64af1fb",
      "cell_type": "code",
      "source": "0 or 3",
      "metadata": {
        "slideshow": {
          "slide_type": "fragment"
        },
        "trusted": true
      },
      "outputs": [],
      "execution_count": null
    },
    {
      "id": "26a4af1a",
      "cell_type": "code",
      "source": "3 or 0",
      "metadata": {
        "slideshow": {
          "slide_type": "fragment"
        },
        "trusted": true
      },
      "outputs": [],
      "execution_count": null
    },
    {
      "id": "d9db9250",
      "cell_type": "markdown",
      "source": "### Precedence\nnot > and > or ",
      "metadata": {
        "slideshow": {
          "slide_type": "subslide"
        }
      }
    },
    {
      "id": "b9f0be68",
      "cell_type": "code",
      "source": "bool(3 and not 5 or 1 or not 0 and 8)",
      "metadata": {
        "slideshow": {
          "slide_type": "fragment"
        },
        "trusted": true
      },
      "outputs": [],
      "execution_count": null
    },
    {
      "id": "8a78ffce",
      "cell_type": "code",
      "source": "bool(3 and False or 1 or True and 8)",
      "metadata": {
        "slideshow": {
          "slide_type": "fragment"
        },
        "trusted": true
      },
      "outputs": [],
      "execution_count": null
    },
    {
      "id": "5c8b0570",
      "cell_type": "code",
      "source": "bool(False or True or True)",
      "metadata": {
        "slideshow": {
          "slide_type": "fragment"
        },
        "trusted": true
      },
      "outputs": [],
      "execution_count": null
    },
    {
      "id": "50c67ceb",
      "cell_type": "markdown",
      "source": "### Short-circuiting\nShort-circuiting is a behavior in programming where the evaluation of a logical expression stops as soon as the result is determined",
      "metadata": {
        "slideshow": {
          "slide_type": "subslide"
        }
      }
    },
    {
      "id": "4361d396",
      "cell_type": "code",
      "source": "2 and 3",
      "metadata": {
        "slideshow": {
          "slide_type": "fragment"
        },
        "trusted": true
      },
      "outputs": [],
      "execution_count": null
    },
    {
      "id": "3d0ed0db",
      "cell_type": "code",
      "source": "2 or 3",
      "metadata": {
        "slideshow": {
          "slide_type": "fragment"
        },
        "trusted": true
      },
      "outputs": [],
      "execution_count": null
    },
    {
      "id": "46a3a59f",
      "cell_type": "code",
      "source": "0 and 3",
      "metadata": {
        "slideshow": {
          "slide_type": "fragment"
        },
        "trusted": true
      },
      "outputs": [],
      "execution_count": null
    },
    {
      "id": "3499a741",
      "cell_type": "code",
      "source": "0 or 3",
      "metadata": {
        "slideshow": {
          "slide_type": "fragment"
        },
        "trusted": true
      },
      "outputs": [],
      "execution_count": null
    },
    {
      "id": "a103844f",
      "cell_type": "markdown",
      "source": "### Question:\n\n#### what is False or 0 or set() and 4 or 6 and 9=?\n\n",
      "metadata": {
        "slideshow": {
          "slide_type": "subslide"
        }
      }
    },
    {
      "id": "d470a168",
      "cell_type": "markdown",
      "source": "First calculate and, then calculate or\n\n",
      "metadata": {
        "slideshow": {
          "slide_type": "fragment"
        }
      }
    },
    {
      "id": "4094b195",
      "cell_type": "markdown",
      "source": "False or 0 or (set() and 4) or (6 and 9)",
      "metadata": {
        "slideshow": {
          "slide_type": "fragment"
        }
      }
    },
    {
      "id": "0380fe3d",
      "cell_type": "markdown",
      "source": "False or 0 or set() or 9 = 9",
      "metadata": {
        "slideshow": {
          "slide_type": "fragment"
        }
      }
    },
    {
      "id": "ea7465b1",
      "cell_type": "code",
      "source": "False or 0 or set() and 6 and 9 or 4 ",
      "metadata": {
        "slideshow": {
          "slide_type": "fragment"
        },
        "trusted": true
      },
      "outputs": [],
      "execution_count": null
    },
    {
      "id": "a4e38477",
      "cell_type": "markdown",
      "source": "## Bitwise Operators\n'&', '|', '^', '~', '<<', '>>'\n\ntransform two integer numbers to 8-digit binary number and do comparizon elementwise!\n\n'a^b': output 1 if a!=b\na",
      "metadata": {
        "slideshow": {
          "slide_type": "subslide"
        }
      }
    },
    {
      "id": "bb97ceec",
      "cell_type": "markdown",
      "source": "'&', '|', '^', '~', '<<', '>>'\n\ntransform two integer numbers to 8-digit binary number and do comparizon elementwise!\n\n'a^b': output 1 if a!=b a",
      "metadata": {
        "slideshow": {
          "slide_type": "fragment"
        }
      }
    },
    {
      "id": "f06453ac",
      "cell_type": "code",
      "source": "a = 3\nb = 5\n\nprint(bin(a)[2:].zfill(8))  \nprint(bin(b)[2:].zfill(8))\n",
      "metadata": {
        "slideshow": {
          "slide_type": "subslide"
        },
        "trusted": true
      },
      "outputs": [],
      "execution_count": null
    },
    {
      "id": "36926e25",
      "cell_type": "code",
      "source": "print(a&b)\nprint(bin(a&b)[2:].zfill(8))\nprint(bin(a)[2:].zfill(8))  \nprint(bin(b)[2:].zfill(8))\n",
      "metadata": {
        "slideshow": {
          "slide_type": "fragment"
        },
        "trusted": true
      },
      "outputs": [],
      "execution_count": null
    },
    {
      "id": "d46aa07c",
      "cell_type": "code",
      "source": "print(a|b)\nprint(bin(a|b)[2:].zfill(8))\nprint(bin(a)[2:].zfill(8))  \nprint(bin(b)[2:].zfill(8))",
      "metadata": {
        "slideshow": {
          "slide_type": "subslide"
        },
        "trusted": true
      },
      "outputs": [],
      "execution_count": null
    },
    {
      "id": "bae5f245",
      "cell_type": "code",
      "source": "print(a^b)\nprint(bin(a^b)[2:].zfill(8))\nprint(bin(a)[2:].zfill(8))  \nprint(bin(b)[2:].zfill(8))",
      "metadata": {
        "slideshow": {
          "slide_type": "fragment"
        },
        "trusted": true
      },
      "outputs": [],
      "execution_count": null
    },
    {
      "id": "dbee689e",
      "cell_type": "code",
      "source": "print(~3)\nprint(~100)",
      "metadata": {
        "slideshow": {
          "slide_type": "subslide"
        },
        "trusted": true
      },
      "outputs": [],
      "execution_count": null
    },
    {
      "id": "2d4fdb18",
      "cell_type": "markdown",
      "source": "1. In binary representation, 3 is (simplified to 8 bits): 00000011\n\n2. After using the ~ operator, all bits are inverted: 11111100\n\n3. In computers, this number is represented using Two's Complement: The highest bit is 1, indicating it's a negative number\n\n4. To get the value of this negative number, we need to:\n\n        (1) Invert: 11111100 -> 00000011\n        (2) Add 1: 00000011 + 1 = 00000100\n        (3) Add negative sign: -(4)\n\nIn summary: ~a = -(a+1)",
      "metadata": {
        "slideshow": {
          "slide_type": "fragment"
        }
      }
    },
    {
      "id": "430f8392",
      "cell_type": "code",
      "source": "print(bin(3)[2:].zfill(8))\nprint(bin(3<<5)[2:].zfill(8))",
      "metadata": {
        "slideshow": {
          "slide_type": "subslide"
        },
        "trusted": true
      },
      "outputs": [],
      "execution_count": null
    },
    {
      "id": "d32008b7",
      "cell_type": "code",
      "source": "###  a<<b = a * 2 ** b\n \nprint(3<<5)\nprint(3 * 2 ** 5)",
      "metadata": {
        "slideshow": {
          "slide_type": "fragment"
        },
        "trusted": true
      },
      "outputs": [],
      "execution_count": null
    },
    {
      "id": "aa4a2142",
      "cell_type": "code",
      "source": "print(bin(3)[2:].zfill(8))\nprint(bin(3>>5)[2:].zfill(8))",
      "metadata": {
        "slideshow": {
          "slide_type": "subslide"
        },
        "trusted": true
      },
      "outputs": [],
      "execution_count": null
    },
    {
      "id": "89d98dd4",
      "cell_type": "code",
      "source": "###  a>>b = a // 2 ** b\n\nprint(1783>>5)\nprint(1783 // 2 ** 5)",
      "metadata": {
        "slideshow": {
          "slide_type": "fragment"
        },
        "trusted": true
      },
      "outputs": [],
      "execution_count": null
    },
    {
      "id": "3fcca6e7",
      "cell_type": "markdown",
      "source": "## Membership Operators\n",
      "metadata": {
        "slideshow": {
          "slide_type": "subslide"
        }
      }
    },
    {
      "id": "43a58c6c",
      "cell_type": "markdown",
      "source": "'in' and 'not in'",
      "metadata": {
        "slideshow": {
          "slide_type": "fragment"
        }
      }
    },
    {
      "id": "a3a8ca3a",
      "cell_type": "code",
      "source": "fruits= ['apple', 'banana', 'orange']",
      "metadata": {
        "slideshow": {
          "slide_type": "fragment"
        },
        "trusted": true
      },
      "outputs": [],
      "execution_count": null
    },
    {
      "id": "add2d4e8",
      "cell_type": "code",
      "source": "'apple' in fruits",
      "metadata": {
        "slideshow": {
          "slide_type": "fragment"
        },
        "trusted": true
      },
      "outputs": [],
      "execution_count": null
    },
    {
      "id": "265b94f3",
      "cell_type": "code",
      "source": "'beef' in fruits",
      "metadata": {
        "slideshow": {
          "slide_type": "fragment"
        },
        "trusted": true
      },
      "outputs": [],
      "execution_count": null
    },
    {
      "id": "2a52b5fd",
      "cell_type": "code",
      "source": "'beef' not in fruits",
      "metadata": {
        "slideshow": {
          "slide_type": "fragment"
        },
        "trusted": true
      },
      "outputs": [],
      "execution_count": null
    },
    {
      "id": "f3e9e445",
      "cell_type": "markdown",
      "source": "## Exercise",
      "metadata": {
        "slideshow": {
          "slide_type": "subslide"
        }
      }
    },
    {
      "id": "31d6477e",
      "cell_type": "markdown",
      "source": "Problem 1: \nwhat will be the value of z?\n\nx = 10\n\ny = 3\n\nz = x + y * 2 - x // y + 1",
      "metadata": {}
    },
    {
      "id": "657bfa8c",
      "cell_type": "markdown",
      "source": "Problem 2:\nWhat will be the value of the result after the following operations? Do not use your computer.\n\nresult = 20\n\nresult += 5\n\nresult *= 2\n\nresult >>= 1\n",
      "metadata": {}
    },
    {
      "id": "e7641e8b",
      "cell_type": "markdown",
      "source": "# Summary:\n\n",
      "metadata": {
        "slideshow": {
          "slide_type": "subslide"
        }
      }
    },
    {
      "id": "8e139049",
      "cell_type": "markdown",
      "source": "1. Vairables and Literals\n",
      "metadata": {
        "slideshow": {
          "slide_type": "fragment"
        }
      }
    },
    {
      "id": "9b9ceb37",
      "cell_type": "markdown",
      "source": "    - numerical \n    - string\n    - Boolean",
      "metadata": {
        "slideshow": {
          "slide_type": "fragment"
        }
      }
    },
    {
      "id": "5511ac8f",
      "cell_type": "markdown",
      "source": "2. Operators",
      "metadata": {
        "slideshow": {
          "slide_type": "fragment"
        }
      }
    },
    {
      "id": "dd8de2b0",
      "cell_type": "markdown",
      "source": "    - Arithmetic \n    - Comparizon\n    - Logic\n    - Bitwise\n    - Membership\n    ",
      "metadata": {
        "slideshow": {
          "slide_type": "fragment"
        }
      }
    },
    {
      "id": "dd2008c3",
      "cell_type": "markdown",
      "source": "## operator precedence from highest to lowest\n\n1. Parentheses: ()\n2. Exponentiation: **\n3. Unary plus, minus, and bitwise NOT: +x, -x, ~x\n4. Multiplication, Division, Floor Division, and Modulus: *, /, //, %\n5. Addition and Subtraction: +, -\n6. Bitwise Shift Operators: <<, >>\n7. Bitwise AND: &\n8. Bitwise XOR: ^\n9. Bitwise OR: |\n10. Comparison Operators: ==, !=, >, >=, <, <=, is, is not, in, not in\n11. Boolean NOT: not x\n12. Boolean AND: and\n13. Boolean OR: or",
      "metadata": {
        "slideshow": {
          "slide_type": "subslide"
        }
      }
    },
    {
      "id": "d79499a4",
      "cell_type": "markdown",
      "source": "# Dissecting Your Program",
      "metadata": {
        "slideshow": {
          "slide_type": "slide"
        }
      }
    },
    {
      "id": "a56163ed",
      "cell_type": "markdown",
      "source": "## Basic Syntax Rules\nIndentation, comments, and statements.",
      "metadata": {
        "slideshow": {
          "slide_type": "subslide"
        }
      }
    },
    {
      "id": "34a4dd9e",
      "cell_type": "markdown",
      "source": "## Indentation\nPython uses indentation to define blocks of code, making it a crucial part of Python's syntax. Unlike other programming languages that use brackets or keywords, Python relies on indentation for code structure.",
      "metadata": {
        "slideshow": {
          "slide_type": "subslide"
        }
      }
    },
    {
      "id": "20d28596",
      "cell_type": "code",
      "source": "message = 'hello word'\nx = 1\nprint(message)\n print(x)",
      "metadata": {
        "slideshow": {
          "slide_type": "fragment"
        },
        "trusted": true
      },
      "outputs": [],
      "execution_count": null
    },
    {
      "id": "60961ee3",
      "cell_type": "code",
      "source": "x = 12\nif x > 10:\nprint(x)",
      "metadata": {
        "slideshow": {
          "slide_type": "fragment"
        },
        "trusted": true
      },
      "outputs": [],
      "execution_count": null
    },
    {
      "id": "49b384b9",
      "cell_type": "markdown",
      "source": "# Comments\n## Comments are essential for code readability and maintenance\n",
      "metadata": {
        "slideshow": {
          "slide_type": "subslide"
        }
      }
    },
    {
      "id": "03cfb853",
      "cell_type": "code",
      "source": "# This is a game to guess my age.\n# My age\nmy_age = 33 \n# tell player to guess my age\nprint('please guess my age')\n# player's guess\nguess = int(input())\n# Tell the player the outcome\nif guess == my_age:\n    print('Wow, you are right')\nelse:\n    print(\"Sorry, that's not correct.\")",
      "metadata": {
        "slideshow": {
          "slide_type": "fragment"
        },
        "trusted": true
      },
      "outputs": [],
      "execution_count": null
    },
    {
      "id": "00f28e76",
      "cell_type": "markdown",
      "source": "## Code documentation\n",
      "metadata": {
        "slideshow": {
          "slide_type": "subslide"
        }
      }
    },
    {
      "id": "c715e556",
      "cell_type": "markdown",
      "source": "<div>\n<img src=\"./bmi.png\" width=\"1000\"/>\n</div>",
      "metadata": {
        "slideshow": {
          "slide_type": "fragment"
        }
      }
    },
    {
      "id": "8770785f",
      "cell_type": "markdown",
      "source": "## Code Explaination\n",
      "metadata": {
        "slideshow": {
          "slide_type": "subslide"
        }
      }
    },
    {
      "id": "3c44b6fe",
      "cell_type": "markdown",
      "source": "<div>\n<img src=\"./bsea.png\" width=\"1000\"/>\n</div>",
      "metadata": {
        "slideshow": {
          "slide_type": "fragment"
        }
      }
    },
    {
      "id": "9f4a5964",
      "cell_type": "markdown",
      "source": "## Statement\nA Python statement is a unit of code that performs an action. ",
      "metadata": {
        "slideshow": {
          "slide_type": "subslide"
        }
      }
    },
    {
      "id": "f174811e",
      "cell_type": "markdown",
      "source": "## assignment statement",
      "metadata": {
        "slideshow": {
          "slide_type": "fragment"
        }
      }
    },
    {
      "id": "3cd785c8",
      "cell_type": "code",
      "source": "x = 100",
      "metadata": {
        "slideshow": {
          "slide_type": "fragment"
        },
        "trusted": true
      },
      "outputs": [],
      "execution_count": null
    },
    {
      "id": "7f152aa2",
      "cell_type": "markdown",
      "source": "### use '/' for multiple-line statment\n",
      "metadata": {
        "slideshow": {
          "slide_type": "subslide"
        }
      }
    },
    {
      "id": "b342eb1b",
      "cell_type": "code",
      "source": "total = 1 + 2 + 3 + 4 + 5 + 6 + \\\n        7 + 8 + 9 + 10\nprint(total)",
      "metadata": {
        "trusted": true
      },
      "outputs": [],
      "execution_count": null
    },
    {
      "id": "c9d3102a",
      "cell_type": "markdown",
      "source": "### use ',' for multiple statement in one line",
      "metadata": {}
    },
    {
      "id": "bb61a26a",
      "cell_type": "code",
      "source": "x = 10; y = 20; z = x + y; print(z)",
      "metadata": {
        "trusted": true
      },
      "outputs": [],
      "execution_count": null
    },
    {
      "id": "95b4cb4f",
      "cell_type": "markdown",
      "source": "## Keywords and build-in method",
      "metadata": {
        "slideshow": {
          "slide_type": "slide"
        }
      }
    },
    {
      "id": "a68a3b83",
      "cell_type": "markdown",
      "source": "Python comes with built-in keywords and functions: keywords are reserved words with special meanings, while built-in functions are pre-defined tools ready for us to use.\n\n**Note**: Keywords cannot be used as variable names (like if, while, for), while built-in function names can be used as variables (like sum, max, len) - though it's not recommended as it will override their original functionality.",
      "metadata": {
        "slideshow": {
          "slide_type": "fragment"
        }
      }
    },
    {
      "id": "204a1600",
      "cell_type": "code",
      "source": "False = 1",
      "metadata": {
        "slideshow": {
          "slide_type": "fragment"
        },
        "trusted": true
      },
      "outputs": [],
      "execution_count": null
    },
    {
      "id": "d5f4de64",
      "cell_type": "code",
      "source": "await = 1",
      "metadata": {
        "slideshow": {
          "slide_type": "fragment"
        },
        "trusted": true
      },
      "outputs": [],
      "execution_count": null
    },
    {
      "id": "c3a12f26",
      "cell_type": "code",
      "source": "continue = 1",
      "metadata": {
        "slideshow": {
          "slide_type": "fragment"
        },
        "trusted": true
      },
      "outputs": [],
      "execution_count": null
    },
    {
      "id": "dd559753",
      "cell_type": "code",
      "source": "import keyword\nprint(keyword.kwlist)",
      "metadata": {
        "slideshow": {
          "slide_type": "fragment"
        },
        "trusted": true
      },
      "outputs": [],
      "execution_count": null
    },
    {
      "id": "71cfd537",
      "cell_type": "markdown",
      "source": "# Some build-in functions",
      "metadata": {
        "slideshow": {
          "slide_type": "subslide"
        }
      }
    },
    {
      "id": "39f9998a",
      "cell_type": "markdown",
      "source": "## type: Returns the type of an object",
      "metadata": {
        "slideshow": {
          "slide_type": "fragment"
        }
      }
    },
    {
      "id": "94b65136",
      "cell_type": "code",
      "source": "print(f'type of 10 is {type(10)}')",
      "metadata": {
        "slideshow": {
          "slide_type": "fragment"
        },
        "trusted": true
      },
      "outputs": [],
      "execution_count": null
    },
    {
      "id": "9f481c83",
      "cell_type": "code",
      "source": "print(f\"type of '10' is {type('10')}\")",
      "metadata": {
        "slideshow": {
          "slide_type": "fragment"
        },
        "trusted": true
      },
      "outputs": [],
      "execution_count": null
    },
    {
      "id": "b032910b",
      "cell_type": "markdown",
      "source": "## input: \tAllowing user input",
      "metadata": {
        "slideshow": {
          "slide_type": "subslide"
        }
      }
    },
    {
      "id": "a09331b3",
      "cell_type": "code",
      "source": "x = input()\ntype(x)",
      "metadata": {
        "slideshow": {
          "slide_type": "fragment"
        },
        "trusted": true
      },
      "outputs": [],
      "execution_count": null
    },
    {
      "id": "f52da5dd",
      "cell_type": "markdown",
      "source": "## print: Prints to the standard output device",
      "metadata": {
        "slideshow": {
          "slide_type": "fragment"
        }
      }
    },
    {
      "id": "2b4fe8e6",
      "cell_type": "code",
      "source": "print(x)",
      "metadata": {
        "slideshow": {
          "slide_type": "fragment"
        },
        "trusted": true
      },
      "outputs": [],
      "execution_count": null
    },
    {
      "id": "d546a457",
      "cell_type": "markdown",
      "source": "More build-in functions: https://www.w3schools.com/python/python_ref_functions.asp\n",
      "metadata": {
        "slideshow": {
          "slide_type": "fragment"
        }
      }
    },
    {
      "id": "0afa4a3e",
      "cell_type": "code",
      "source": "abs(-5)",
      "metadata": {
        "trusted": true
      },
      "outputs": [],
      "execution_count": null
    },
    {
      "id": "2908bb36",
      "cell_type": "code",
      "source": "abs = 10\nabs(-5)",
      "metadata": {
        "trusted": true
      },
      "outputs": [],
      "execution_count": null
    },
    {
      "id": "1c90c7bc",
      "cell_type": "markdown",
      "source": "# Programing Design",
      "metadata": {
        "slideshow": {
          "slide_type": "slide"
        }
      }
    },
    {
      "id": "1ea02d33",
      "cell_type": "markdown",
      "source": "## We have three basic coding structure: Sequence; Selection;Iteration\n",
      "metadata": {
        "slideshow": {
          "slide_type": "fragment"
        }
      }
    },
    {
      "id": "931a089e",
      "cell_type": "markdown",
      "source": "<div>\n<img src=\"./03_strua.gif\" width=\"1200\"/>\n</div>",
      "metadata": {
        "slideshow": {
          "slide_type": "fragment"
        }
      }
    },
    {
      "id": "2c6e5002",
      "cell_type": "markdown",
      "source": "# Conditions and If statements",
      "metadata": {
        "slideshow": {
          "slide_type": "slide"
        }
      }
    },
    {
      "id": "07a77e47",
      "cell_type": "markdown",
      "source": "<div>\n<img src=\"./if1.png\" width=\"1200\"/>\n</div>",
      "metadata": {
        "slideshow": {
          "slide_type": "subslide"
        }
      }
    },
    {
      "id": "0354f38b",
      "cell_type": "markdown",
      "source": "<div>\n<img src=\"./if2.png\" width=\"1200\"/>\n</div>",
      "metadata": {
        "slideshow": {
          "slide_type": "subslide"
        }
      }
    },
    {
      "id": "e08d28c8",
      "cell_type": "markdown",
      "source": "<div>\n<img src=\"./if3.png\" width=\"1200\"/>\n</div>",
      "metadata": {
        "slideshow": {
          "slide_type": "subslide"
        }
      }
    },
    {
      "id": "c5b5c17d",
      "cell_type": "markdown",
      "source": "# if statement",
      "metadata": {
        "slideshow": {
          "slide_type": "subslide"
        }
      }
    },
    {
      "id": "745a30ed",
      "cell_type": "markdown",
      "source": "The syntax is",
      "metadata": {
        "slideshow": {
          "slide_type": "fragment"
        }
      }
    },
    {
      "id": "c79a489c",
      "cell_type": "markdown",
      "source": "<pre>if condition:\n    statement 1\n    statement 2\n    statement 3\n</pre>",
      "metadata": {}
    },
    {
      "id": "226ab8c5",
      "cell_type": "code",
      "source": "x = 18\nprint('Value of x is: ', x)\nif x < 10:\n    print('x is less than 10')\n    print('x is a single digit number')\nprint('This is last line')",
      "metadata": {
        "slideshow": {
          "slide_type": "fragment"
        },
        "trusted": true
      },
      "outputs": [],
      "execution_count": null
    },
    {
      "id": "ea3d5aac",
      "cell_type": "code",
      "source": "x = 1\nprint('Value of x is: ', x)\nif x < 10:\n    print('x is less than 10')\n    print('x is a single digit number')\nprint('This is last line')",
      "metadata": {
        "slideshow": {
          "slide_type": "fragment"
        },
        "trusted": true
      },
      "outputs": [],
      "execution_count": null
    },
    {
      "id": "b315f72e",
      "cell_type": "markdown",
      "source": "### Multiple conditions",
      "metadata": {
        "slideshow": {
          "slide_type": "subslide"
        }
      }
    },
    {
      "id": "cbc8c59f",
      "cell_type": "markdown",
      "source": "In all the above examples, we provide a single condition in with the if-statement, but we can give multiple conditions too.",
      "metadata": {}
    },
    {
      "id": "d83bab58",
      "cell_type": "code",
      "source": "x = 25\nprint('Value of x is: ', x)\nif x > 10 and x < 20 or x == 25:\n    print('x is greater than 10')\n    print('x is smaller than 20')\n    print('x is not 15')\n    x = 10\nprint('This is last line')\nprint(x)",
      "metadata": {
        "slideshow": {
          "slide_type": "fragment"
        },
        "trusted": true
      },
      "outputs": [],
      "execution_count": null
    },
    {
      "id": "024d5390",
      "cell_type": "code",
      "source": "x = 15\nprint('Value of x is: ', x)\nif x > 10 and x < 20 and x != 15:\n    print('x is greater than 10')\n    print('x is smaller than 20')\n    print('x is not 15')\nprint('This is last line')",
      "metadata": {
        "slideshow": {
          "slide_type": "fragment"
        },
        "trusted": true
      },
      "outputs": [],
      "execution_count": null
    },
    {
      "id": "60d6d10a",
      "cell_type": "markdown",
      "source": "## if...else statement",
      "metadata": {
        "slideshow": {
          "slide_type": "subslide"
        }
      }
    },
    {
      "id": "c6cace32",
      "cell_type": "markdown",
      "source": "The syntax is",
      "metadata": {
        "slideshow": {
          "slide_type": "fragment"
        }
      }
    },
    {
      "id": "b7927614",
      "cell_type": "markdown",
      "source": "<pre>if condition:\n    statement 1\n    statement 2\n    statement 3\nelse:\n    statement 4\n    statement 5\n    statement 6\n</pre>",
      "metadata": {}
    },
    {
      "id": "cb6713e2",
      "cell_type": "code",
      "source": "x = 15\nif x > 10:\n    print('x :: ', x)\n    x = x + 1\n    print('x :: ', x)\nelse:\n    print('x is fine')\n    print('No need to change the x')\nprint('Last statement')",
      "metadata": {
        "slideshow": {
          "slide_type": "subslide"
        },
        "trusted": true
      },
      "outputs": [],
      "execution_count": null
    },
    {
      "id": "a8dc1764",
      "cell_type": "code",
      "source": "x = 1\nif x > 10:\n    print('x :: ', x)\n    x = x + 1\n    print('x :: ', x)\nelse:\n    print('x is fine')\n    print('No need to change the x')\nprint('Last statement')",
      "metadata": {
        "slideshow": {
          "slide_type": "fragment"
        },
        "trusted": true
      },
      "outputs": [],
      "execution_count": null
    },
    {
      "id": "ed1674a4",
      "cell_type": "markdown",
      "source": "## if…elif…else statement",
      "metadata": {
        "slideshow": {
          "slide_type": "subslide"
        }
      }
    },
    {
      "id": "9f46ebcf",
      "cell_type": "markdown",
      "source": "The syntax is",
      "metadata": {
        "slideshow": {
          "slide_type": "fragment"
        }
      }
    },
    {
      "id": "18ac9105",
      "cell_type": "markdown",
      "source": "<pre>\nIf condition_1:\n    Statement 1\n    Statement 2\nelif condition_2:\n    Statement 3\n    Statement 4\nelif condition_3:\n    Statement 5\n    Statement 6\nelse:\n    Statement 7\n    Statement 8\n</pre>",
      "metadata": {}
    },
    {
      "id": "d4d9ac73",
      "cell_type": "code",
      "source": "x = 2\nif x  < 3:\n    print('The if-block')\n    print('x is smaller than 3')\nelif 3 < x < 10:\n    print('First elif block')\n    print('x is between 3 & 10')\nelif 10 < x < 20:\n    print('Second elif block')\n    print('x is between 10 & 20')\nelse:\n    print('The else block')\n    print('x is greater than 20')",
      "metadata": {
        "slideshow": {
          "slide_type": "subslide"
        },
        "trusted": true
      },
      "outputs": [],
      "execution_count": null
    },
    {
      "id": "59d9275b",
      "cell_type": "code",
      "source": "x = 5\nif x  < 3:\n    print('The if-block')\n    print('x is smaller than 3')\nelif 3 < x < 10:\n    print('First elif block')\n    print('x is between 3 & 10')\nelif 10 < x < 20:\n    print('Second elif block')\n    print('x is between 10 & 20')\nelse:\n    print('The else block')\n    print('x is greater than 20')",
      "metadata": {
        "slideshow": {
          "slide_type": "fragment"
        },
        "trusted": true
      },
      "outputs": [],
      "execution_count": null
    },
    {
      "id": "67c3d5a9",
      "cell_type": "markdown",
      "source": "## if..else in a single line (ternary operator)",
      "metadata": {
        "slideshow": {
          "slide_type": "subslide"
        }
      }
    },
    {
      "id": "5dc1258c",
      "cell_type": "markdown",
      "source": "Syntax of if...else in a line",
      "metadata": {
        "slideshow": {
          "slide_type": "fragment"
        }
      }
    },
    {
      "id": "99b02607",
      "cell_type": "markdown",
      "source": "<pre>\nvalue_1 if condition_1 else value_2 if condition_2 else value_3 .. \n</pre>",
      "metadata": {
        "slideshow": {
          "slide_type": "fragment"
        }
      }
    },
    {
      "id": "84ca777d",
      "cell_type": "markdown",
      "source": "When the condition evaluates to True, then the result of this one-liner if..else expression will be **value_1**. Whereas, if the condition evaluates to False, then the result of this one-liner expression will be **value_2**. Let’s see some examples of it.",
      "metadata": {
        "slideshow": {
          "slide_type": "fragment"
        }
      }
    },
    {
      "id": "da580466",
      "cell_type": "code",
      "source": "a = 6\nx = 10 if a>5 else 0\nprint(x)",
      "metadata": {
        "slideshow": {
          "slide_type": "fragment"
        },
        "trusted": true
      },
      "outputs": [],
      "execution_count": null
    },
    {
      "id": "66d07c59",
      "cell_type": "code",
      "source": "if a>5:\n    x=10\nelse:\n    x=0\nprint(x)",
      "metadata": {
        "slideshow": {
          "slide_type": "fragment"
        },
        "trusted": true
      },
      "outputs": [],
      "execution_count": null
    },
    {
      "id": "e5483982",
      "cell_type": "markdown",
      "source": "### Exercise:\n\nInput a score from 0 to 100:\n- 90-100分为A\n- 80-89分为B\n- 70-79分为C\n- 60-69分为D\n- 60分以下为F",
      "metadata": {
        "slideshow": {
          "slide_type": "subslide"
        }
      }
    },
    {
      "id": "7b3fe18d",
      "cell_type": "code",
      "source": "score = int(input(\"Please input a score in [0,100]:\"))\nif score>= 90:\n    grade = 'A'\nelif score>= 80:\n    grade = 'B'\nelif score>= 70:\n    grade = 'C'\nelif score>= 60:\n    grade = 'D'\nelse:\n    grade = 'F'\nprint(grade)",
      "metadata": {
        "slideshow": {
          "slide_type": "subslide"
        },
        "trusted": true
      },
      "outputs": [],
      "execution_count": null
    },
    {
      "id": "1a0c3793",
      "cell_type": "code",
      "source": "score = int(input(\"Please input a score in [0,100]:\"))\n\ngrade = 'A' if score>=90 else 'B' if score >=80 else 'C' if score >=70 else 'D' if score >=60 else 'F'\nprint(grade)",
      "metadata": {
        "slideshow": {
          "slide_type": "fragment"
        },
        "trusted": true
      },
      "outputs": [],
      "execution_count": null
    },
    {
      "id": "453fb5ec",
      "cell_type": "markdown",
      "source": "While using the if-else statement in one line, we should prefer using parenthesis to avoid confusion. For example,",
      "metadata": {
        "slideshow": {
          "slide_type": "fragment"
        }
      }
    },
    {
      "id": "d828075c",
      "cell_type": "code",
      "source": "x = 20\nres = 10 + 10 if x > 100 else 0\nprint(res)\nres = 10 + (10 if x > 100 else 0)\nprint(res)",
      "metadata": {
        "scrolled": true,
        "slideshow": {
          "slide_type": "fragment"
        },
        "trusted": true
      },
      "outputs": [],
      "execution_count": null
    },
    {
      "id": "8f3686c4",
      "cell_type": "markdown",
      "source": "It is better to use a parenthesis ",
      "metadata": {
        "slideshow": {
          "slide_type": "fragment"
        }
      }
    },
    {
      "id": "58859397",
      "cell_type": "markdown",
      "source": "### Exercise:\n\nCheck if a year a leap year:\n- Divisible by 4\n\n- Not divisible by 100 unless also divisible by 400",
      "metadata": {
        "slideshow": {
          "slide_type": "subslide"
        }
      }
    },
    {
      "id": "56493e20",
      "cell_type": "code",
      "source": "year = int(input(\"Input a year：\"))\nif (year % 4 == 0 and year % 100 != 0) or (year % 400 == 0):\n    print(f'{year} is a leap year')\nelse:\n    print(f'{year} is not a leap year')\n\n",
      "metadata": {
        "slideshow": {
          "slide_type": "subslide"
        },
        "trusted": true
      },
      "outputs": [],
      "execution_count": null
    },
    {
      "id": "5cfbb220",
      "cell_type": "markdown",
      "source": "Nested condition:",
      "metadata": {
        "slideshow": {
          "slide_type": "subslide"
        }
      }
    },
    {
      "id": "23d93e2e",
      "cell_type": "code",
      "source": "year = int(input(\"Input a year：\"))\n\nif year % 4 ==0:\n    if year % 100 ==0:\n        if year % 400 ==0:\n            print(f'{year} is a leap year')\n        else:\n            print(f'{year} is not a leap year')\n    else:    \n        print(f'{year} is a leap year')\n\nelse:\n    print(f'{year} is not a leap year')\n",
      "metadata": {
        "slideshow": {
          "slide_type": "fragment"
        },
        "trusted": true
      },
      "outputs": [],
      "execution_count": null
    },
    {
      "id": "df99ca1f",
      "cell_type": "markdown",
      "source": "## Loops",
      "metadata": {
        "slideshow": {
          "slide_type": "slide"
        }
      }
    },
    {
      "id": "bef51605",
      "cell_type": "markdown",
      "source": "A while loop executes a group of statements or a suite of statements multiple times, stops untill a given condition is False.",
      "metadata": {
        "slideshow": {
          "slide_type": "fragment"
        }
      }
    },
    {
      "id": "17a8ea23",
      "cell_type": "markdown",
      "source": "## While loop",
      "metadata": {
        "slideshow": {
          "slide_type": "subslide"
        }
      }
    },
    {
      "id": "17bd91f5",
      "cell_type": "code",
      "source": "# Use while loop to calculate 1^3 + 2^3 +...+100^3\nx = 0\nsum_cube = 0\nwhile x <= 100:\n    sum_cube = sum_cube + x**3\n    x = x + 1 # x += 1\nprint(sum_cube)\n\n",
      "metadata": {
        "slideshow": {
          "slide_type": "fragment"
        },
        "trusted": true
      },
      "outputs": [],
      "execution_count": null
    },
    {
      "id": "b06c209a",
      "cell_type": "code",
      "source": "y1 = 1\ny2 =0.5 \nwhile abs(y1-y2)>1e-5:\n    print(y1 - y2)\n    y2 += 0.1",
      "metadata": {
        "slideshow": {
          "slide_type": "fragment"
        },
        "trusted": true
      },
      "outputs": [],
      "execution_count": null
    },
    {
      "id": "5518eb56",
      "cell_type": "markdown",
      "source": "###  While loop with multiple conditions",
      "metadata": {
        "slideshow": {
          "slide_type": "subslide"
        }
      }
    },
    {
      "id": "da03ced7",
      "cell_type": "markdown",
      "source": "We can have various conditions in a while statement, and we can use ‘and’ & ‘or’ with these conditions. For example,",
      "metadata": {
        "slideshow": {
          "slide_type": "fragment"
        }
      }
    },
    {
      "id": "1eb54256",
      "cell_type": "code",
      "source": "x = 5\ncount = 0\nwhile x <= 100 and count < 8:\n    if x % 2 == 0:\n        count += 1\n        print(x)\n    x += 1\nprint(count)",
      "metadata": {
        "slideshow": {
          "slide_type": "fragment"
        },
        "trusted": true
      },
      "outputs": [],
      "execution_count": null
    },
    {
      "id": "d403c1a1",
      "cell_type": "code",
      "source": "x = 5\ncount = 0\nwhile x <= 100:\n    if x % 5 == 0:\n        count += 1\n        #print(x)\n    x += 1\nprint(count)\nprint(x)",
      "metadata": {
        "scrolled": true,
        "slideshow": {
          "slide_type": "fragment"
        },
        "trusted": true
      },
      "outputs": [],
      "execution_count": null
    },
    {
      "id": "f97c6c6b",
      "cell_type": "markdown",
      "source": "### While loop with else",
      "metadata": {
        "slideshow": {
          "slide_type": "subslide"
        }
      }
    },
    {
      "id": "6f72f19b",
      "cell_type": "markdown",
      "source": "Similar to if…else, we can have while…else in python, i.e., we can have an else block after a while block i.e.",
      "metadata": {
        "slideshow": {
          "slide_type": "fragment"
        }
      }
    },
    {
      "id": "46c6c634",
      "cell_type": "markdown",
      "source": "<pre>\nwhile condition:\n    statement 1\n    statement 2\n    statement 3\nelse:\n    statement 4\n    statement 5\n</pre>",
      "metadata": {
        "slideshow": {
          "slide_type": "fragment"
        }
      }
    },
    {
      "id": "f79312b2",
      "cell_type": "markdown",
      "source": "While loop will execute statements in the white suite multiple times till the condition evaluates to False. As soon as the condition in while statement evaluates to False, control jumps to the else block and executes all the statements in else suite.",
      "metadata": {
        "slideshow": {
          "slide_type": "fragment"
        }
      }
    },
    {
      "id": "35e36377",
      "cell_type": "code",
      "source": "x = 1\nwhile x <= 10:\n    #print(x)\n    x = x + 1\nelse:\n    print('print values of x:', x)",
      "metadata": {
        "slideshow": {
          "slide_type": "fragment"
        },
        "trusted": true
      },
      "outputs": [],
      "execution_count": null
    },
    {
      "id": "a79d289d",
      "cell_type": "markdown",
      "source": "## For loop",
      "metadata": {
        "slideshow": {
          "slide_type": "subslide"
        }
      }
    },
    {
      "id": "30e0426e",
      "cell_type": "markdown",
      "source": "For loop is useful to iterate over a sequence of elements.",
      "metadata": {
        "slideshow": {
          "slide_type": "fragment"
        }
      }
    },
    {
      "id": "2a6442ca",
      "cell_type": "markdown",
      "source": "the syntax of for loop is",
      "metadata": {
        "slideshow": {
          "slide_type": "fragment"
        }
      }
    },
    {
      "id": "f6280f00",
      "cell_type": "markdown",
      "source": "<pre>\nfor elem in sequence:\n    statement 1\n    statement 2\n    .......\n    .......\n    statement n\n</pre>",
      "metadata": {
        "slideshow": {
          "slide_type": "fragment"
        }
      }
    },
    {
      "id": "8a72ead7",
      "cell_type": "markdown",
      "source": "Here “for” keyword is followed by a variable, then the “in” keyword, then a sequence, and in last, a colon. After the for statement starts the suite of for loop, i.e., a group of statements with one indent level, it is also called the block of for loop.",
      "metadata": {
        "slideshow": {
          "slide_type": "fragment"
        }
      }
    },
    {
      "id": "101365c2",
      "cell_type": "markdown",
      "source": "### Iterate over the characters of string using for loop",
      "metadata": {
        "slideshow": {
          "slide_type": "subslide"
        }
      }
    },
    {
      "id": "cce99846",
      "cell_type": "markdown",
      "source": "We used a string as a sequence. Then using a for loop we iterated over all the characters in the string sequence.",
      "metadata": {
        "slideshow": {
          "slide_type": "fragment"
        }
      }
    },
    {
      "id": "57c8e9b2",
      "cell_type": "code",
      "source": "# Iterate over the characters of string using for loop\nfor elem in 'xmu university':\n    print('Character: ', elem)",
      "metadata": {
        "slideshow": {
          "slide_type": "fragment"
        },
        "trusted": true
      },
      "outputs": [],
      "execution_count": null
    },
    {
      "id": "d590c108",
      "cell_type": "markdown",
      "source": "### Using range() function.\nFunction range() returns a sequence of numbers from start to (end -1) with the given step size",
      "metadata": {
        "slideshow": {
          "slide_type": "subslide"
        }
      }
    },
    {
      "id": "5a4147cb",
      "cell_type": "code",
      "source": "for i in range(5):\n    print('number:',i)",
      "metadata": {
        "slideshow": {
          "slide_type": "fragment"
        },
        "trusted": true
      },
      "outputs": [],
      "execution_count": null
    },
    {
      "id": "7f390ec1",
      "cell_type": "markdown",
      "source": "If I want to print odd numbers from 1 to 10, how do I implement it? ",
      "metadata": {
        "slideshow": {
          "slide_type": "subslide"
        }
      }
    },
    {
      "id": "857720fb",
      "cell_type": "code",
      "source": "for i in range(1, 11, 2):\n    print('Number: ', i)",
      "metadata": {
        "slideshow": {
          "slide_type": "fragment"
        },
        "trusted": true
      },
      "outputs": [],
      "execution_count": null
    },
    {
      "id": "1db47105",
      "cell_type": "markdown",
      "source": "How about numbers from 5 to 1?",
      "metadata": {
        "slideshow": {
          "slide_type": "fragment"
        }
      }
    },
    {
      "id": "6f90a9a6",
      "cell_type": "code",
      "source": "for i in range(5, 0, -1):\n    print('Number: ', i)",
      "metadata": {
        "slideshow": {
          "slide_type": "fragment"
        },
        "trusted": true
      },
      "outputs": [],
      "execution_count": null
    },
    {
      "id": "ae0c6896",
      "cell_type": "markdown",
      "source": "### Use for loop to print elements in a list",
      "metadata": {
        "slideshow": {
          "slide_type": "subslide"
        }
      }
    },
    {
      "id": "76fdefb9",
      "cell_type": "markdown",
      "source": "We can iterate over all the items in a list easily using for loop,",
      "metadata": {
        "slideshow": {
          "slide_type": "fragment"
        }
      }
    },
    {
      "id": "517df240",
      "cell_type": "code",
      "source": "list_of_numbers = [1, 2, 3, 3, 5]\n# iterate over all items in list and print them one by one\nfor elem in list_of_numbers:\n    print(elem)",
      "metadata": {
        "slideshow": {
          "slide_type": "fragment"
        },
        "trusted": true
      },
      "outputs": [],
      "execution_count": null
    },
    {
      "id": "d9eef33c",
      "cell_type": "markdown",
      "source": "### For loop with else block",
      "metadata": {
        "slideshow": {
          "slide_type": "subslide"
        }
      }
    },
    {
      "id": "1b71b7a8",
      "cell_type": "markdown",
      "source": "<pre>\nfor elem in sequence:\n    statement 1\n    statement 2\n    statement 3\nelse:\n    statement 5\n    statement 6\n</pre>",
      "metadata": {
        "slideshow": {
          "slide_type": "fragment"
        }
      }
    },
    {
      "id": "5aecc472",
      "cell_type": "markdown",
      "source": "Once the for loop finishes executing the statements in the for block, then in last, it runs the statements in the else block. The statements in the else block will execute only in last and that too only for one time.",
      "metadata": {
        "slideshow": {
          "slide_type": "fragment"
        }
      }
    },
    {
      "id": "35a7010c",
      "cell_type": "code",
      "source": "for elem in 'Sample':\n    print('Character: ', elem)\nelse:\n    print('-----------')\n    print('End of Loop')\n    print('-----------')",
      "metadata": {
        "scrolled": true,
        "slideshow": {
          "slide_type": "subslide"
        },
        "trusted": true
      },
      "outputs": [],
      "execution_count": null
    },
    {
      "id": "5c9e182c",
      "cell_type": "markdown",
      "source": "# Exercise:\n1. Print the multiplication table (times table) using nested loops\n\nOutput should look like:\n\n1×1=1\n\n1×2=2  2×2=4\n\n1×3=3  2×3=6  3×3=9\n\netc...",
      "metadata": {
        "slideshow": {
          "slide_type": "subslide"
        }
      }
    },
    {
      "id": "b67fde9e",
      "cell_type": "markdown",
      "source": "### Exerise:\ninput a number and decide whether it is a prime number ",
      "metadata": {
        "slideshow": {
          "slide_type": "fragment"
        }
      }
    },
    {
      "id": "c8b099ba",
      "cell_type": "code",
      "source": "for i in range(1,10):\n    for j in range(1,i+1):\n        print(f\"{j} * {i} = {i*j}\", end = '  ')\n    print('\\n')",
      "metadata": {
        "slideshow": {
          "slide_type": "subslide"
        },
        "trusted": true
      },
      "outputs": [],
      "execution_count": null
    },
    {
      "id": "7aa006f4",
      "cell_type": "code",
      "source": "number = int(input('Please input a positive integer:'))\n\nis_prime = True\nif number < 2:\n    is_prime = False\nelif number == 2:\n    is_prime = True\nelse:    \n    for i in range(2, int(number ** 0.5) + 2):\n        if number % i == 0:\n            is_prime = False\n\n\nif is_prime:\n    print(f\"{number} is a prime number\")\nelse:\n    print(f\"{number} is not a prime number\")\n",
      "metadata": {
        "slideshow": {
          "slide_type": "subslide"
        },
        "trusted": true
      },
      "outputs": [],
      "execution_count": null
    },
    {
      "id": "c4473070",
      "cell_type": "markdown",
      "source": "## break and continue",
      "metadata": {
        "slideshow": {
          "slide_type": "slide"
        }
      }
    },
    {
      "id": "3faa9fee",
      "cell_type": "markdown",
      "source": "### keyword \"break\"",
      "metadata": {
        "slideshow": {
          "slide_type": "subslide"
        }
      }
    },
    {
      "id": "d573a4b2",
      "cell_type": "markdown",
      "source": "“break” statement is useful to break the flow of a loop abruptly i.e.,",
      "metadata": {
        "slideshow": {
          "slide_type": "fragment"
        }
      }
    },
    {
      "id": "cb9a2132",
      "cell_type": "markdown",
      "source": "- It can force a while loop to stop in between, even if the condition in “while statement” is still True.\n- It can stop a for loop in between even if the sequence in “for loop” is not entirely iterated.",
      "metadata": {
        "slideshow": {
          "slide_type": "fragment"
        }
      }
    },
    {
      "id": "a320c902",
      "cell_type": "markdown",
      "source": "As soon as the interpreter encounters a break statement, it stops the current execution of the loop and jumps directly to the code after the loop block. \n\nLet’s understand by some examples\n\n",
      "metadata": {
        "slideshow": {
          "slide_type": "fragment"
        }
      }
    },
    {
      "id": "ba798b4e",
      "cell_type": "code",
      "source": "x = 1\n# Infinite While Loop\nwhile True:\n    print(x)\n    # If x is 6, then break the loop\n    if x == 6:\n        break\n    x += 1\nprint(\"final value of x:\",x)",
      "metadata": {
        "slideshow": {
          "slide_type": "subslide"
        },
        "trusted": true
      },
      "outputs": [],
      "execution_count": null
    },
    {
      "id": "d178fcf8",
      "cell_type": "markdown",
      "source": "For loop with a break statement",
      "metadata": {
        "slideshow": {
          "slide_type": "fragment"
        }
      }
    },
    {
      "id": "64083c66",
      "cell_type": "code",
      "source": "sample_str = 'sample_statement'\n# Iterate over all the characters in string\nfor elem in sample_str:\n    # Id char is e then break the loop\n    if elem == 'e':\n        break\n    print(elem)\nprint(\"final elem:\", elem)",
      "metadata": {
        "slideshow": {
          "slide_type": "fragment"
        },
        "trusted": true
      },
      "outputs": [],
      "execution_count": null
    },
    {
      "id": "b1862ce7",
      "cell_type": "code",
      "source": "number = int(input('Please input a positive integer:'))\n\nis_prime = True\nif number < 2:\n    print(f\"{number} is not a prime number\")\nelif number == 2:\n    print(f\"{number} is a prime number\")\nelse:    \n    for i in range(2, int(number ** 0.5) + 1):\n        if number % i == 0:\n            print(f\"{number} is not a prime number\")\n            break\n        print(f\"{number} is a prime number\")\n\n",
      "metadata": {
        "trusted": true
      },
      "outputs": [],
      "execution_count": null
    },
    {
      "id": "ec9e20ab",
      "cell_type": "markdown",
      "source": "## Keyword \"continue\"",
      "metadata": {
        "slideshow": {
          "slide_type": "subslide"
        }
      }
    },
    {
      "id": "214adc65",
      "cell_type": "markdown",
      "source": "A \"continue\" statement inside a loop can make the control jump back to the starting of the loop. If the interpreter encounters a \"continue\" statement in a loop block, then it skips all the statements or lines after it in the suite and goes back at the beginning of the loop.\n\nLet’s understand by some examples,",
      "metadata": {
        "slideshow": {
          "slide_type": "fragment"
        }
      }
    },
    {
      "id": "39e20d0a",
      "cell_type": "markdown",
      "source": "#### While loop with continue statement",
      "metadata": {
        "slideshow": {
          "slide_type": "fragment"
        }
      }
    },
    {
      "id": "c445127e",
      "cell_type": "markdown",
      "source": "Calling the continue keyword inside the loop, will make the control jump to the starting of the while loop again. All the lines after the continue keyword will get skipped for that particular iteration.",
      "metadata": {
        "slideshow": {
          "slide_type": "fragment"
        }
      }
    },
    {
      "id": "0f41a1a3",
      "cell_type": "code",
      "source": "x = 0\n# Infinite While Loop\nwhile x <= 10:\n    x += 1\n    # If x is bw 4 and 6, then skip printing\n    if 4 <= x <= 6:\n        continue\n    print(x)",
      "metadata": {
        "slideshow": {
          "slide_type": "subslide"
        },
        "trusted": true
      },
      "outputs": [],
      "execution_count": null
    },
    {
      "id": "c382def5",
      "cell_type": "code",
      "source": "x = 0\n# Infinite While Loop\nwhile x <= 10:\n    x += 1\n    # If x is bw 4 and 6, then skip printing\n    if 4 <= x <= 6:\n        print(x*x)\n        continue\n        print(x)\n    #print(x)",
      "metadata": {
        "slideshow": {
          "slide_type": "subslide"
        },
        "trusted": true
      },
      "outputs": [],
      "execution_count": null
    },
    {
      "id": "aaed86c8",
      "cell_type": "markdown",
      "source": "In this while loop, we are printing numbers from 1 to 10. But inside the loop body, we have a check that if x is between 4 to 6, then execute the continue keyword.\n\nSo, when the value of x becomes 4, the continue statement gets executed. It forces the control back to the starting of the loop, and the print statement at the end of the loop body gets skipped. Similarly, the print statement in the loop gets skipped when the value of x is between 4 and 6.",
      "metadata": {
        "slideshow": {
          "slide_type": "fragment"
        }
      }
    },
    {
      "id": "f9ec3155",
      "cell_type": "markdown",
      "source": "#### For loop with continue statement",
      "metadata": {
        "slideshow": {
          "slide_type": "subslide"
        }
      }
    },
    {
      "id": "8cfdd407",
      "cell_type": "code",
      "source": "\nsample_str = 'Sample Text'\n# Iterate over all the characters in string\nfor elem in sample_str:\n    # If char is not lower case then skip printing\n    if elem.isupper() == True:\n        continue\n    print(elem)",
      "metadata": {
        "slideshow": {
          "slide_type": "fragment"
        },
        "trusted": true
      },
      "outputs": [],
      "execution_count": null
    },
    {
      "id": "b05e8f81",
      "cell_type": "markdown",
      "source": "### Exercise 1: Skip Even Numbers\nWrite a program that prints odd numbers from 1 to 10\n ",
      "metadata": {
        "slideshow": {
          "slide_type": "subslide"
        }
      }
    },
    {
      "id": "2a0b2ff2",
      "cell_type": "markdown",
      "source": "\n###  Exercise 2: Password Checker\nGive user 3 attempts to enter correct password (\"secret123\")\n\nIf the password is correct, show 'Access granted'\nShow 'Access denied' after 3 wrong attempts",
      "metadata": {
        "slideshow": {
          "slide_type": "fragment"
        }
      }
    },
    {
      "id": "902dcc97",
      "cell_type": "code",
      "source": "for i in range(1,11):\n    if i % 2 ==0:\n        continue\n    print(i)",
      "metadata": {
        "slideshow": {
          "slide_type": "subslide"
        },
        "trusted": true
      },
      "outputs": [],
      "execution_count": null
    },
    {
      "id": "6c5de3bc",
      "cell_type": "code",
      "source": "left_attemps = 3\npassword = 'pass'\nwhile True:\n    input_password = input('pleas input your password:')\n    if input_password == password:\n        print('Access granted')\n        break\n    left_attemps -= 1\n    if left_attemps == 0:\n        print('Access denied')\n        break    ",
      "metadata": {
        "slideshow": {
          "slide_type": "subslide"
        },
        "trusted": true
      },
      "outputs": [],
      "execution_count": null
    }
  ]
}