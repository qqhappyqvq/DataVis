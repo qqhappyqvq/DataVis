{
  "metadata": {
    "kernelspec": {
      "name": "python",
      "display_name": "Python (Pyodide)",
      "language": "python"
    },
    "language_info": {
      "codemirror_mode": {
        "name": "ipython",
        "version": 3
      },
      "file_extension": ".py",
      "mimetype": "text/x-python",
      "name": "python",
      "nbconvert_exporter": "python",
      "pygments_lexer": "ipython3",
      "version": "3.9.21"
    },
    "celltoolbar": "Slideshow"
  },
  "nbformat_minor": 5,
  "nbformat": 4,
  "cells": [
    {
      "id": "b4db0557",
      "cell_type": "markdown",
      "source": "## Data Visualization\n### Visualizing Distributions\n\n- Xianli Zeng\n- School of Economics, Xiamen University\n- April 7, 2025",
      "metadata": {
        "slideshow": {
          "slide_type": "slide"
        }
      }
    },
    {
      "id": "59aadbe9",
      "cell_type": "markdown",
      "source": "Today's Agenda\n\n- Visualizing distributions\n\n    - A single distribution or comparison of multiple distributions\n\n    - Various techniques and important considerations\n\n- Histograms and density plots\n\n- Boxplots, Violin plots and Raincloud plots\n\n- Ridgeline Plots",
      "metadata": {
        "slideshow": {
          "slide_type": "slide"
        }
      }
    },
    {
      "id": "f0caf93a",
      "cell_type": "markdown",
      "source": "### Today's Data: penguins\n<div>\n<img src=\"./penguins.jpg\" width=\"300\"/>\n</div>\n\nData source: https://gist.github.com/slopp/ce3b90b9168f2f921784de84fa445651\n",
      "metadata": {
        "slideshow": {
          "slide_type": "slide"
        }
      }
    },
    {
      "id": "d911c54c",
      "cell_type": "markdown",
      "source": "- Source: Palmer Penguins (2007–2009, Dr. Kristen Gorman) – a built-in dataset in seaborn\n\n- Size: 344 penguins, 8 variables\n\n- Categorical variables: Species (Adelie, Chinstrap, Gentoo), Island (Biscoe, Dream, Torgersen), Sex (Male/Female)\n\n- Numeric variables: Bill length/depth (mm), flipper length (mm), body mass (g), Year (2007–2009)",
      "metadata": {
        "slideshow": {
          "slide_type": "subslide"
        }
      }
    },
    {
      "id": "fd238776",
      "cell_type": "markdown",
      "source": "#### Data Types\n\n- Categorical variables: Species, island, sex (nominal); Year (ordinal discrete)\n\n- Numeric variables: Bill length, depth, flipper length, body mass (continuous)\n\n- Date/time: None (year treated as numeric)",
      "metadata": {
        "slideshow": {
          "slide_type": "subslide"
        }
      }
    },
    {
      "id": "7ef07b5f",
      "cell_type": "markdown",
      "source": "\nTwo ways to load data:\n\n1. Direct loading:\n    - Download the dataset from the above link\n    - use pd.readcsv()\n",
      "metadata": {
        "slideshow": {
          "slide_type": "subslide"
        }
      }
    },
    {
      "id": "94599e2a-7526-4de7-a1df-9c6811633c2e",
      "cell_type": "markdown",
      "source": "2. From the Seaborn package\n    - import searborn as sns\n    - penguins = sns.load_dataset(\"penguins\")\n",
      "metadata": {
        "slideshow": {
          "slide_type": "fragment"
        }
      }
    },
    {
      "id": "9fb3416b",
      "cell_type": "markdown",
      "source": "3. From the palmerpenguins package\n    - install the palmerpenguins package\n    - import load load_penguins functions\n    - penguins = load_penguins() ",
      "metadata": {
        "slideshow": {
          "slide_type": "fragment"
        }
      }
    },
    {
      "id": "c48815e6",
      "cell_type": "code",
      "source": "import matplotlib.pyplot as plt\nimport seaborn as sns\nfrom palmerpenguins import load_penguins\nimport os\n\n# 加载 penguins 数据集\npenguins = load_penguins()\npenguins = penguins.dropna()",
      "metadata": {
        "slideshow": {
          "slide_type": "subslide"
        },
        "trusted": true
      },
      "outputs": [],
      "execution_count": null
    },
    {
      "id": "bd9f18a6-4527-486a-bac7-4a70ef90d982",
      "cell_type": "code",
      "source": "penguins.head(20)",
      "metadata": {
        "slideshow": {
          "slide_type": "subslide"
        },
        "trusted": true
      },
      "outputs": [],
      "execution_count": null
    },
    {
      "id": "e2e2272b",
      "cell_type": "markdown",
      "source": "### Contents today\n1. ***histograms(直方图)***\n2. density plots(密度图)\n3. box plots(箱形图)\n4. violin plots(小提琴图)\n5. raincloud plots(云雨图)\n6. ridgeline plots(嵴线图)",
      "metadata": {
        "slideshow": {
          "slide_type": "slide"
        }
      }
    },
    {
      "id": "d9f4e0f9",
      "cell_type": "markdown",
      "source": "### 1. Histograms\n<pre>\nplt.hist()\n</pre>\n",
      "metadata": {
        "slideshow": {
          "slide_type": "subslide"
        }
      }
    },
    {
      "id": "4177c14f",
      "cell_type": "markdown",
      "source": "- Suitable for continuous numeric variables, histograms reflect the frequency distribution of values\n\n",
      "metadata": {
        "slideshow": {
          "slide_type": "fragment"
        }
      }
    },
    {
      "id": "008a8f52",
      "cell_type": "markdown",
      "source": "- Divide the numeric range into intervals (bins) and count how many data points fall into each\n\n",
      "metadata": {
        "slideshow": {
          "slide_type": "fragment"
        }
      }
    },
    {
      "id": "87fcf79a",
      "cell_type": "markdown",
      "source": "- The choice of bin width significantly affects the appearance of the histogram\n",
      "metadata": {
        "slideshow": {
          "slide_type": "fragment"
        }
      }
    },
    {
      "id": "fa5085dc",
      "cell_type": "markdown",
      "source": "\n#### Example: Histogram of penguin body mass\n\nA histogram showing the frequency distribution of all penguin body masses, using the default bin setting. The x-axis represents weight (g), y-axis is frequency.",
      "metadata": {
        "slideshow": {
          "slide_type": "subslide"
        }
      }
    },
    {
      "id": "d219f365-5940-47cf-a419-e675e1f81244",
      "cell_type": "code",
      "source": "\n# 设置中文字体（可选）\nplt.rcParams['font.family'] = 'SimHei'\nplt.rcParams['axes.unicode_minus'] = False\n\n\n# 默认组距的直方图\nplt.figure()\nplt.hist(penguins['body_mass_g'], edgecolor='black')\nplt.xlabel('Body Mass(g)')\nplt.ylabel('Frequency')\nplt.title('Histogram of Body Mass - default bin width')\nplt.show()",
      "metadata": {
        "slideshow": {
          "slide_type": "subslide"
        },
        "trusted": true
      },
      "outputs": [],
      "execution_count": null
    },
    {
      "id": "598993da",
      "cell_type": "markdown",
      "source": "### Better Visualization: \n\n#### Proper number of bins and bin width\n\n- default bin width and bin numbers may not be proper, try to use different bin width and bin numbers\n- Adjust bin width by argument **bins** and **binwidth**. ",
      "metadata": {
        "slideshow": {
          "slide_type": "subslide"
        }
      }
    },
    {
      "id": "32a6d376",
      "cell_type": "markdown",
      "source": "#### Too less bins",
      "metadata": {
        "slideshow": {
          "slide_type": "subslide"
        }
      }
    },
    {
      "id": "2257b611",
      "cell_type": "code",
      "source": "plt.figure()\nplt.hist(penguins['body_mass_g'], bins=5, edgecolor='black')  # 将区间数设为5\nplt.xlabel('Body Mass(g)')\nplt.ylabel('Frequency')\nplt.title('Too Less Bins')\nplt.show()",
      "metadata": {
        "slideshow": {
          "slide_type": "fragment"
        },
        "trusted": true
      },
      "outputs": [],
      "execution_count": null
    },
    {
      "id": "444a0b52",
      "cell_type": "markdown",
      "source": "#### Too wide binwidth",
      "metadata": {
        "slideshow": {
          "slide_type": "subslide"
        }
      }
    },
    {
      "id": "667e15dd",
      "cell_type": "code",
      "source": "import numpy as np\nplt.figure()\ndata = penguins['body_mass_g']\nmin_val, max_val = data.min(), data.max()\nbins = np.arange(min_val, max_val + 500, 500)  # 每500g一个区间\nplt.hist(data, bins=bins, edgecolor='black')\nplt.xlabel('Body Mass(g)')\nplt.ylabel('Frequency')\nplt.title('Too Wide Binwidth')\nplt.show()\n",
      "metadata": {
        "slideshow": {
          "slide_type": "fragment"
        },
        "trusted": true
      },
      "outputs": [],
      "execution_count": null
    },
    {
      "id": "e34e089f",
      "cell_type": "markdown",
      "source": "#### Too much bins",
      "metadata": {
        "slideshow": {
          "slide_type": "subslide"
        }
      }
    },
    {
      "id": "7b06a7b8",
      "cell_type": "code",
      "source": "plt.figure()\nplt.hist(penguins['body_mass_g'], bins=100, edgecolor='black')\nplt.xlabel('Body Mass(g)')\nplt.ylabel('Frequency')\nplt.title('Too Much Bins')\nplt.show()",
      "metadata": {
        "slideshow": {
          "slide_type": "fragment"
        },
        "trusted": true
      },
      "outputs": [],
      "execution_count": null
    },
    {
      "id": "0ac63e99",
      "cell_type": "markdown",
      "source": "#### Proper number of bins",
      "metadata": {
        "slideshow": {
          "slide_type": "subslide"
        }
      }
    },
    {
      "id": "566b339c",
      "cell_type": "code",
      "source": "plt.figure()\nplt.hist(penguins['body_mass_g'], bins=20, edgecolor='black')\nplt.xlabel('Body Mass(g)')\nplt.ylabel('Frequency')\nplt.title('Proper Number of Bins')\nplt.show()",
      "metadata": {
        "slideshow": {
          "slide_type": "fragment"
        },
        "trusted": true
      },
      "outputs": [],
      "execution_count": null
    },
    {
      "id": "512b84ae",
      "cell_type": "markdown",
      "source": "#### Proper binwidth",
      "metadata": {
        "slideshow": {
          "slide_type": "subslide"
        }
      }
    },
    {
      "id": "958badcd",
      "cell_type": "code",
      "source": "\nplt.figure()\nbins = np.arange(min_val, max_val + 200, 200)  # 每200g一个区间\nplt.hist(penguins['body_mass_g'], bins=bins, edgecolor='black')\nplt.xlabel('Body Mass(g)')\nplt.ylabel('Frequency')\nplt.title('Proper Binwidth')\nplt.show()\n",
      "metadata": {
        "slideshow": {
          "slide_type": "fragment"
        },
        "trusted": true
      },
      "outputs": [],
      "execution_count": null
    },
    {
      "id": "91314bee",
      "cell_type": "markdown",
      "source": "### Better Visualization\n\nColors: face color and edgecolor\n    ",
      "metadata": {
        "slideshow": {
          "slide_type": "subslide"
        }
      }
    },
    {
      "id": "7f11baa8",
      "cell_type": "code",
      "source": "# 直方图美化: 改变颜色和边框\nplt.figure()\nplt.hist(penguins['body_mass_g'], bins=20, color='#CC0000', edgecolor='white')\nplt.xlabel('Body Mass(g)')\nplt.ylabel('Frequency')\nplt.title('Imporve the visualization: facecolor and edgecolor ')\nplt.show()",
      "metadata": {
        "slideshow": {
          "slide_type": "fragment"
        },
        "trusted": true
      },
      "outputs": [],
      "execution_count": null
    },
    {
      "id": "8c97f48d",
      "cell_type": "markdown",
      "source": "#### Comapre two histogram",
      "metadata": {
        "slideshow": {
          "slide_type": "subslide"
        }
      }
    },
    {
      "id": "0bc559b2",
      "cell_type": "code",
      "source": "\n\n# 按性别拆分体重数据，去除缺失值\nmale_mass = penguins[penguins['sex'] == 'male']['body_mass_g'].dropna()\nfemale_mass = penguins[penguins['sex'] == 'female']['body_mass_g'].dropna()\n\n# 画堆叠直方图\nplt.figure()\nplt.hist([male_mass, female_mass], bins=30, stacked=True, label=['雄性', '雌性'], edgecolor='white')\nplt.xlabel('Body Mass(g)')\nplt.ylabel('Frequency')\nplt.title('Male vs Female Body Mass - Stacked Histogram')\nplt.legend()\nplt.show()\n\n",
      "metadata": {
        "slideshow": {
          "slide_type": "fragment"
        },
        "trusted": true
      },
      "outputs": [],
      "execution_count": null
    },
    {
      "id": "91cbb0f8",
      "cell_type": "markdown",
      "source": "#### Transparency",
      "metadata": {
        "slideshow": {
          "slide_type": "subslide"
        }
      }
    },
    {
      "id": "8e7e1676",
      "cell_type": "code",
      "source": "\n\n# 重叠直方图 (设置透明度区分)\nplt.figure()\nbins = np.histogram_bin_edges(penguins['body_mass_g'], bins=20)\nplt.hist(male_mass, bins=bins, alpha=0.6, label='雄性', edgecolor='white')\nplt.hist(female_mass, bins=bins, alpha=0.6, label='雌性', edgecolor='white')\nplt.xlabel('Body Mass(g)')\nplt.ylabel('Frequency')\nplt.title('Male vs Female Body Mass - Stacked Histogram')\nplt.legend()\nplt.show()",
      "metadata": {
        "slideshow": {
          "slide_type": "fragment"
        },
        "trusted": true
      },
      "outputs": [],
      "execution_count": null
    },
    {
      "id": "85801eef",
      "cell_type": "markdown",
      "source": "##### Problem\n\nHowever, even with overlapping histograms, there are still some limitations:\n\n👎 The edges of the bars are still hard to distinguish after overlapping: Especially when both groups have values in the same interval, the overlaid colors make it difficult to accurately determine the starting point and height of the bars.\n\n👎 Color blending may cause misinterpretation: The mixed colors in the overlapping areas might lead to overestimation or underestimation of the data amount for a particular group in that interval.",
      "metadata": {
        "slideshow": {
          "slide_type": "subslide"
        }
      }
    },
    {
      "id": "01058d51",
      "cell_type": "markdown",
      "source": "A better approach: For comparing two-group distributions, consider using mirror histograms or population pyramid charts:\n\nMirror histogram: Plot two histograms separately — one above the x-axis and one below — in a mirror-symmetric layout. This way, the two distributions are visually independent, making it easier to directly compare their shapes.\n\nPopulation pyramid: Rotate the mirror histogram by 90°, so that the vertical axis represents the groups and the horizontal axis shows frequencies. This back-to-back horizontal histogram is commonly used to compare age distributions across different population groups, and is especially effective when the group differences are small.",
      "metadata": {
        "slideshow": {
          "slide_type": "subslide"
        }
      }
    },
    {
      "id": "490d0986",
      "cell_type": "markdown",
      "source": "#### Mirrored Histogram",
      "metadata": {
        "slideshow": {
          "slide_type": "subslide"
        }
      }
    },
    {
      "id": "9a3a2f80",
      "cell_type": "code",
      "source": "import numpy as np\n# 镜像直方图 (将雌性体重直方图绘制在轴下方)\n\n\nplt.figure()\ncounts_m, bins_m = np.histogram(male_mass, bins=20)\ncounts_f, _ = np.histogram(female_mass, bins=bins_m)\nbin_centers = 0.5 * (bins_m[:-1] + bins_m[1:])\nwidths = np.diff(bins_m)\n# 雄性柱子向上\nplt.bar(bin_centers, counts_m, width=widths, label='Male', edgecolor='white')\n# 雌性柱子向下 (取负值绘制)\nplt.bar(bin_centers, -counts_f, width=widths, label='Female', edgecolor='white')\nplt.axhline(0, color='black')  # 横轴线\nplt.xlabel('Body Mass(g)')\nplt.ylabel('Frequency')\nplt.title('Male vs Female Body Mass - Mirrored Histogram')\nyticks = plt.yticks()[0]\nplt.yticks(yticks, [abs(int(tick)) for tick in yticks])\nplt.legend(loc='upper right')\nplt.show()\n",
      "metadata": {
        "scrolled": true,
        "slideshow": {
          "slide_type": "fragment"
        },
        "trusted": true
      },
      "outputs": [],
      "execution_count": null
    },
    {
      "id": "bf1e0000",
      "cell_type": "markdown",
      "source": "#### Pyramid Plot",
      "metadata": {
        "slideshow": {
          "slide_type": "subslide"
        }
      }
    },
    {
      "id": "1e7f46d8",
      "cell_type": "code",
      "source": "\n# 计算直方图频数（统一 bin）\ncounts_m, bins_m = np.histogram(male_mass, bins=20)\ncounts_f, _ = np.histogram(female_mass, bins=bins_m)\nbin_centers = 0.5 * (bins_m[:-1] + bins_m[1:])\nheights = np.diff(bins_m)\n\n# 开始绘图\nplt.figure(figsize=(8, 6))\n\n# 雌性向左（负数）\nplt.barh(bin_centers, -counts_f, height=heights, label='雌性', edgecolor='white', color='skyblue')\n\n# 雄性向右（正数）\nplt.barh(bin_centers, counts_m, height=heights, label='雄性', edgecolor='white', color='salmon')\n\n# y 轴为体重，x 轴为频数（左右对称）\nplt.axvline(0, color='black')  # 中间竖线\nplt.ylabel('Body Mass (g)')\nplt.xlabel('Frequency')\nplt.title('Male vs Female Body Mass - Population Pyramid')\n\n# 美化 x 轴刻度（不显示负号）\nxticks = plt.xticks()[0]\nplt.xticks(xticks, [abs(int(t)) for t in xticks])\n\nplt.legend()\nplt.tight_layout()\nplt.show()",
      "metadata": {
        "slideshow": {
          "slide_type": "fragment"
        },
        "trusted": true
      },
      "outputs": [],
      "execution_count": null
    },
    {
      "id": "ceca27ab",
      "cell_type": "markdown",
      "source": "### Contents today\n1. istograms(直方图)\n2. ***density plots(密度图)***\n3. box plots(箱形图)\n4. violin plots(小提琴图)\n5. raincloud plots(云雨图)\n6. ridgeline plots(嵴线图)",
      "metadata": {
        "slideshow": {
          "slide_type": "slide"
        }
      }
    },
    {
      "id": "efa73ad7",
      "cell_type": "markdown",
      "source": "### 2. Density Plots(密度图)\n\n<pre>\nsns.kdeplot()\n</pre>\n",
      "metadata": {
        "slideshow": {
          "slide_type": "subslide"
        }
      }
    },
    {
      "id": "d68dc7ed",
      "cell_type": "markdown",
      "source": "### Smoothed version of a histogram: the density plot\n\n- As the sample size increases toward infinity and the bin width approaches zero\n\n- This follows from large-sample theory\n\n### Density plots are usually obtained through kernel density estimation (KDE)\n\n- Kernel function: The most commonly used is the Gaussian kernel\n\n- Bandwidth (bw): Controls the smoothness of the curve, similar to bin width in a histogram; the default is usually sufficient\n\n### For large datasets, density plots are more reliable and provide richer information\n\n### For small datasets, density plots may be misleading",
      "metadata": {
        "slideshow": {
          "slide_type": "subslide"
        }
      }
    },
    {
      "id": "35823269-8d89-4d61-8e2d-3cdd27585c46",
      "cell_type": "code",
      "source": "\n# 密度图：鳍长核密度估计\nplt.figure(figsize=(8, 5))\nsns.kdeplot(data=penguins, x='flipper_length_mm')\nplt.title(\"Density Plot of Flipper Length\")\nplt.xlabel(\"Flipper Length（mm）\")\nplt.show()# plt.savefig(\"penguins_figs/density.png\")\n# plt.close()\n",
      "metadata": {
        "slideshow": {
          "slide_type": "subslide"
        },
        "trusted": true
      },
      "outputs": [],
      "execution_count": null
    },
    {
      "id": "dd812133",
      "cell_type": "code",
      "source": "import seaborn as sns\nimport matplotlib.pyplot as plt\n\n# 加载数据\npenguins = sns.load_dataset(\"penguins\")\n\n# 绘制体重密度图（填充颜色）\n\nplt.figure(figsize=(8, 5))\nsns.kdeplot(data=penguins, x='flipper_length_mm',fill = True,  color='red', alpha=0.6, linewidth=2,\nbw_adjust=1)\nplt.title(\"Density Plot of Flipper Length\")\nplt.xlabel(\"Flipper Length（mm）\")\nplt.show()# plt.savefig(\"penguins_figs/density.png\")\n# plt.close()\n",
      "metadata": {
        "slideshow": {
          "slide_type": "subslide"
        },
        "trusted": true
      },
      "outputs": [],
      "execution_count": null
    },
    {
      "id": "bc92b8a7",
      "cell_type": "markdown",
      "source": "- linewidth: controls the thickness of the line\n\n- bw_adjust: Adjusts the bandwidth (controls the smoothness of the curve)",
      "metadata": {
        "slideshow": {
          "slide_type": "subslide"
        }
      }
    },
    {
      "id": "09d5502a",
      "cell_type": "markdown",
      "source": "### Histgram with density plot\n",
      "metadata": {
        "slideshow": {
          "slide_type": "subslide"
        }
      }
    },
    {
      "id": "90fb175e",
      "cell_type": "code",
      "source": "plt.figure()\nplt.hist(penguins['flipper_length_mm'].dropna(), bins=20, density=True, color='#CC0000', alpha=0.5, edgecolor='white')\nsns.kdeplot(penguins['flipper_length_mm'].dropna(), color='black')\nplt.title(\"Histogram + Density Plot\")\nplt.xlabel(\"Flipper Length（mm）\")\nplt.show()",
      "metadata": {
        "slideshow": {
          "slide_type": "fragment"
        },
        "trusted": true
      },
      "outputs": [],
      "execution_count": null
    },
    {
      "id": "dd1eac46",
      "cell_type": "markdown",
      "source": "#### Compare different distribution with density plot",
      "metadata": {
        "slideshow": {
          "slide_type": "subslide"
        }
      }
    },
    {
      "id": "57b6bdd7",
      "cell_type": "code",
      "source": "\n# 按种类拆分数据\n\nspecies = penguins['species'].dropna().unique()\ndata_to_plot = [penguins[penguins['species'] == s]['flipper_length_mm'].dropna() for s in species]\n\nplt.figure(figsize=(8, 5))\n\n# 核密度图比较三个分布 (雄性 vs 雌性)\nplt.figure()\nsns.kdeplot(data_to_plot[0], label=species[0], fill=True,color = 'red',alpha = 0.4)\nsns.kdeplot(data_to_plot[1], label=species[1], fill=True, color = 'green',alpha = 0.4)\nsns.kdeplot(data_to_plot[2], label=species[2], fill=True, color = 'blue',alpha = 0.4)\nplt.title(\"Flipper Length of Different Species\")\nplt.xlabel(\"Flipper Length（mm）\")\nplt.legend()\nplt.show()",
      "metadata": {
        "scrolled": true,
        "slideshow": {
          "slide_type": "fragment"
        },
        "trusted": true
      },
      "outputs": [],
      "execution_count": null
    },
    {
      "id": "3f5c92ad",
      "cell_type": "markdown",
      "source": "#### Comparing Multiple Distributions – Advantages of Density Plots\n\n👍 For visualizing multiple distributions, **density plots are generally better than histograms.\nOverlapping curves are much clearer than overlapping bars, and there’s no confusion about stacking or alignment of bar starting points.**",
      "metadata": {
        "slideshow": {
          "slide_type": "subslide"
        }
      }
    },
    {
      "id": "41cc6724",
      "cell_type": "markdown",
      "source": "### Compare different distribution\nFaced density plot\n",
      "metadata": {
        "slideshow": {
          "slide_type": "subslide"
        }
      }
    },
    {
      "id": "d18e3c18",
      "cell_type": "code",
      "source": "g = sns.FacetGrid(penguins, col='species', height=4, aspect=1)\ng.map(sns.kdeplot, 'flipper_length_mm', fill=True,color = '#CC0000',alpha =1)\ng.set_axis_labels('Flipper Length(mm)', 'Density')\nplt.show()",
      "metadata": {
        "slideshow": {
          "slide_type": "fragment"
        },
        "trusted": true
      },
      "outputs": [],
      "execution_count": null
    },
    {
      "id": "6aabf8c8",
      "cell_type": "markdown",
      "source": "### Visualizing different distribution\nstacked density plot\n",
      "metadata": {
        "slideshow": {
          "slide_type": "subslide"
        }
      }
    },
    {
      "id": "53c0c818",
      "cell_type": "code",
      "source": "\n# 绘图\nplt.figure(figsize=(10, 6))\nsns.kdeplot(\n    data=penguins,\n    x='flipper_length_mm',\n    hue='species',\n    multiple='stack',       # 堆叠模式\n    fill=True,\n    alpha=0.7\n    \n)\n\nplt.title(\"Stacked Density Plot by Species\")\nplt.xlabel(\"Body Mass (g)\")\nplt.ylabel(\"Density\")\nplt.tight_layout()\nplt.show()",
      "metadata": {
        "slideshow": {
          "slide_type": "fragment"
        },
        "trusted": true
      },
      "outputs": [],
      "execution_count": null
    },
    {
      "id": "a61a6164",
      "cell_type": "markdown",
      "source": "### Contents today\n1. histograms(直方图)\n2. density plots(密度图)\n3. ***box plots(箱形图)***\n4. violin plots(小提琴图)\n5. raincloud plots(云雨图)\n6. ridgeline plots(嵴线图)",
      "metadata": {
        "slideshow": {
          "slide_type": "slide"
        }
      }
    },
    {
      "id": "e9b55168",
      "cell_type": "markdown",
      "source": "### 3. Box Plots\n<pre>\nplt.boxplot()   \nsns.boxplot()\n</pre>\n\n\n- Box plots display the center and spread of a distribution using the five-number summary (minimum, first quartile, median, third quartile, and maximum). They are especially useful for comparing the distribution characteristics across multiple groups.\n\n- The top and bottom of the box represent the first quartile (Q1) and third quartile (Q3).\n\n- The line inside the box indicates the median.\n",
      "metadata": {
        "slideshow": {
          "slide_type": "subslide"
        }
      }
    },
    {
      "id": "cbcbc07c",
      "cell_type": "markdown",
      "source": "<div>\n<img src=\"./box_plot.png\" width=\"300\"/>\n</div>\n",
      "metadata": {
        "slideshow": {
          "slide_type": "subslide"
        }
      }
    },
    {
      "id": "dc01701a",
      "cell_type": "markdown",
      "source": "\n- The \"whiskers\" extend to the minimum and maximum values within 1.5 times the interquartile range (IQR).\n\n- Outliers:\nData points beyond the whiskers are considered outliers and are typically marked as individual dots, reflecting extreme values.\n\n- Box plots make it easy to compare medians and variability across groups side by side, but they do not reveal detailed features of the distribution such as bimodality.\n\n",
      "metadata": {
        "slideshow": {
          "slide_type": "subslide"
        }
      }
    },
    {
      "id": "197463ef",
      "cell_type": "markdown",
      "source": "- Standard box plot\n- Set colors for box and outliers\n- Hide the outlier\n- Highlight \n- Mark the mean\n- Show datapoints",
      "metadata": {
        "slideshow": {
          "slide_type": "fragment"
        }
      }
    },
    {
      "id": "c56b6b52-16ba-4d81-bb1d-382de9a2d9cf",
      "cell_type": "code",
      "source": "\n# 箱形图：不同种类企鹅的鳍长\nplt.figure(figsize=(8, 5))\n\nspecies = penguins['species'].dropna().unique()\ndata_to_plot = [penguins[penguins['species'] == s]['flipper_length_mm'].dropna() for s in species]\n\nplt.boxplot(data_to_plot, labels=species)\nplt.title(\"Box plot of body mass of different sex\")\nplt.xlabel(\"Species\")\nplt.ylabel(\"Body Mass(g)\")\n\nplt.show()\n\n",
      "metadata": {
        "slideshow": {
          "slide_type": "subslide"
        },
        "trusted": true
      },
      "outputs": [],
      "execution_count": null
    },
    {
      "id": "7007644d",
      "cell_type": "code",
      "source": "plt.figure(figsize=(8, 5))\n\nsns.boxplot(data=penguins, x='species', y='flipper_length_mm')\nplt.title(\"Box plot of body mass of different sex\")\nplt.xlabel(\"Species\")\nplt.ylabel(\"Body Mass(g)\")\n\nplt.show()\n\n",
      "metadata": {
        "slideshow": {
          "slide_type": "subslide"
        },
        "trusted": true
      },
      "outputs": [],
      "execution_count": null
    },
    {
      "id": "e8058099",
      "cell_type": "markdown",
      "source": "#### Adding subgroups",
      "metadata": {
        "slideshow": {
          "slide_type": "subslide"
        }
      }
    },
    {
      "id": "ffe6ef67",
      "cell_type": "code",
      "source": "plt.figure(figsize=(10, 6))\nsns.boxplot(data=penguins, x='species', y='body_mass_g', hue='sex')\n\nplt.title(\"Penguin Body Mass by Species and Island\")\nplt.xlabel(\"Species\")\nplt.ylabel(\"Body Mass (g)\")\nplt.legend(title=\"Island\")\nplt.tight_layout()\nplt.show()",
      "metadata": {
        "slideshow": {
          "slide_type": "fragment"
        },
        "trusted": true
      },
      "outputs": [],
      "execution_count": null
    },
    {
      "id": "8b425025",
      "cell_type": "markdown",
      "source": "#### Marking outliers",
      "metadata": {
        "slideshow": {
          "slide_type": "subslide"
        }
      }
    },
    {
      "id": "cd980f5e",
      "cell_type": "code",
      "source": "plt.figure(figsize=(8, 6))\nsns.boxplot(\n    data=penguins,\n    x='species',\n    y='flipper_length_mm',\n    color='gray',           # Fill color\n    fliersize=4,            # Outlier marker size\n    flierprops=dict(\n        marker='o',         # Outlier shape (circle)\n        markerfacecolor='#CC0000',  # Outlier color (red)\n        markeredgecolor='#CC0000',  # Outlier color (red)\n        markersize=5\n    )\n)\n\nplt.title(\"Flipper Length by Species\")\nplt.xlabel(\"Species\")\nplt.ylabel(\"Flipper Length (mm)\")\nplt.tight_layout()\nplt.show()",
      "metadata": {
        "slideshow": {
          "slide_type": "fragment"
        },
        "trusted": true
      },
      "outputs": [],
      "execution_count": null
    },
    {
      "id": "710f4984",
      "cell_type": "markdown",
      "source": "#### Hide the outliers",
      "metadata": {
        "slideshow": {
          "slide_type": "subslide"
        }
      }
    },
    {
      "id": "4e086c41",
      "cell_type": "code",
      "source": "plt.figure(figsize=(8, 6))\nsns.boxplot(\n    data=penguins,\n    x='species',\n    y='flipper_length_mm',\n    color='#CC0000',           # Fill color\n    showfliers=False\n    )\n\nplt.title(\"Flipper Length by Species\")\nplt.xlabel(\"Species\")\nplt.ylabel(\"Flipper Length (mm)\")\nplt.tight_layout()\nplt.show()",
      "metadata": {
        "slideshow": {
          "slide_type": "fragment"
        },
        "trusted": true
      },
      "outputs": [],
      "execution_count": null
    },
    {
      "id": "5a5f90ab",
      "cell_type": "markdown",
      "source": "#### Highlight Some Part",
      "metadata": {
        "slideshow": {
          "slide_type": "subslide"
        }
      }
    },
    {
      "id": "cd237843",
      "cell_type": "code",
      "source": "highlight_species = 'Adelie'\n\n# 生成颜色映射\nspecies_order = sorted(penguins['species'].unique())\ncolors = ['#bb0000' if s == highlight_species else '#dddddd' for s in species_order]\n\n# 绘图\nplt.figure(figsize=(8, 6))\nsns.boxplot(\n    data=penguins,\n    x='species',\n    y='flipper_length_mm',\n    order=species_order,\n    palette=colors,\n    showfliers=False\n)\n\nplt.title(f\"Flipper Length by Species (Highlight: {highlight_species})\")\nplt.xlabel(\"Species\")\nplt.ylabel(\"Flipper Length (mm)\")\nplt.tight_layout()\nplt.show()",
      "metadata": {
        "slideshow": {
          "slide_type": "fragment"
        },
        "trusted": true
      },
      "outputs": [],
      "execution_count": null
    },
    {
      "id": "fd5c5143",
      "cell_type": "markdown",
      "source": "#### Mark the maen",
      "metadata": {
        "slideshow": {
          "slide_type": "subslide"
        }
      }
    },
    {
      "id": "b9260e62",
      "cell_type": "code",
      "source": "\nspecies_order = penguins['species'].unique()\n\n# 绘制灰色箱型图\nplt.figure(figsize=(8, 6))\nsns.boxplot(\n    data=penguins,\n    x='species',\n    y='flipper_length_mm',\n    order=species_order,\n    color='gray',\n    showfliers=False\n)\n\n# 计算并添加均值红色方块\ngroup_means = penguins.groupby('species')['flipper_length_mm'].mean()\n\n# 关键点：确保横坐标位置和 species 顺序一致\nplt.scatter(\n    x=np.arange(len(species_order)), \n    y=group_means, \n    color='red', \n    marker='s', \n    s=100,   # 放大方块\n    zorder=5 # 保证在箱体之上\n     )\n\nplt.title(\"Flipper Length by Species with Mean Points\")\nplt.xlabel(\"Species\")\nplt.ylabel(\"Flipper Length (mm)\")\nplt.tight_layout()\nplt.show()",
      "metadata": {
        "slideshow": {
          "slide_type": "fragment"
        },
        "trusted": true
      },
      "outputs": [],
      "execution_count": null
    },
    {
      "id": "3bf04ecf",
      "cell_type": "markdown",
      "source": "#### Mark the sample size",
      "metadata": {
        "slideshow": {
          "slide_type": "subslide"
        }
      }
    },
    {
      "id": "7ccfabc9",
      "cell_type": "code",
      "source": "\n# 获取分组顺序\nspecies_order = penguins['species'].unique()\n\n# 分组统计样本数和中位数\ngroup_stats = penguins.groupby('species')['flipper_length_mm'].agg(['median', 'count']).reset_index()\n\n# 绘图\nplt.figure(figsize=(8, 6))\nsns.boxplot(\n    data=penguins,\n    x='species',\n    y='flipper_length_mm',\n    order=species_order,\n    color='white',\n    showfliers=False\n)\n\n# 添加样本数标签（位置略低于中位数）\nfor i, row in group_stats.iterrows():\n    plt.text(\n        x=i, \n        y=row['median'] - 2,   # 中位数下方一点\n        s=f\"n = {row['count']}\", \n        ha='center', \n        va='top',\n        fontsize=10,\n        color='red'\n    )\n\nplt.title(\"Flipper Length by Species with Sample Sizes\")\nplt.xlabel(\"Species\")\nplt.ylabel(\"Flipper Length (mm)\")\nplt.tight_layout()\nplt.show()",
      "metadata": {
        "slideshow": {
          "slide_type": "fragment"
        },
        "trusted": true
      },
      "outputs": [],
      "execution_count": null
    },
    {
      "id": "c108d7e6",
      "cell_type": "markdown",
      "source": "#### Drow the datapoints",
      "metadata": {
        "slideshow": {
          "slide_type": "subslide"
        }
      }
    },
    {
      "id": "64a96c0d",
      "cell_type": "code",
      "source": "\n# 绘图\nplt.figure(figsize=(8, 6))\n\n# 箱型图（白色，无异常值）\nsns.boxplot(\n    data=penguins,\n    x='species',\n    y='flipper_length_mm',\n    color='white',\n    showfliers=False\n)\n\n# 原始数据点（红色，半透明）\nsns.stripplot(\n    data=penguins,\n    x='species',\n    y='flipper_length_mm',\n    color='#CC0000',\n    size=3,\n    alpha=0.5,\n    jitter=False  # 加抖动防重叠\n)\n\nplt.title(\"Flipper Length by Species (with Raw Data Points)\")\nplt.xlabel(\"Species\")\nplt.ylabel(\"Flipper Length (mm)\")\nplt.tight_layout()\nplt.show()",
      "metadata": {
        "scrolled": true,
        "slideshow": {
          "slide_type": "fragment"
        },
        "trusted": true
      },
      "outputs": [],
      "execution_count": null
    },
    {
      "id": "0e12fee2",
      "cell_type": "markdown",
      "source": "#### 👍 Adding fluctuations for better visualization(jittering)",
      "metadata": {
        "slideshow": {
          "slide_type": "subslide"
        }
      }
    },
    {
      "id": "0ec52e7f",
      "cell_type": "code",
      "source": "\n# 绘图\nplt.figure(figsize=(8, 6))\n\n# 箱型图（白色，无异常值）\nsns.boxplot(\n    data=penguins,\n    x='species',\n    y='flipper_length_mm',\n    color='white',\n    showfliers=False\n)\n\n# 原始数据点（红色，半透明）\nsns.stripplot(\n    data=penguins,\n    x='species',\n    y='flipper_length_mm',\n    color='#CC0000',\n    size=3,\n    alpha=0.5,\n    jitter=True  # 加抖动防重叠\n)\n\nplt.title(\"Flipper Length by Species (with Raw Data Points)\")\nplt.xlabel(\"Species\")\nplt.ylabel(\"Flipper Length (mm)\")\nplt.tight_layout()\nplt.show()",
      "metadata": {
        "slideshow": {
          "slide_type": "fragment"
        },
        "trusted": true
      },
      "outputs": [],
      "execution_count": null
    },
    {
      "id": "95ef3228",
      "cell_type": "markdown",
      "source": "### Contents today\n1. histograms(直方图)\n2. density plots(密度图)\n3. box plots(箱形图)\n4. ***violin plots(小提琴图)***\n5. raincloud plots(云雨图)\n6. ridgeline plots(嵴线图)",
      "metadata": {
        "slideshow": {
          "slide_type": "slide"
        }
      }
    },
    {
      "id": "627720e5",
      "cell_type": "markdown",
      "source": "### 4. Violin Plots\n<pre>\nsns.violinplot()\n</pre>\n\nSimilar to box plots, violin plots provide more detailed data visualization.\n\nUnlike box plots, violin plots can accurately represent multimodal data, such as bimodal distributions, which box plots cannot.\n\nA violin plot is essentially a density plot combined with its mirror image, giving it the shape of a violin.",
      "metadata": {
        "slideshow": {
          "slide_type": "subslide"
        }
      }
    },
    {
      "id": "39999185",
      "cell_type": "markdown",
      "source": "<div>\n<img src=\"./vioplot.png\" width=\"300\"/>\n</div>\n",
      "metadata": {
        "slideshow": {
          "slide_type": "subslide"
        }
      }
    },
    {
      "id": "87ba1799-aa2f-40a6-a299-c143067a0a5e",
      "cell_type": "code",
      "source": "penguins = sns.load_dataset(\"penguins\")\nplt.figure(figsize=(8, 5))\nsns.violinplot(data=penguins, x='species', y='flipper_length_mm')\nplt.title(\"Flipper Length of Different Species\")\nplt.xlabel(\"Species\")\nplt.ylabel(\"Flipper Length（mm）\")\nplt.show()",
      "metadata": {
        "slideshow": {
          "slide_type": "subslide"
        },
        "trusted": true
      },
      "outputs": [],
      "execution_count": null
    },
    {
      "id": "0971d1e7-e475-44af-a774-bf0f0f166605",
      "cell_type": "markdown",
      "source": "#### Rotation and Scale",
      "metadata": {
        "slideshow": {
          "slide_type": "subslide"
        }
      }
    },
    {
      "id": "d913644b",
      "cell_type": "code",
      "source": "plt.figure(figsize=(8, 5))\nsns.violinplot(data=penguins, y='species', x='flipper_length_mm',scale = 'count')  \nplt.title(\"Flipper Length of Different Species (Rotated)\")\nplt.ylabel(\"Species\")\nplt.xlabel(\"Flipper Length (mm)\")\nplt.show()",
      "metadata": {
        "slideshow": {
          "slide_type": "fragment"
        },
        "trusted": true
      },
      "outputs": [],
      "execution_count": null
    },
    {
      "id": "3e4565cb-228a-4202-b7ee-2576431ef6e5",
      "cell_type": "markdown",
      "source": "#### Change colors",
      "metadata": {
        "slideshow": {
          "slide_type": "subslide"
        }
      }
    },
    {
      "id": "d99916a3-bf13-419b-b479-56dbc48936c6",
      "cell_type": "code",
      "source": "plt.figure(figsize=(8, 5))\nsns.violinplot(data=penguins, y='species', x='flipper_length_mm', palette='Set1')\nplt.title(\"Flipper Length with Custom Colors\")\nplt.xlabel(\"Species\")\nplt.ylabel(\"Flipper Length (mm)\")\nplt.show()",
      "metadata": {
        "slideshow": {
          "slide_type": "fragment"
        },
        "trusted": true
      },
      "outputs": [],
      "execution_count": null
    },
    {
      "id": "a3ca1e6a-a976-4c68-83f2-75b86331feb7",
      "cell_type": "markdown",
      "source": "#### Thicker lines",
      "metadata": {
        "slideshow": {
          "slide_type": "subslide"
        }
      }
    },
    {
      "id": "3dc44970-1218-4b81-b68f-ff44c72fe8ff",
      "cell_type": "code",
      "source": "plt.figure(figsize=(7, 4))\nsns.violinplot(\n    data=penguins,\n    x='flipper_length_mm',\n    y='species',\n    linewidth=2,\n    palette='muted'\n)\nplt.title(\"Violin Plot with Thicker Edges\")\nplt.show()",
      "metadata": {
        "slideshow": {
          "slide_type": "fragment"
        },
        "trusted": true
      },
      "outputs": [],
      "execution_count": null
    },
    {
      "id": "42eeb56b-8db9-441b-b4ab-c170b6c513b1",
      "cell_type": "markdown",
      "source": "#### Adding points",
      "metadata": {
        "slideshow": {
          "slide_type": "subslide"
        }
      }
    },
    {
      "id": "3403eb39-f588-46d8-bdc0-b31fa48a2e2a",
      "cell_type": "code",
      "source": "plt.figure(figsize=(7, 4))\nsns.violinplot(\n    data=penguins,\n    x='flipper_length_mm',\n    y='species',\n    inner=None,  # 不画 quartile box\n    palette='Set1'\n)\nsns.stripplot(\n    data=penguins,\n    x='flipper_length_mm',\n    y='species',\n    color='black',\n    size=2.5,\n    jitter=True,\n    alpha=0.4\n)\nplt.title(\"Violin + Jittered Raw Data Points\")\nplt.show()",
      "metadata": {
        "slideshow": {
          "slide_type": "fragment"
        },
        "trusted": true
      },
      "outputs": [],
      "execution_count": null
    },
    {
      "id": "2dbb6c40-108a-4a21-a8ce-1f7430468710",
      "cell_type": "markdown",
      "source": "#### Adding median",
      "metadata": {
        "slideshow": {
          "slide_type": "subslide"
        }
      }
    },
    {
      "id": "be0e2fd8-6108-40d8-8f38-5930b0acfccf",
      "cell_type": "code",
      "source": "plt.figure(figsize=(7, 4))\nsns.violinplot(\n    data=penguins,\n    x='flipper_length_mm',\n    y='species',\n    inner=None,\n    palette='Set1'\n)\n\n# 添加中位数点\nmedians = penguins.groupby(\"species\")[\"flipper_length_mm\"].median()\nfor i, species in enumerate(medians.index):\n    plt.plot(medians[species], i, marker='s', color='black', markersize=6)\n\nplt.title(\"Violin Plot with Median Highlight\")\nplt.show()",
      "metadata": {
        "slideshow": {
          "slide_type": "fragment"
        },
        "trusted": true
      },
      "outputs": [],
      "execution_count": null
    },
    {
      "id": "f75b1645",
      "cell_type": "markdown",
      "source": "### Contents today\n1. histograms(直方图)\n2. density plots(密度图)\n3. box plots(箱形图)\n4. violin plots(小提琴图)\n5. ***raincloud plots(云雨图)***\n6. ridgeline plots(嵴线图)",
      "metadata": {
        "slideshow": {
          "slide_type": "slide"
        }
      }
    },
    {
      "id": "16bc68ac-fc81-4ab3-9177-7e7789962a7a",
      "cell_type": "markdown",
      "source": "### raincloud plots\nRaincloud plots = Half violin plot + Boxplot + Jittered scatter plot",
      "metadata": {
        "slideshow": {
          "slide_type": "subslide"
        }
      }
    },
    {
      "id": "3ff37087-9964-4cf5-a9f2-df77e9d4a8d6",
      "cell_type": "code",
      "source": "import seaborn as sns\nimport matplotlib.pyplot as plt\nimport numpy as np\nimport pandas as pd\nfrom scipy.stats import gaussian_kde\nfrom matplotlib.patches import Rectangle\n\npenguins = sns.load_dataset(\"penguins\")\ndf = penguins.dropna(subset=[\"sex\", \"body_mass_g\"]).copy()\n\ngroups = [\"Male\", \"Female\"]\npalette = {\"Male\": \"#4E79A7\", \"Female\": \"#F28E2B\"}\n\nx_grid = np.linspace(df[\"body_mass_g\"].min(), df[\"body_mass_g\"].max(), 200)\nmax_dens_global = 0\ndens_dict = {}\n\nfor grp in groups:\n    values = df[df[\"sex\"] == grp][\"body_mass_g\"].values\n    kde = gaussian_kde(values, bw_method=0.3)\n    y_vals = kde(x_grid)\n    dens_dict[grp] = y_vals\n    max_dens_global = max(max_dens_global, y_vals.max())\n\nplt.figure(figsize=(6, 6))\nax = plt.gca()\n\nfor i, grp in enumerate(groups):\n    values = df[df[\"sex\"] == grp][\"body_mass_g\"].values\n    density = dens_dict[grp]\n    scaled_dens = density * (0.4 / max_dens_global)\n    base_y = i\n\n    # 半小提琴图（上方）\n    plt.fill_between(\n        x_grid,\n        base_y + scaled_dens,\n        base_y,\n        color=palette[grp],\n        alpha=0.6\n    )\n\n    # ggplot 风格 box\n    q1, med, q3 = np.percentile(values, [25, 50, 75])\n    box_width = 0.1\n    box_left = q1\n    box_right = q3\n    box_bottom = base_y - box_width / 2\n    box_height = box_width\n\n    ax.add_patch(Rectangle(\n        (box_left, box_bottom),\n        box_right - box_left,\n        box_height,\n        facecolor='white',\n        edgecolor='black',\n        linewidth=1.5,\n        zorder=3\n    ))\n\n    # 中位数线\n    plt.plot([med, med], [box_bottom, box_bottom + box_height], color='black', lw=1.2, zorder=4)\n\n    # jitter 原始点（下方）\n    x_jitter = values + np.random.normal(0, 5, size=len(values))\n    y_jitter = np.random.uniform(base_y - 0.3, base_y - 0.1, size=len(values))\n    plt.scatter(x_jitter, y_jitter, s=10, alpha=0.5, color=palette[grp] )\n\n# 图形美化\nplt.yticks(range(len(groups)), groups)\nplt.xlabel(\"Body Mass (g)\")\nplt.ylabel(\"Sex\")\nplt.title(\"Raincloud Plot by Sex\")\nplt.grid(axis='x', linestyle='--', alpha=0.3)\nplt.legend()\nplt.tight_layout()\nplt.show()",
      "metadata": {
        "slideshow": {
          "slide_type": "subslide"
        },
        "trusted": true
      },
      "outputs": [],
      "execution_count": null
    },
    {
      "id": "d1f0cc41",
      "cell_type": "markdown",
      "source": "### Contents today\n1. histograms(直方图)\n2. density plots(密度图)\n3. box plots(箱形图)\n4. violin plots(小提琴图)\n5. raincloud plots(云雨图)\n6. ***ridgeline plots(嵴线图)***",
      "metadata": {
        "slideshow": {
          "slide_type": "slide"
        }
      }
    },
    {
      "id": "05066ba4-1d5b-46fc-8117-9165728cd600",
      "cell_type": "markdown",
      "source": "### Ridgeline plot\n- Ridgeline plot\n- Colors, Emphasis\n- Ridgeline plot with joypy package\n- R ggplot2 with python",
      "metadata": {
        "slideshow": {
          "slide_type": "subslide"
        }
      }
    },
    {
      "id": "032f4c13",
      "cell_type": "code",
      "source": "import numpy as np\nfrom scipy.stats import gaussian_kde\n\n\n# 准备数据: 组合物种和性别作为新类别\ndf = penguins.dropna(subset=['sex']).copy()\ndf['group'] = df['species'] + ' - ' + df['sex']\n# 取出所有的组\ngroups = df.groupby('group')['flipper_length_mm'].unique().index\n# 计算各组的密度曲线\ndensity_curves_group = {}\nx_grid = np.linspace(df['flipper_length_mm'].min(), df['flipper_length_mm'].max(), 200)\nmax_dens_global = 0\nfor grp in groups:\n    vals = df[df['group']==grp]['flipper_length_mm'].values\n    kde = gaussian_kde(vals)\n    dens = kde(x_grid)\n    density_curves_group[grp] = dens\n    max_dens_global = max(max_dens_global, dens.max())\n# plt.figure()\nfor j, grp in enumerate(groups):\n    dens = density_curves_group[grp]\n    dens_height = dens * (2/ max_dens_global)\n    base = j  # 每组的基线y位置\n    plt.fill_between(x_grid, base, base + dens_height, alpha=0.7)\nplt.yticks(range(len(groups)), groups)\nplt.xlabel('Flipper Length(mm)')\nplt.ylabel('Groups')\nplt.title('Ridgeline Plot: Distribution of Flipper Length by Species & Sex')\nplt.show()\n",
      "metadata": {
        "slideshow": {
          "slide_type": "subslide"
        },
        "trusted": true
      },
      "outputs": [],
      "execution_count": null
    },
    {
      "id": "616bc2dd",
      "cell_type": "markdown",
      "source": "#### Same color",
      "metadata": {
        "slideshow": {
          "slide_type": "subslide"
        }
      }
    },
    {
      "id": "404a1f86-8d02-499f-b60c-a05263ee93f2",
      "cell_type": "code",
      "source": "import numpy as np\nfrom scipy.stats import gaussian_kde\n\n\n# 准备数据: 组合物种和性别作为新类别\ndf = penguins.dropna(subset=['sex']).copy()\ndf['group'] = df['species'] + ' - ' + df['sex']\n# 取出所有的组\ngroups = df.groupby('group')['flipper_length_mm'].unique().index\n# 计算各组的密度曲线\ndensity_curves_group = {}\nx_grid = np.linspace(df['flipper_length_mm'].min(), df['flipper_length_mm'].max(), 200)\nmax_dens_global = 0\nfor grp in groups:\n    vals = df[df['group']==grp]['flipper_length_mm'].values\n    kde = gaussian_kde(vals)\n    dens = kde(x_grid)\n    density_curves_group[grp] = dens\n    max_dens_global = max(max_dens_global, dens.max())\nplt.figure()\nfor j, grp in enumerate(groups):\n    dens = density_curves_group[grp]\n    dens_height = dens * (2/ max_dens_global)\n    base = j  # 每组的基线y位置\n    plt.fill_between(x_grid, base, base + dens_height, color = '#CC0000',alpha=0.7)\nplt.yticks(range(len(groups)), groups)\nplt.xlabel('Flipper Length(mm)')\nplt.ylabel('Groups')\nplt.title('Ridgeline Plot: Distribution of Flipper Length by Species & Sex')\nplt.show()\n",
      "metadata": {
        "slideshow": {
          "slide_type": "fragment"
        },
        "trusted": true
      },
      "outputs": [],
      "execution_count": null
    },
    {
      "id": "aef093db",
      "cell_type": "markdown",
      "source": "#### Emphasize some group",
      "metadata": {
        "slideshow": {
          "slide_type": "subslide"
        }
      }
    },
    {
      "id": "832c93c6-93ae-47ac-a9f3-434a52745b47",
      "cell_type": "code",
      "source": "import numpy as np\nfrom scipy.stats import gaussian_kde\n\n\n# 准备数据: 组合物种和性别作为新类别\ndf = penguins.dropna(subset=['sex']).copy()\ndf['group'] = df['species'] + ' - ' + df['sex']\n# 取出所有的组\ngroups = df.groupby('group')['flipper_length_mm'].mean().sort_values().index\n# 计算各组的密度曲线\ndensity_curves_group = {}\nx_grid = np.linspace(df['flipper_length_mm'].min(), df['flipper_length_mm'].max(), 200)\nmax_dens_global = 0\nfor grp in groups:\n    vals = df[df['group']==grp]['flipper_length_mm'].values\n    kde = gaussian_kde(vals)\n    dens = kde(x_grid)\n    density_curves_group[grp] = dens\n    max_dens_global = max(max_dens_global, dens.max())\nplt.figure()\nfor j, grp in enumerate(groups):\n    dens = density_curves_group[grp]\n    dens_height = dens * (2/ max_dens_global)\n    base = j  # 每组的基线y位置\n    if grp == 'Adelie - Male':\n        cl = '#CC0000'\n    else:\n        cl = 'grey'\n    plt.fill_between(x_grid, base, base + dens_height, color = cl,alpha=0.7)\nplt.yticks(range(len(groups)), groups)\nplt.xlabel('Flipper Length(mm)')\nplt.ylabel('Groups')\nplt.title('Ridgeline Plot: Distribution of Flipper Length by Species & Sex')\nplt.show()\n",
      "metadata": {
        "slideshow": {
          "slide_type": "fragment"
        },
        "trusted": true
      },
      "outputs": [],
      "execution_count": null
    },
    {
      "id": "2f62b9df-f627-4a37-a130-8535fef50cef",
      "cell_type": "markdown",
      "source": "#### Adding jitter plots",
      "metadata": {
        "slideshow": {
          "slide_type": "subslide"
        }
      }
    },
    {
      "id": "074cbbd3-a482-43f9-aa15-3ebbfaa1614b",
      "cell_type": "code",
      "source": "import numpy as np\nimport matplotlib.pyplot as plt\nfrom scipy.stats import gaussian_kde\nimport seaborn as sns\n\n# 准备数据\npenguins = sns.load_dataset(\"penguins\")\ndf = penguins.dropna(subset=['sex', 'flipper_length_mm']).copy()\ndf['group'] = df['species'] + ' - ' + df['sex']\n\n# 所有组合组\ngroups = df['group'].unique()\ngroups = sorted(groups)\n\n# KDE 曲线数据准备\nx_grid = np.linspace(df['flipper_length_mm'].min(), df['flipper_length_mm'].max(), 200)\ndensity_curves_group = {}\nmax_dens_global = 0\n\n# 计算每组 KDE 曲线\nfor grp in groups:\n    vals = df[df['group'] == grp]['flipper_length_mm'].values\n    kde = gaussian_kde(vals)\n    dens = kde(x_grid)\n    density_curves_group[grp] = dens\n    max_dens_global = max(max_dens_global, dens.max())\n\n# 创建图形\nplt.figure(figsize=(10, len(groups) * 1))\n\nfor j, grp in enumerate(groups):\n    # 获取曲线\n    dens = density_curves_group[grp]\n    dens_height = dens * (2.0 / max_dens_global)  # 缩放统一高度\n    base = j  # 每组的 y 位置\n\n    # 画密度曲线\n    plt.fill_between(x_grid, base, base + dens_height, color='#CC0000', alpha=0.7)\n    \n    # 添加 jittered 原始点\n    raw_vals = df[df['group'] == grp]['flipper_length_mm'].values\n    x_jit = raw_vals  \n    y_jit = np.random.uniform(base - 0.1, base + 0.1, size=len(raw_vals))  # 垂直轻抖动\n    plt.scatter(x_jit, y_jit, s=5, alpha=0.4, color='black')\n\n# 设置坐标轴与标题\nplt.yticks(range(len(groups)), groups)\nplt.xlabel('Flipper Length(mm)')\nplt.ylabel('Groups')\nplt.title('Ridgeline Plot: Distribution of Flipper Length by Species & Sex')\nplt.tight_layout()\nplt.show()",
      "metadata": {
        "slideshow": {
          "slide_type": "fragment"
        },
        "trusted": true
      },
      "outputs": [],
      "execution_count": null
    },
    {
      "id": "ec0e481f-7d70-4106-af90-1fff79d3a1bb",
      "cell_type": "markdown",
      "source": "#### Ridgeline plot with joypy",
      "metadata": {
        "slideshow": {
          "slide_type": "subslide"
        }
      }
    },
    {
      "id": "06b5d249",
      "cell_type": "code",
      "source": "import joypy\n\npenguins['group'] = penguins['species'] + ' | ' + penguins['sex']\n\n# 按 group 画 ridgeline 图\nplt.figure()\njoypy.joyplot(\n    data=penguins,\n    by='group',\n    column='flipper_length_mm',\n    kind='kde',\n    overlap=0,\n    # colormap=plt.cm.Set2,   # 彩色方案\n    linewidth=1\n)\n\nplt.xlabel(\"Flipper Length (mm)\")\nplt.title(\"Distribution of Flipper Length by Species & Sex\")\n# plt.tight_layout()\nplt.show()",
      "metadata": {
        "scrolled": true,
        "slideshow": {
          "slide_type": "fragment"
        },
        "trusted": true
      },
      "outputs": [],
      "execution_count": null
    },
    {
      "id": "de756670-ea88-4c6c-b336-85806a1929dd",
      "cell_type": "markdown",
      "source": "#### R ggplot2 with python",
      "metadata": {
        "slideshow": {
          "slide_type": "subslide"
        }
      }
    },
    {
      "id": "eab443fb-bc1b-48e6-a3ce-b047c5d243b2",
      "cell_type": "markdown",
      "source": "Download R and install two packages:\n- install.packages(\"ggplot2\")\n- install.packages(\"ggridges\") \n",
      "metadata": {
        "slideshow": {
          "slide_type": "fragment"
        }
      }
    },
    {
      "id": "eac22a5b-0167-4c42-bc8f-05b39caf6531",
      "cell_type": "markdown",
      "source": "Tell python where your R installed:\n- import os\n- os.environ[\"R_HOME\"] = \"C:/Program Files/R/R-4.4.3\"",
      "metadata": {
        "slideshow": {
          "slide_type": "fragment"
        }
      }
    },
    {
      "id": "83f07974-d545-4ecd-8e74-e38369c59622",
      "cell_type": "code",
      "source": "import os\n# 替换为你真实的 R 安装路径\nos.environ[\"R_HOME\"] = \"C:/Program Files/R/R-4.4.3\"",
      "metadata": {
        "slideshow": {
          "slide_type": "fragment"
        },
        "trusted": true
      },
      "outputs": [],
      "execution_count": null
    },
    {
      "id": "c57662ae-b284-4f1d-b640-dc0442d7d3d0",
      "cell_type": "markdown",
      "source": "import usefull packages",
      "metadata": {
        "slideshow": {
          "slide_type": "subslide"
        }
      }
    },
    {
      "id": "382256bf-9088-4d4f-8b2b-3747dd2b702f",
      "cell_type": "code",
      "source": "### rpy2.robjects: 提供访问 R 的接口。\nfrom rpy2.robjects import r, pandas2ri\n###  pandas2ri: 用于 pandas ↔ R dataframe 转换。\nfrom rpy2.robjects.packages import importr\n### importr: 加载 R 中的包。\nfrom rpy2.robjects.conversion import localconverter\n### localconverter: 作用于 R-Pandas 转换时的上下文管理器。",
      "metadata": {
        "slideshow": {
          "slide_type": "fragment"
        },
        "trusted": true
      },
      "outputs": [],
      "execution_count": null
    },
    {
      "id": "f3087235",
      "cell_type": "code",
      "source": "import seaborn as sns\nimport pandas as pd\npenguins = sns.load_dataset(\"penguins\").dropna(subset=[\"flipper_length_mm\", \"species\", \"sex\"])\npenguins[\"group\"] = penguins[\"species\"] + \" | \" + penguins[\"sex\"]\n\n# 重命名列以匹配 R 中 aes\npenguins = penguins.rename(columns={\"flipper_length_mm\": \"x\"})\n\n# 加载 R 包\npandas2ri.activate()\nggplot2 = importr(\"ggplot2\")\nggridges = importr(\"ggridges\")\n\n# 转换 pandas → R dataframe\nwith localconverter(pandas2ri.converter):\n    rdf = pandas2ri.py2rpy(penguins)\n# print(rdf)\n# 定义 R 函数用于绘图并保存\nr('''\nlibrary(ggplot2)\nlibrary(ggridges)\n\ndraw_flipper_ridges <- function(df, filename) {\n  p <- ggplot(df, aes(x = x, y = group)) +\n    geom_density_ridges(fill = \"#CC0000\", color = \"white\", alpha = 0.75) +\n    theme_minimal() +\n    labs(x = \"Flipper Length (mm)\", y = \"Species | Sex\",\n         title = \"Distribution of Flipper Length by Species & Sex\")\n\n  ggsave(filename, p, width = 8, height = 5, dpi = 300)\n}\n''')\n\n# 调用 R 函数绘图并保存\nr[\"draw_flipper_ridges\"](rdf, \"flipper_ridges.png\")\n\n",
      "metadata": {
        "slideshow": {
          "slide_type": "subslide"
        },
        "trusted": true
      },
      "outputs": [],
      "execution_count": null
    },
    {
      "id": "9655a175-840e-4811-a78a-2fb1e0544058",
      "cell_type": "code",
      "source": "# 用 Python 显示图像\nfrom PIL import Image\nimport matplotlib.pyplot as plt\n\nimg = Image.open(\"flipper_ridges.png\")\nplt.imshow(img)\nplt.axis('off')\nplt.show()",
      "metadata": {
        "slideshow": {
          "slide_type": "subslide"
        },
        "trusted": true
      },
      "outputs": [],
      "execution_count": null
    },
    {
      "id": "c6933081-0962-4f72-b055-a64b7a5184b0",
      "cell_type": "markdown",
      "source": "#### Ridgeline plot with Bar plot",
      "metadata": {
        "slideshow": {
          "slide_type": "subslide"
        }
      }
    },
    {
      "id": "d650ebf4-9388-4f47-baf8-6050f9c2b838",
      "cell_type": "code",
      "source": "import seaborn as sns\nimport pandas as pd\npenguins = sns.load_dataset(\"penguins\").dropna(subset=[\"flipper_length_mm\", \"species\", \"sex\"])\npenguins[\"group\"] = penguins[\"species\"] + \" | \" + penguins[\"sex\"]\n\n# 重命名列以匹配 R 中 aes\npenguins = penguins.rename(columns={\"flipper_length_mm\": \"x\"})\n\n# 加载 R 包\npandas2ri.activate()\nggplot2 = importr(\"ggplot2\")\nggridges = importr(\"ggridges\")\n\n# 转换 pandas → R dataframe\nwith localconverter(pandas2ri.converter):\n    rdf = pandas2ri.py2rpy(penguins)\n# print(rdf)\n# 定义 R 函数用于绘图并保存\nr('''\nlibrary(ggplot2)\nlibrary(ggridges)\n\ndraw_flipper_ridges <- function(df, filename) {\n  p <- ggplot(df, aes(x = x, y = group)) +\n    geom_density_ridges(stat = \"binline\",binwidth = 3,fill = \"#CC0000\", color = \"white\", alpha = 0.75) +\n    theme_minimal() +\n    labs(x = \"Flipper Length (mm)\", y = \"Species | Sex\",\n         title = \"Distribution of Flipper Length by Species & Sex\")\n\n  ggsave(filename, p, width = 8, height = 5, dpi = 300)\n}\n''')\n\n# 调用 R 函数绘图并保存\nr[\"draw_flipper_ridges\"](rdf, \"flipper_ridges.png\")\n\n# 用 Python 显示图像\nfrom PIL import Image\nimport matplotlib.pyplot as plt\n\nimg = Image.open(\"flipper_ridges.png\")\nplt.imshow(img)\nplt.axis('off')\nplt.show()",
      "metadata": {
        "slideshow": {
          "slide_type": "fragment"
        },
        "trusted": true
      },
      "outputs": [],
      "execution_count": null
    },
    {
      "id": "16a0fb46-933e-4e06-825d-7b6d36d4be58",
      "cell_type": "markdown",
      "source": "#### Ridgeline plot with jitter points",
      "metadata": {
        "slideshow": {
          "slide_type": "subslide"
        }
      }
    },
    {
      "id": "bab9d13a-fd08-4efc-9504-c61353ee8674",
      "cell_type": "code",
      "source": "import seaborn as sns\nimport pandas as pd\npenguins = sns.load_dataset(\"penguins\").dropna(subset=[\"flipper_length_mm\", \"species\", \"sex\"])\npenguins[\"group\"] = penguins[\"species\"] + \" | \" + penguins[\"sex\"]\n\n# 重命名列以匹配 R 中 aes\npenguins = penguins.rename(columns={\"flipper_length_mm\": \"x\"})\n\n# 加载 R 包\npandas2ri.activate()\nggplot2 = importr(\"ggplot2\")\nggridges = importr(\"ggridges\")\n\n# 转换 pandas → R dataframe\nwith localconverter(pandas2ri.converter):\n    rdf = pandas2ri.py2rpy(penguins)\n# print(rdf)\n# 定义 R 函数用于绘图并保存\nr('''\nlibrary(ggplot2)\nlibrary(ggridges)\n\ndraw_flipper_ridges <- function(df, filename) {\n  p <- ggplot(df, aes(x = x, y = group)) +\n    geom_density_ridges(jittered_points = TRUE,point_size = 0.5, fill = \"#CC0000\", alpha = 0.75) +\n    theme_minimal() +\n    labs(x = \"Flipper Length (mm)\", y = \"Species | Sex\",\n         title = \"Distribution of Flipper Length by Species & Sex\")\n\n  ggsave(filename, p, width = 8, height = 5, dpi = 300)\n}\n''')\n\n# 调用 R 函数绘图并保存\nr[\"draw_flipper_ridges\"](rdf, \"flipper_ridges.png\")\n\n# 用 Python 显示图像\nfrom PIL import Image\nimport matplotlib.pyplot as plt\n\nimg = Image.open(\"flipper_ridges.png\")\nplt.imshow(img)\nplt.axis('off')\nplt.show()",
      "metadata": {
        "slideshow": {
          "slide_type": "fragment"
        },
        "trusted": true
      },
      "outputs": [],
      "execution_count": null
    },
    {
      "id": "c89f89b5-7605-48d5-bc7e-c94edaa5db4d",
      "cell_type": "code",
      "source": "import seaborn as sns\nimport pandas as pd\npenguins = sns.load_dataset(\"penguins\").dropna(subset=[\"flipper_length_mm\", \"species\", \"sex\"])\npenguins[\"group\"] = penguins[\"species\"] + \" | \" + penguins[\"sex\"]\n\n# 重命名列以匹配 R 中 aes\npenguins = penguins.rename(columns={\"flipper_length_mm\": \"x\"})\n\n# 加载 R 包\npandas2ri.activate()\nggplot2 = importr(\"ggplot2\")\nggridges = importr(\"ggridges\")\n\n# 转换 pandas → R dataframe\nwith localconverter(pandas2ri.converter):\n    rdf = pandas2ri.py2rpy(penguins)\n# print(rdf)\n# 定义 R 函数用于绘图并保存\nr('''\nlibrary(ggplot2)\nlibrary(ggridges)\n\ndraw_flipper_ridges <- function(df, filename) {\n  p <- ggplot(df, aes(x = x, y = group)) +\n    geom_density_ridges(fill = '#CC0000',jittered_points = TRUE, position = position_points_jitter(width = 0.05, height = 0),\n    point_shape = \"|\", point_size = 3, alpha =0.7)+\n        theme_minimal() +\n    labs(x = \"Flipper Length (mm)\", y = \"Species | Sex\",\n         title = \"Distribution of Flipper Length by Species & Sex\")\n\n  ggsave(filename, p, width = 8, height = 5, dpi = 300)\n}\n''')\n\n# 调用 R 函数绘图并保存\nr[\"draw_flipper_ridges\"](rdf, \"flipper_ridges.png\")\n\n# 用 Python 显示图像\nfrom PIL import Image\nimport matplotlib.pyplot as plt\n\nimg = Image.open(\"flipper_ridges.png\")\nplt.imshow(img)\nplt.axis('off')\nplt.show()",
      "metadata": {
        "slideshow": {
          "slide_type": "subslide"
        },
        "trusted": true
      },
      "outputs": [],
      "execution_count": null
    },
    {
      "id": "af7754b8-0a52-4b65-a56c-9e8db257ca7d",
      "cell_type": "markdown",
      "source": "#### Ridgeline plot with raincloud ",
      "metadata": {
        "slideshow": {
          "slide_type": "subslide"
        }
      }
    },
    {
      "id": "3f793aeb-e30a-4f05-8fac-8210dabda6cf",
      "cell_type": "code",
      "source": "import seaborn as sns\nimport pandas as pd\npenguins = sns.load_dataset(\"penguins\").dropna(subset=[\"flipper_length_mm\", \"species\", \"sex\"])\npenguins[\"group\"] = penguins[\"species\"] + \" | \" + penguins[\"sex\"]\n\n# 重命名列以匹配 R 中 aes\npenguins = penguins.rename(columns={\"flipper_length_mm\": \"x\"})\n\n# 加载 R 包\npandas2ri.activate()\nggplot2 = importr(\"ggplot2\")\nggridges = importr(\"ggridges\")\n\n# 转换 pandas → R dataframe\nwith localconverter(pandas2ri.converter):\n    rdf = pandas2ri.py2rpy(penguins)\n# print(rdf)\n# 定义 R 函数用于绘图并保存\nr('''\nlibrary(ggplot2)\nlibrary(ggridges)\n\ndraw_flipper_ridges <- function(df, filename) {\n  p <- ggplot(df, aes(x = x, y = group)) +\n    geom_density_ridges(fill = '#CC0000',jittered_points = TRUE, point_size = 0.5,\n    SCALE =0.6, alpha =0.7, position = 'raincloud')+\n        theme_minimal() +\n    labs(x = \"Flipper Length (mm)\", y = \"Species | Sex\",\n         title = \"Distribution of Flipper Length by Species & Sex\")\n\n  ggsave(filename, p, width = 8, height = 5, dpi = 300)\n}\n''')\n\n# 调用 R 函数绘图并保存\nr[\"draw_flipper_ridges\"](rdf, \"flipper_ridges.png\")\n\n# 用 Python 显示图像\nfrom PIL import Image\nimport matplotlib.pyplot as plt\n\nimg = Image.open(\"flipper_ridges.png\")\nplt.imshow(img)\nplt.axis('off')\nplt.show()",
      "metadata": {
        "slideshow": {
          "slide_type": "fragment"
        },
        "trusted": true
      },
      "outputs": [],
      "execution_count": null
    }
  ]
}