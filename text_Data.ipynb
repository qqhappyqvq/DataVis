{
  "metadata": {
    "kernelspec": {
      "name": "python",
      "display_name": "Python (Pyodide)",
      "language": "python"
    },
    "language_info": {
      "codemirror_mode": {
        "name": "ipython",
        "version": 3
      },
      "file_extension": ".py",
      "mimetype": "text/x-python",
      "name": "python",
      "nbconvert_exporter": "python",
      "pygments_lexer": "ipython3",
      "version": "3.9.21"
    },
    "celltoolbar": "Slideshow"
  },
  "nbformat_minor": 5,
  "nbformat": 4,
  "cells": [
    {
      "id": "5bab3162-e510-4a6b-afc2-e461d2d00dc3",
      "cell_type": "markdown",
      "source": "## Data Visualization\n### NLP Basics and visualization text data\n- Xianli Zeng\n- SOE, Xiamen University",
      "metadata": {
        "slideshow": {
          "slide_type": "slide"
        }
      }
    },
    {
      "id": "ee1168eb-a132-48d8-b148-a84cefd3f3c1",
      "cell_type": "markdown",
      "source": "Natural Language Processing (NLP)  \n- *Making Machines Understand Human Language*\n- *\"Teaching computers to read, write, and communicate\"*",
      "metadata": {
        "slideshow": {
          "slide_type": "slide"
        }
      }
    },
    {
      "id": "a2908f97-ba5c-4ff4-9ac6-2db54c6c724e",
      "cell_type": "markdown",
      "source": "\n### Key Applications\n| Application          | Examples                         |\n|----------------------|----------------------------------|\n| **Text Generation**  | ChatGPT, email autocomplete      |\n| **Translation**      | Google Translate, DeepL          |\n| **Sentiment Analysis** | Product review classification   |\n| **Speech Recognition** | Siri, Alexa, transcription tools |\n",
      "metadata": {
        "slideshow": {
          "slide_type": "subslide"
        }
      }
    },
    {
      "id": "36e7bdc7-e64a-4eaa-84f5-e66664e3e7e7",
      "cell_type": "markdown",
      "source": "## Visualizing Text Data: Word Frequency & Word Cloud\n\n",
      "metadata": {
        "slideshow": {
          "slide_type": "slide"
        }
      }
    },
    {
      "id": "4c8f1fde-8a6d-443b-a25c-69096781926c",
      "cell_type": "markdown",
      "source": "### Word Frequency Bar Chart\n",
      "metadata": {
        "slideshow": {
          "slide_type": "subslide"
        }
      }
    },
    {
      "id": "0f252b9d-5fbb-49d0-b55e-188b85b17558",
      "cell_type": "markdown",
      "source": "- A bar chart showing the most frequent words in a document.\n- Highlights dominant vocabulary.\n- Useful for quick overview of content themes.\n\nSteps \n1. Tokenize the text\n2. Remove stopwords & short words\n3. Count word frequencies\n4. Plot the top N words\n",
      "metadata": {
        "slideshow": {
          "slide_type": "fragment"
        }
      }
    },
    {
      "id": "21404cfc-63ff-4882-a197-d9fa0c660897",
      "cell_type": "markdown",
      "source": "### Word Cloud\n\n- A visual representation of text data.\n- Each word’s **font size** corresponds to its **frequency**.\n- No axes — the layout is often **random** or shaped (e.g. heart, brain).\n- Widely used for exploratory text analysis and visual summaries.\n\n\n\n\nSteps \n1. Tokenize the text\n2. Remove stopwords & short words\n3. Count word frequencies\n4. Plot wordcloud\n",
      "metadata": {
        "slideshow": {
          "slide_type": "subslide"
        }
      }
    },
    {
      "id": "00d64138-8d7c-4a84-8edb-11edcb2876a5",
      "cell_type": "markdown",
      "source": "### Tokenization",
      "metadata": {
        "slideshow": {
          "slide_type": "subslide"
        }
      }
    },
    {
      "id": "41a5e4ce-e398-4de1-a1e4-9672a048c619",
      "cell_type": "markdown",
      "source": "text = \"我爱自然语言处理\"\n\n我//爱//自然语言//处理",
      "metadata": {
        "slideshow": {
          "slide_type": "fragment"
        }
      }
    },
    {
      "id": "b72b0166-6527-4de2-a228-0bc17eeaf745",
      "cell_type": "markdown",
      "source": "### Tools:\n- English text: nltk\n- Chinese text: jieba",
      "metadata": {
        "slideshow": {
          "slide_type": "subslide"
        }
      }
    },
    {
      "id": "74432057-fbe4-4458-a2c5-cfe839f67546",
      "cell_type": "markdown",
      "source": "Compare to English, Chinese tokenization is much more complicated:\n\n**乒乓球拍卖完了**\n- 乒乓球//拍卖//完了\n- 乒乓球拍//卖完了\n",
      "metadata": {
        "slideshow": {
          "slide_type": "subslide"
        }
      }
    },
    {
      "id": "15ede81b-fb86-41e6-b261-dd18052f292b",
      "cell_type": "code",
      "source": "import jieba\n# text = \"我爱自然语言处理\"\n\ntext = \"乒乓球拍卖完了\"\nword_list = jieba.lcut(text)\nword_list",
      "metadata": {
        "slideshow": {
          "slide_type": "subslide"
        },
        "trusted": true
      },
      "outputs": [],
      "execution_count": null
    },
    {
      "id": "107bb3fc-8b77-4568-8556-13b0148fe5aa",
      "cell_type": "code",
      "source": "import jieba\nimport matplotlib.pyplot as plt\nfrom collections import Counter\n\n\nwith open('changyi.txt', 'r', encoding='utf-8') as file:\n    text = file.read()\nprint(text)",
      "metadata": {
        "slideshow": {
          "slide_type": "subslide"
        },
        "trusted": true
      },
      "outputs": [],
      "execution_count": null
    },
    {
      "id": "ae710383-7bd0-4ae5-825a-9d588725d190",
      "cell_type": "code",
      "source": "\ndef chinese_word_cut(text):\n    # 使用jieba进行分词\n    word_list = jieba.lcut(text)\n    # 去除单个字符和空格\n    word_list = [word for word in word_list if len(word) > 1 and word.strip() != '']\n    return ' '.join(word_list)\n\ncut_text = chinese_word_cut(text)\nprint(cut_text)",
      "metadata": {
        "slideshow": {
          "slide_type": "subslide"
        },
        "trusted": true
      },
      "outputs": [],
      "execution_count": null
    },
    {
      "id": "773b3324-4c22-42c2-9194-da5ddc2988b8",
      "cell_type": "code",
      "source": "import jieba\nimport matplotlib\nfrom collections import Counter\nimport matplotlib.pyplot as plt\nimport matplotlib.font_manager as fm\n\n\nmatplotlib.rcParams['font.family'] = 'SimHei'     # 设置中文字体\nmatplotlib.rcParams['axes.unicode_minus'] = False # 正常显示负号\nwords = cut_text.split()\n\n# 统计词频\nword_counts = Counter(words)\n\n# 获取出现频率最高的前20个词\ntop_words = word_counts.most_common(10)\nlabels, values = zip(*top_words)\n\n# 绘制柱状图 \nplt.figure(figsize=(12, 6))\nplt.bar(labels, values)\nplt.xlabel(\"词语\")\nplt.ylabel(\"词频\")\nplt.title(\"Top 10 词频统计\")\nplt.xticks(rotation=45)\nplt.tight_layout()\nplt.show()",
      "metadata": {
        "slideshow": {
          "slide_type": "subslide"
        },
        "trusted": true
      },
      "outputs": [],
      "execution_count": null
    },
    {
      "id": "8f23869b-1a47-4923-b1b2-117120096c22",
      "cell_type": "code",
      "source": "from wordcloud import WordCloud\n\nfont_path = 'simhei.ttf'  # 或者使用其他中文字体\n\nwordcloud = WordCloud(\n    font_path=font_path,\n    width=800,\n    height=600,\n    background_color='white',\n    max_words=100,\n    max_font_size=400,\n    collocations=False  # 避免重复词语\n).generate(cut_text)\n\n# 5. 显示词云\nplt.figure(figsize=(10, 8))\nplt.imshow(wordcloud, interpolation='bilinear')\nplt.axis('off')\nplt.show()\n\n",
      "metadata": {
        "slideshow": {
          "slide_type": "fragment"
        },
        "trusted": true
      },
      "outputs": [],
      "execution_count": null
    },
    {
      "id": "c9680650-f94b-47bf-9904-68dec971ddfc",
      "cell_type": "code",
      "source": "from PyPDF2 import PdfReader\n### Read contents\nreader = PdfReader(\"NSFC.pdf\")\nall_text = \"\"\nfor page in reader.pages:\n    all_text += page.extract_text()\nall_text",
      "metadata": {
        "slideshow": {
          "slide_type": "fragment"
        },
        "trusted": true
      },
      "outputs": [],
      "execution_count": null
    },
    {
      "id": "1f44ba6f-922a-4e69-ad82-847ed58d25fb",
      "cell_type": "code",
      "source": "\nmatplotlib.rcParams['font.family'] = 'SimHei'     # 设置中文字体\nmatplotlib.rcParams['axes.unicode_minus'] = False # 正常显示负号\n\n# 统计词频\n\nwords = jieba.lcut(all_text)\nwords",
      "metadata": {
        "slideshow": {
          "slide_type": "fragment"
        },
        "trusted": true
      },
      "outputs": [],
      "execution_count": null
    },
    {
      "id": "fa1d1f5b",
      "cell_type": "code",
      "source": "words = [w for w in words if len(w) > 1]\n\nword_counts = Counter(words)\n# 获取出现频率最高的前20个词\ntop_words = word_counts.most_common(15)\nlabels, values = zip(*top_words)\n\n# 绘制柱状图\nplt.figure(figsize=(12, 6))\nplt.bar(labels, values)\nplt.xlabel(\"词语\")\nplt.ylabel(\"词频\")\nplt.title(\"Top 15 词频统计\")\nplt.xticks(rotation=45)\nplt.tight_layout()\nplt.show()",
      "metadata": {
        "slideshow": {
          "slide_type": "fragment"
        },
        "trusted": true
      },
      "outputs": [],
      "execution_count": null
    },
    {
      "id": "2dfbd54a-eac3-49cb-8488-c605f4641b88",
      "cell_type": "code",
      "source": "\nwords = jieba.lcut(all_text)\nwords = [w for w in words if len(w) > 1]\n\nword_counts = Counter(words)\n\nwc = WordCloud(\n    font_path=\"simhei.ttf\", \n    background_color=\"white\",\n    width=800,\n    height=400,\n        max_words=100,\n    max_font_size=200,\n).generate_from_frequencies(word_counts)\n\n# 显示词云\nplt.figure(figsize=(10, 5))\nplt.imshow(wc, interpolation=\"bilinear\")\nplt.axis(\"off\")\nplt.title(\"PDF 词云图\")\nplt.show()",
      "metadata": {
        "slideshow": {
          "slide_type": "fragment"
        },
        "trusted": true
      },
      "outputs": [],
      "execution_count": null
    },
    {
      "id": "0f709624",
      "cell_type": "markdown",
      "source": "#### Mask: wordcloud plot with specific shape",
      "metadata": {
        "slideshow": {
          "slide_type": "subslide"
        }
      }
    },
    {
      "id": "1dbb10b9-00f3-4cca-9872-1b85db1b1947",
      "cell_type": "code",
      "source": "from PIL import Image\nimport numpy as np\nmask = np.array(Image.open(\"heart_mask.png\"))\nwc = WordCloud(\n    font_path=\"simhei.ttf\", \n    background_color=\"white\",\n    mask=mask,\n    width=800,\n    height=400\n).generate_from_frequencies(word_counts)\n\n# 显示词云\nplt.figure(figsize=(10, 5))\nplt.imshow(wc, interpolation=\"bilinear\")\nplt.axis(\"off\")\nplt.title(\"PDF 词云图\")\nplt.show()",
      "metadata": {
        "slideshow": {
          "slide_type": "fragment"
        },
        "trusted": true
      },
      "outputs": [],
      "execution_count": null
    },
    {
      "id": "3db73041-d139-4f2b-9e51-32a8922ac953",
      "cell_type": "markdown",
      "source": "- Use **Word Frequency Bar Chart** when you want:\n  - Precise counts\n  - Side-by-side comparison of top terms\n\n- Use **Word Cloud** when you want:\n  - Quick, informal visualization\n  - Attention-catching visuals for slides or reports\n",
      "metadata": {
        "slideshow": {
          "slide_type": "subslide"
        }
      }
    }
  ]
}