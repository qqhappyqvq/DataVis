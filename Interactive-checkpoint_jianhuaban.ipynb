{
  "metadata": {
    "kernelspec": {
      "name": "python",
      "display_name": "Python (Pyodide)",
      "language": "python"
    },
    "language_info": {
      "codemirror_mode": {
        "name": "ipython",
        "version": 3
      },
      "file_extension": ".py",
      "mimetype": "text/x-python",
      "name": "python",
      "nbconvert_exporter": "python",
      "pygments_lexer": "ipython3",
      "version": "3.9.21"
    },
    "celltoolbar": "Slideshow"
  },
  "nbformat_minor": 5,
  "nbformat": 4,
  "cells": [
    {
      "id": "ebaae040-9c4e-4a54-9f77-6284ebedb170",
      "cell_type": "markdown",
      "source": "## Data Visualization\n### Interactivity & Animation\n- Xinali Zeng\n\n- SOE, Xiamen University\n\n",
      "metadata": {
        "slideshow": {
          "slide_type": "slide"
        }
      }
    },
    {
      "id": "62ee311c-b056-46ad-ac26-6f91cdbb0528",
      "cell_type": "markdown",
      "source": "### 🎯 Today's Goals: plotly \n\n#### Interactivity\n\n#### Animation\n",
      "metadata": {
        "slideshow": {
          "slide_type": "slide"
        }
      }
    },
    {
      "id": "2e8f7d8b-c984-4e38-ade7-2e9433e37a5f",
      "cell_type": "markdown",
      "source": "### Interactive Visualization\n#### Interactivity: Creating engaging, dynamic storytelling through interaction.\n\n- Examples of interactive visualizations for statistical concepts: https://rpsychologist.com/viz\n\n#### Interactive Tools\n- plotly package:\nAdds interactivity to existing plots (such as zooming, tooltips, and animation).\n\n\n",
      "metadata": {
        "slideshow": {
          "slide_type": "slide"
        }
      }
    },
    {
      "id": "ab7fbdb8-13f5-40a5-ab5a-1b8de910b67f",
      "cell_type": "markdown",
      "source": "### Plotly\nPlotly is a new-generation data visualization library for Python, R, MATLAB, Julia, etc, built on top of plotly.js. It offers comprehensive interactive capabilities and flexible plotting options.\n\nReference documentation:   https://plotly.com/python/\n\n\n\nCompared to earlier libraries such as Matplotlib and Seaborn, Plotly takes data visualization to a new level. It comes with built-in interactivity and editing tools, supports both online and offline modes, and provides a stable API for integration with existing applications. Plotly charts can be displayed directly in web browsers or saved as local copies.",
      "metadata": {
        "slideshow": {
          "slide_type": "subslide"
        }
      }
    },
    {
      "id": "fcb544ab-dffe-4f11-a082-e66d9b8e1b59",
      "cell_type": "markdown",
      "source": "Almost all the plots we learned can be drawn using Plotly. Additionally, Plotly contains some datasets that we can use for practice.",
      "metadata": {
        "slideshow": {
          "slide_type": "subslide"
        }
      }
    },
    {
      "id": "2d07d10d-936b-4d58-a0db-e56cf52996c5",
      "cell_type": "markdown",
      "source": "#### install and import the plotly package:\n\nIn your command line (cmd):\n\n- pip install plotly\n\nIn python:\n- import plotly as px",
      "metadata": {
        "slideshow": {
          "slide_type": "fragment"
        }
      }
    },
    {
      "id": "d860d204-b325-445c-8ae3-b287d03e6938",
      "cell_type": "code",
      "source": "import plotly.express as px\nprint(dir(px.data))\n",
      "metadata": {
        "slideshow": {
          "slide_type": "subslide"
        },
        "trusted": true
      },
      "outputs": [],
      "execution_count": null
    },
    {
      "id": "3c4b3400-6644-41ca-a090-b98e59703562",
      "cell_type": "markdown",
      "source": "Two main ways of draw ploty with plotly\n- plotly.express\n- plotly.graph_objects",
      "metadata": {
        "slideshow": {
          "slide_type": "subslide"
        }
      }
    },
    {
      "id": "1a40e309-1291-48e0-bf7c-7549fa4e0030",
      "cell_type": "markdown",
      "source": "### Basic plots by plotly",
      "metadata": {
        "slideshow": {
          "slide_type": "subslide"
        }
      }
    },
    {
      "id": "ee601d8e-5bf6-452b-9b81-101a74a3fa9e",
      "cell_type": "code",
      "source": "import plotly.express as px\nimport seaborn as sns\nimport pandas as pd\n\n# 加载数据并计数\ndf = sns.load_dataset(\"penguins\")\ncounts = df['species'].value_counts().reset_index()\ncounts.columns = ['species', 'count']\n# 自定义颜色\ncolor_map = {\n    'Adelie': '#1f77b4',      # 蓝\n    'Chinstrap': '#ff7f0e',   # 橙\n    'Gentoo': '#2ca02c'       # 绿\n}\n# 绘图\nfig = px.bar(counts,x='species',y='count',title='Penguin Species Count',color='species',color_discrete_map=color_map,text='count')\nfig.show()",
      "metadata": {
        "slideshow": {
          "slide_type": "subslide"
        },
        "trusted": true
      },
      "outputs": [],
      "execution_count": null
    },
    {
      "id": "1b6f000e-65df-4d65-86d9-8e9a58d68830",
      "cell_type": "markdown",
      "source": "### Bar plot",
      "metadata": {
        "slideshow": {
          "slide_type": "subslide"
        }
      }
    },
    {
      "id": "7ff5c35e-1414-454b-8892-011c9b3e521f",
      "cell_type": "code",
      "source": "import plotly.express as px\nimport seaborn as sns\nimport pandas as pd\n\n# 加载 penguins 数据\ndf = sns.load_dataset(\"penguins\").dropna(subset=['species', 'sex'])\ncounts = df.groupby(['species', 'sex']).size().reset_index(name='count')\nfig = px.bar(counts,x='species',y='count',color='sex',barmode='stack',text='count',title='Count of Penguins by Species and Sex',\n    color_discrete_map={'Male': '#1f77b4', 'Female': '#ff7f0e'}\n)\nfig.show()",
      "metadata": {
        "slideshow": {
          "slide_type": "fragment"
        },
        "trusted": true
      },
      "outputs": [],
      "execution_count": null
    },
    {
      "id": "df3a81c8-2e28-4e3e-b003-9c881c41e152",
      "cell_type": "markdown",
      "source": "### Pie plot",
      "metadata": {
        "slideshow": {
          "slide_type": "subslide"
        }
      }
    },
    {
      "id": "59b89c88-82c9-42ad-b34f-fcf47607e1ce",
      "cell_type": "code",
      "source": "import plotly.express as px\nimport pandas as pd\nimport seaborn as sns\n\n# 加载 penguins 数据\ndf = sns.load_dataset(\"penguins\")\nspecies_counts = df['species'].value_counts().reset_index()\nspecies_counts.columns = ['species', 'count']\n\n# 设置颜色手动映射（可选）\ncolor_map = {'Adelie': '#636EFA','Gentoo': '#EF553B','Chinstrap': '#00CC96'}\n\n# 添加透明度 alpha（通过 rgba 颜色实现）\ncolor_map_alpha = {\n    'Adelie': 'rgba(99,110,250,0.5)',     # 深蓝，稍透明\n    'Gentoo': 'rgba(239,85,59,1)',      # 橙红，不透明\n    'Chinstrap': 'rgba(0,204,150,0.3)'    # 绿色，更透明\n}\n\n# 绘制饼图\nfig = px.pie(species_counts,names='species',values='count',\n    title='Proportion of Penguin Species',\n    color='species',  # 告诉 plotly 使用 color_map\n    color_discrete_map=color_map_alpha\n)\n\n# pull 出某一块突出（如 Gentoo）\nfig.update_traces(pull=[0, 0.1, 0])  # 对应 ['Adelie', 'Gentoo', 'Chinstrap']\n\n# 标签 & 字体美化\nfig.update_traces(textinfo='label+percent+value', textfont_size=14)\n\n# 图形标题字体美化\nfig.update_layout(title_font_size=20)\n\nfig.show()",
      "metadata": {
        "slideshow": {
          "slide_type": "fragment"
        },
        "trusted": true
      },
      "outputs": [],
      "execution_count": null
    },
    {
      "id": "299ff132-e092-44f6-b0e6-487f9777d1bf",
      "cell_type": "markdown",
      "source": "### Rectangle Area Chart",
      "metadata": {
        "slideshow": {
          "slide_type": "subslide"
        }
      }
    },
    {
      "id": "bed56e67-bfc9-440c-8549-bb054c06392f",
      "cell_type": "code",
      "source": "df_gap = px.data.gapminder()\ndf_2007 = df_gap[df_gap['year'] == 2007].copy()\ndf_2007['total_gdp'] = df_2007['pop'] * df_2007['gdpPercap']\ndf_top15 = df_2007.sort_values(by='total_gdp', ascending=False).head(15)\n\nfig_treemap = px.treemap(df_top15, path=['country'], values='total_gdp',\n                         title='Treemap - Top 15 Countries by Total GDP (2007)')\nfig_treemap.show()",
      "metadata": {
        "slideshow": {
          "slide_type": "fragment"
        },
        "trusted": true
      },
      "outputs": [],
      "execution_count": null
    },
    {
      "id": "5aa85413-63dc-4364-aebc-ff086a0802f6",
      "cell_type": "code",
      "source": "\ndf = px.data.gapminder()\ndf_2007 = df[df['year'] == 2007].copy()\n\n# 计算总 GDP（单位：美元）\ndf_2007['total_gdp'] = df_2007['gdpPercap'] * df_2007['pop']\n\nfig = px.treemap(df_2007,\n                 path=['continent', 'country'],\n                 values='total_gdp',\n                 color='continent',\n                 color_discrete_sequence=px.colors.qualitative.Pastel,  \n                 title='Treemap: Total GDP by Country in 2007')\nfig.show()",
      "metadata": {
        "slideshow": {
          "slide_type": "subslide"
        },
        "trusted": true
      },
      "outputs": [],
      "execution_count": null
    },
    {
      "id": "48fd370f-1c1c-403c-ae84-c8ff9ea9c2b3",
      "cell_type": "markdown",
      "source": "### Histogram",
      "metadata": {
        "slideshow": {
          "slide_type": "subslide"
        }
      }
    },
    {
      "id": "fd91d32c-3407-486e-8144-10f66f48efc3",
      "cell_type": "code",
      "source": "import plotly.express as px\nimport seaborn as sns\nimport pandas as pd\n\n# 加载 penguins 数据\ndf = sns.load_dataset(\"penguins\").dropna(subset=[\"body_mass_g\", \"species\",])\n\n# 构造图\nfig = px.histogram(\n    df,x=\"body_mass_g\",color=\"species\",\n    labels={\n        \"body_mass_g\": \"Body Mass (g)\",\n    },\n    title=\"Histogram of Penguin Body Mass\",\n    nbins=20,\n    template=\"plotly_white\"\n)\n\n# 美化字体大小\nfig.update_traces(textfont_size=12)\n\nfig.show()",
      "metadata": {
        "slideshow": {
          "slide_type": "fragment"
        },
        "trusted": true
      },
      "outputs": [],
      "execution_count": null
    },
    {
      "id": "549ba4c1",
      "cell_type": "markdown",
      "source": "### density plot: ",
      "metadata": {
        "slideshow": {
          "slide_type": "subslide"
        }
      }
    },
    {
      "id": "680b2ce2-4759-4ad9-979a-2db01e817a40",
      "cell_type": "code",
      "source": "import plotly.graph_objects as go\nfrom scipy.stats import gaussian_kde\nimport numpy as np\nimport seaborn as sns\n\n# 加载数据\ndf = sns.load_dataset(\"penguins\").dropna()\nx = df[df[\"species\"] == \"Adelie\"][\"body_mass_g\"]\n\n# 核密度估计\nkde = gaussian_kde(x)\nx_range = np.linspace(x.min(), x.max(), 200)\ny_vals = kde(x_range)\n\n# 画图\nfig = px.line(x=x_range, y=y_vals)\n\nfig.update_layout(title='1D Density Plot of Adelie Body Mass', xaxis_title='Body Mass (g)', yaxis_title='Density')\nfig.show()",
      "metadata": {
        "slideshow": {
          "slide_type": "fragment"
        },
        "trusted": true
      },
      "outputs": [],
      "execution_count": null
    },
    {
      "id": "6a985d23",
      "cell_type": "markdown",
      "source": "### 2D density plot",
      "metadata": {
        "slideshow": {
          "slide_type": "subslide"
        }
      }
    },
    {
      "id": "8ab0a543-7f52-4552-a3d5-b18063c47806",
      "cell_type": "code",
      "source": "import plotly.express as px\n\ndf = sns.load_dataset(\"penguins\").dropna()\n\n\nfig = px.density_contour(\n    df,\n    x=\"body_mass_g\",\n    y=\"bill_depth_mm\",\n    # color=\"species\",  # 可选分组\n    facet_col=\"species\",\n\n    marginal_x=\"box\",  # x 轴边缘图\n    marginal_y=\"box\",  # y 轴边缘图\n    title=\"2D Density Contour of Bill Dimensions\"\n)\nfig.show()",
      "metadata": {
        "slideshow": {
          "slide_type": "fragment"
        },
        "trusted": true
      },
      "outputs": [],
      "execution_count": null
    },
    {
      "id": "19c6fb83-e14e-4286-80a2-4f7f27b528eb",
      "cell_type": "code",
      "source": "fig = px.density_heatmap(\n    df,\n    x=\"body_mass_g\",\n    y=\"bill_depth_mm\",\n    nbinsx=30,\n    nbinsy=30,\n    color_continuous_scale=\"magma_r\",\n    facet_col=\"species\",\n\n    title=\"2D Density Heatmap of Penguin Bills\"\n)\nfig.show()",
      "metadata": {
        "slideshow": {
          "slide_type": "subslide"
        },
        "trusted": true
      },
      "outputs": [],
      "execution_count": null
    },
    {
      "id": "a44e48fe-466d-4c60-84d7-f9a0259c2388",
      "cell_type": "markdown",
      "source": "Scatter Plot",
      "metadata": {
        "slideshow": {
          "slide_type": "subslide"
        }
      }
    },
    {
      "id": "462d4015-1490-4695-b066-042a10b83422",
      "cell_type": "code",
      "source": "import plotly.express as px\nimport seaborn as sns\n\n# Load dataset and clean\npenguins = sns.load_dataset(\"penguins\").dropna(subset=[\"species\", \"sex\", \"body_mass_g\", \"bill_length_mm\"])\n\n# Create a custom tooltip column (same as text=... in ggplot2)\npenguins[\"text\"] = \"sex: \" + penguins[\"sex\"]\n\n# Rename columns to match R labels (optional, for labeling consistency)\npenguins = penguins.rename(columns={\n    \"body_mass_g\": \"Body mass\",\n    \"bill_length_mm\": \"Bill length\"\n})\n\n# Create plotly plot\nfig = px.scatter(\n    penguins,\n    x=\"Body mass\",\n    y=\"Bill length\",\n    color=\"species\",\n    hover_name=\"species\",       # Show species as main title on hover\n    hover_data={\n        \"text\": True,           # Show sex info\n        \"species\": False,       # Already shown in hover_name, hide here\n        \"Body mass\": True,\n        \"Bill length\": True\n    },\n    color_discrete_sequence=px.colors.qualitative.Set2,\n    opacity=0.7\n)\n\nfig.update_traces(marker=dict(size=10))\nfig.update_layout(title=\"Interactive Penguin Plot\", title_x=0.5)\nfig.show()",
      "metadata": {
        "slideshow": {
          "slide_type": "fragment"
        },
        "trusted": true
      },
      "outputs": [],
      "execution_count": null
    },
    {
      "id": "35b0c713-ed13-4b7d-949f-b8993c6ac0e6",
      "cell_type": "markdown",
      "source": "How about visualizing trend?",
      "metadata": {
        "slideshow": {
          "slide_type": "subslide"
        }
      }
    },
    {
      "id": "dca23b06-5bca-40e8-b3aa-45603b92d478",
      "cell_type": "code",
      "source": "import plotly.express as px\nimport seaborn as sns\n\n# Load dataset and clean\npenguins = sns.load_dataset(\"penguins\").dropna(subset=[\"species\", \"sex\", \"body_mass_g\", \"bill_length_mm\"])\n\n# Create a custom tooltip column (same as text=... in ggplot2)\npenguins[\"text\"] = \"sex: \" + penguins[\"sex\"]\n\n# Rename columns to match R labels (optional, for labeling consistency)\npenguins = penguins.rename(columns={\n    \"body_mass_g\": \"Body mass\",\n    \"bill_length_mm\": \"Bill length\"\n})\n\n# Create plotly plot\nfig = px.scatter(penguins,x=\"Body mass\",y=\"Bill length\",color=\"species\",hover_name=\"species\",\n        hover_data={\n        \"text\": True,           # Show sex info\n        \"species\": False,       # Already shown in hover_name, hide here\n        \"Body mass\": True,\n        \"Bill length\": True\n    },\n    color_discrete_sequence=px.colors.qualitative.Set2,\n    opacity=0.7,\ntrendline=\"ols\")\n\nfig.update_traces(marker=dict(size=10))\nfig.update_layout(title=\"Interactive Penguin Plot\", title_x=0.5)\nfig.show()",
      "metadata": {
        "slideshow": {
          "slide_type": "fragment"
        },
        "trusted": true
      },
      "outputs": [],
      "execution_count": null
    },
    {
      "id": "3fee6088-6e8a-4287-a60c-a9f0cd7d9f1d",
      "cell_type": "markdown",
      "source": "Different functions in plotly\n- px.bar(), pie(), px.treemap()\n- px.histogram(), px.box(), px.violin()\n- px.scatter(), px.line()\n- px.density_contour(), px.density_heatmap()",
      "metadata": {
        "slideshow": {
          "slide_type": "subslide"
        }
      }
    },
    {
      "id": "37674dc5-5f80-419a-8a61-fc31fd56d239",
      "cell_type": "markdown",
      "source": "Common Parameters Across All px Functions: \n- x, y:\tData axes\n- color,size\tMap variables to color/size\nsymbol, facet_col, facet_row\tFor split panels or symbol mapping\n- marginal_x, marginal_y:\tAdd side plots('histogram', 'box', 'violin', 'rug')\n- hover_name, hover_data:\tControl tooltip details\n- animation_frame:\tAnimate over a column (like year)\n- labels:\tRename columns in legends/tooltips\n- template:\tVisual theme (e.g., 'plotly_white')",
      "metadata": {
        "slideshow": {
          "slide_type": "subslide"
        }
      }
    },
    {
      "id": "a9331734-1948-4df4-8be2-cbb9981ce54c",
      "cell_type": "markdown",
      "source": "### hover_name, hover_data:\tControl tooltip details\n",
      "metadata": {
        "slideshow": {
          "slide_type": "subslide"
        }
      }
    },
    {
      "id": "9094de8b-193f-4c6c-b6fd-f0644415de14",
      "cell_type": "code",
      "source": "import plotly.express as px\nimport seaborn as sns\n\n# 加载 penguins 数据\ndf = sns.load_dataset(\"penguins\").dropna(subset=[\"body_mass_g\", \"bill_length_mm\", \"species\", \"sex\", \"island\"])\n\n# 构造散点图\nfig = px.scatter(\n    df,\n    x=\"bill_length_mm\",\n    y=\"body_mass_g\",\n    color=\"species\",\n    hover_name=\"species\",  # 显示大字标题\n    hover_data={\n        \"sex\": True,\n        \"island\": False,\n        \"body_mass_g\": \":.0f\",\n        \"bill_length_mm\": \":.1f\"\n    },\n    labels={\"bill_length_mm\": \"Bill Length (mm)\",\n        \"body_mass_g\": \"Body Mass (g)\"},\n    title=\"Penguin Body Mass vs Bill Length by Species\"\n)\n\nfig.show()",
      "metadata": {
        "slideshow": {
          "slide_type": "fragment"
        },
        "trusted": true
      },
      "outputs": [],
      "execution_count": null
    },
    {
      "id": "f0bb892a-ee25-4d5c-841d-f62525727795",
      "cell_type": "markdown",
      "source": "### plotly.graph_objects",
      "metadata": {
        "slideshow": {
          "slide_type": "subslide"
        }
      }
    },
    {
      "id": "205132c0-30ff-4ee8-a4b6-1ab0d92f5161",
      "cell_type": "markdown",
      "source": "- Low-level Plotly interface for full control\n\n- Object-oriented API (go.Figure, go.Bar, go.Scatter, etc.)\n\n- Unlike plotly.express, you manually construct every element\n\n- Supports complex multi-layer plots, subplots, and custom hover\n\n",
      "metadata": {
        "slideshow": {
          "slide_type": "fragment"
        }
      }
    },
    {
      "id": "65c6191f-c397-4c7a-8c2a-1c2a97cd20fc",
      "cell_type": "markdown",
      "source": "Anatomy of a go.Figure",
      "metadata": {
        "slideshow": {
          "slide_type": "subslide"
        }
      }
    },
    {
      "id": "095ec51e-f8ec-463b-9b15-f79f1fb7d5e6",
      "cell_type": "code",
      "source": "\nimport plotly.graph_objects as go\n\nfig = go.Figure()\n\n# Add trace (data layer)\nfig.add_trace(go.Bar(x=['A', 'B'], y=[10, 15]))\n\n# Layout settings\nfig.update_layout(title=\"Basic Bar\", template='plotly_white')\n\nfig.show()",
      "metadata": {
        "slideshow": {
          "slide_type": "fragment"
        },
        "trusted": true
      },
      "outputs": [],
      "execution_count": null
    },
    {
      "id": "b84ba757-a7a7-48f3-8e7b-dbe28b201d42",
      "cell_type": "markdown",
      "source": "### different plots in go:\n- barplot:\tgo.Bar()\t\n- histogram plot:\tgo.Histogram()\t\n- box plot:\tgo.Box()\t\n- violin plot: go.Violin()\t\n- scatter/line plot: \tgo.Scatter()\tmode='lines'",
      "metadata": {
        "slideshow": {
          "slide_type": "subslide"
        }
      }
    },
    {
      "id": "7d5c38b5-2816-4318-b3f8-b4470dfc59c7",
      "cell_type": "markdown",
      "source": "Example: Pyramid plot",
      "metadata": {
        "slideshow": {
          "slide_type": "subslide"
        }
      }
    },
    {
      "id": "3299b5de-4cb3-47f6-8bc1-004f5eea9df3",
      "cell_type": "code",
      "source": "import plotly.graph_objects as go\nimport seaborn as sns\nimport numpy as np\nimport pandas as pd\n\n# 加载 penguins 数据\ndf = sns.load_dataset(\"penguins\").dropna(subset=['body_mass_g', 'sex'])\n\n# 分组\nmale_mass = df[df['sex'] == 'Male']['body_mass_g']\nfemale_mass = df[df['sex'] == 'Female']['body_mass_g']\n\n# 统一 bin\ncounts_m, bins = np.histogram(male_mass, bins=20)\ncounts_f, _ = np.histogram(female_mass, bins=bins)\nbin_centers = 0.5 * (bins[:-1] + bins[1:])\nheights = np.diff(bins)\n\n# 创建图\nfig = go.Figure()\n\nfig.add_trace(go.Bar(\n    x=counts_m,\n    y=bin_centers,\n    orientation='h',\n    name='Male',\n    marker_color='salmon',\n    hovertemplate='Male: %{x} penguins<extra></extra>'\n))\n\nfig.add_trace(go.Bar(\n    x=-counts_f,\n    y=bin_centers,\n    orientation='h',\n    name='Female',\n    marker_color='skyblue',\n    hovertemplate='Female: %{customdata} <extra></extra>',\n    customdata=counts_f  # 用于显示正数\n))\n\n# 坐标轴美化\nfig.update_layout(title='Male vs Female Body Mass - Population Pyramid',xaxis_title='Frequency',\n    yaxis_title='Body Mass (g)',barmode='overlay',bargap=0.1,template='plotly_white',legend=dict(x=0.75, y=1.05)\n)\n\n# x 轴标签去负号\nxticks = fig.layout.xaxis.tickvals or np.linspace(-max(counts_f), max(counts_m), 5, dtype=int)\nfig.update_xaxes(tickvals=xticks,ticktext=[str(abs(x)) for x in xticks])\n\nfig.show()",
      "metadata": {
        "slideshow": {
          "slide_type": "fragment"
        },
        "trusted": true
      },
      "outputs": [],
      "execution_count": null
    },
    {
      "id": "691828f2-707a-4923-94b4-cb63b3759b0b",
      "cell_type": "markdown",
      "source": "### Suggestion about using plotly (or any visualization tasks): always seek help from LLMs!!!",
      "metadata": {
        "slideshow": {
          "slide_type": "subslide"
        }
      }
    },
    {
      "id": "0ab4f0e7-d201-44d2-8149-93f9bc4290c3",
      "cell_type": "code",
      "source": "import matplotlib.pyplot as plt\nfrom palmerpenguins import load_penguins\n\npenguins = load_penguins().dropna()\n\nx = penguins[\"flipper_length_mm\"]\ny = penguins[\"body_mass_g\"]\ncolor_var = penguins[\"bill_length_mm\"]\n\nplt.figure(figsize=(8, 6))\nsc = plt.scatter(x, y, c=color_var, cmap='rocket', alpha=0.7)\n\nplt.xlabel(\"Flipper Length (mm)\")\nplt.ylabel(\"Body Mass (g)\")\nplt.title(\"Body Mass vs. Flipper Length (colored by Bill Length)\")\nplt.colorbar(sc, label=\"Bill Length (mm)\")\nplt.savefig('example_scatter')\nplt.show()",
      "metadata": {
        "slideshow": {
          "slide_type": "subslide"
        },
        "trusted": true
      },
      "outputs": [],
      "execution_count": null
    },
    {
      "id": "737b3dec-6bbc-4bb6-a598-78e9c94abd98",
      "cell_type": "markdown",
      "source": "<div>\n<img src=\"./gpt1.png\" width=\"2000\"/>\n</div>",
      "metadata": {
        "slideshow": {
          "slide_type": "subslide"
        }
      }
    },
    {
      "id": "13b3b66d-cf71-494a-9851-dc6524e3011c",
      "cell_type": "markdown",
      "source": "<div>\n<img src=\"./gpt2.png\" width=\"2000\"/>\n</div>",
      "metadata": {
        "slideshow": {
          "slide_type": "subslide"
        }
      }
    },
    {
      "id": "49f2f0ba-679c-4307-900b-9bf1764f680e",
      "cell_type": "code",
      "source": "import plotly.express as px\nfrom palmerpenguins import load_penguins\n\n# Load and clean the data\npenguins = load_penguins().dropna()\n\n# Create interactive scatter plot\nfig = px.scatter(\n    penguins,\n    x=\"flipper_length_mm\",\n    y=\"body_mass_g\",\n    color=\"bill_length_mm\",\n    color_continuous_scale=\"rocket\",\n    opacity=0.7,\n    labels={\n        \"flipper_length_mm\": \"Flipper Length (mm)\",\n        \"body_mass_g\": \"Body Mass (g)\",\n        \"bill_length_mm\": \"Bill Length (mm)\"\n    },\n    title=\"Body Mass vs. Flipper Length (colored by Bill Length)\"\n)\n\n# Customize layout if needed\nfig.update_layout(\n    coloraxis_colorbar=dict(title=\"Bill Length (mm)\"),\n    width=800,\n    height=600\n)\n\nfig.show()",
      "metadata": {
        "slideshow": {
          "slide_type": "subslide"
        },
        "trusted": true
      },
      "outputs": [],
      "execution_count": null
    },
    {
      "id": "7f91f32d-8fe2-4a71-b9f3-bae3a82279dd",
      "cell_type": "markdown",
      "source": "<div>\n<img src=\"./gpt3.png\" width=\"2000\"/>\n</div>",
      "metadata": {
        "slideshow": {
          "slide_type": "subslide"
        }
      }
    },
    {
      "id": "14d450f8-b6e1-40d7-88d7-da29a5268c6d",
      "cell_type": "code",
      "source": "import plotly.express as px\nfrom palmerpenguins import load_penguins\n\n# Load and clean the data\npenguins = load_penguins().dropna()\n\n# Approximate 'rocket' colorscale from seaborn (normalized RGB tuples)\nrocket_colorscale = [\n    [0.0, \"#03051A\"],\n    [0.1, \"#3D0F3F\"],\n    [0.2, \"#7B1C3F\"],\n    [0.3, \"#B9322D\"],\n    [0.4, \"#E34A1C\"],\n    [0.5, \"#F26B1C\"],\n    [0.6, \"#F79044\"],\n    [0.7, \"#FBB56C\"],\n    [0.8, \"#FCD29E\"],\n    [0.9, \"#FEEDD0\"],\n    [1.0, \"#FCFDBF\"]\n]\n\n# Create the interactive scatter plot\nfig = px.scatter(\n    penguins,\n    x=\"flipper_length_mm\",\n    y=\"body_mass_g\",\n    color=\"bill_length_mm\",\n    color_continuous_scale=rocket_colorscale,\n    opacity=0.7,\n    labels={\n        \"flipper_length_mm\": \"Flipper Length (mm)\",\n        \"body_mass_g\": \"Body Mass (g)\",\n        \"bill_length_mm\": \"Bill Length (mm)\"\n    },\n    title=\"Body Mass vs. Flipper Length (colored by Bill Length)\"\n)\n\nfig.update_layout(\n    coloraxis_colorbar=dict(title=\"Bill Length (mm)\"),\n    width=800,\n    height=600\n)\n\nfig.show()",
      "metadata": {
        "slideshow": {
          "slide_type": "subslide"
        },
        "trusted": true
      },
      "outputs": [],
      "execution_count": null
    },
    {
      "id": "157be5ef-04b4-4f42-a607-3f77f6323898",
      "cell_type": "markdown",
      "source": "<div>\n<img src=\"./gpt4.png\" width=\"2000\"/>\n</div>",
      "metadata": {
        "slideshow": {
          "slide_type": "subslide"
        }
      }
    },
    {
      "id": "1e56bcd9-8420-4861-a6e1-3ecf5b6100ea",
      "cell_type": "code",
      "source": "import plotly.express as px\nfrom palmerpenguins import load_penguins\n\n# Load and clean the data\npenguins = load_penguins().dropna()\n\n# Approximate 'rocket' colorscale from seaborn (normalized RGB tuples)\nrocket_colorscale = [\n    [0.0, \"#03051A\"],\n    [0.1, \"#3D0F3F\"],\n    [0.2, \"#7B1C3F\"],\n    [0.3, \"#B9322D\"],\n    [0.4, \"#E34A1C\"],\n    [0.5, \"#F26B1C\"],\n    [0.6, \"#F79044\"],\n    [0.7, \"#FBB56C\"],\n    [0.8, \"#FCD29E\"],\n    [0.9, \"#FEEDD0\"],\n    [1.0, \"#FCFDBF\"]\n]\n\n# Create the interactive scatter plot\nfig = px.scatter(\n    penguins,\n    x=\"flipper_length_mm\",\n    y=\"body_mass_g\",\n    color=\"bill_length_mm\",\n    color_continuous_scale=rocket_colorscale,\n    opacity=0.7,\n    labels={\n        \"flipper_length_mm\": \"Flipper Length (mm)\",\n        \"body_mass_g\": \"Body Mass (g)\",\n        \"bill_length_mm\": \"Bill Length (mm)\"\n    },\n    title=\"Body Mass vs. Flipper Length (colored by Bill Length)\"\n)\n\n# Enlarge marker size\nfig.update_traces(marker=dict(size=10))  # You can adjust the value as needed\n\nfig.update_layout(\n    coloraxis_colorbar=dict(title=\"Bill Length (mm)\"),\n    width=800,\n    height=600\n)\n\nfig.show()",
      "metadata": {
        "slideshow": {
          "slide_type": "subslide"
        },
        "trusted": true
      },
      "outputs": [],
      "execution_count": null
    },
    {
      "id": "77493229-9400-49c5-bee6-06cf12b4e4c4",
      "cell_type": "markdown",
      "source": "### Basic about Dash",
      "metadata": {
        "slideshow": {
          "slide_type": "subslide"
        }
      }
    },
    {
      "id": "69206725-d390-4c37-b6d0-b5bf6115786f",
      "cell_type": "markdown",
      "source": "What is Dash?\n\n- Dash is a Python framework for building interactive web applications.\n\n- Developed by Plotly, built on top of Flask, React.js, and Plotly.js.\n\n- No need for HTML, CSS, or JavaScript knowledge.\n\n- Ideal for data science dashboards, analytical tools, and custom visualizations.",
      "metadata": {
        "slideshow": {
          "slide_type": "fragment"
        }
      }
    },
    {
      "id": "8d67367a-b3b5-4d8f-ad08-0a583fc484a8",
      "cell_type": "code",
      "source": "import dash\nfrom dash import html, dcc\nimport plotly.express as px\nimport pandas as pd\n\n# 准备数据\ndf = px.data.iris()\n\n# 创建 Dash 应用\napp = dash.Dash(__name__)\n\n# 设置布局\napp.layout = html.Div([\n    html.H2(\"Iris 数据集图示\"),\n    dcc.Dropdown(\n        id=\"feature\",\n        options=[{\"label\": col, \"value\": col} for col in df.columns if col != \"species\"],\n        value=\"sepal_length\"\n    ),\n    dcc.Graph(id=\"graph\")\n])\n\n# 设置回调函数\n@app.callback(\n    dash.dependencies.Output(\"graph\", \"figure\"),\n    [dash.dependencies.Input(\"feature\", \"value\")]\n)\ndef update_graph(feature):\n    fig = px.histogram(df, x=feature, color=\"species\")\n    return fig\n\n# 运行服务器\nif __name__ == \"__main__\":\n    app.run(debug=True)  # 推荐写法\n",
      "metadata": {
        "slideshow": {
          "slide_type": "subslide"
        },
        "trusted": true
      },
      "outputs": [],
      "execution_count": null
    },
    {
      "id": "ba285b0c-f9f5-4763-905f-b986bdaceb8b",
      "cell_type": "code",
      "source": "import dash\nfrom dash import html, dcc\nimport plotly.express as px\nfrom palmerpenguins import load_penguins\n\n# 加载并清洗数据\ndf = load_penguins().dropna()\n\n# 创建 Dash 应用\napp = dash.Dash(__name__)\n\n# 设置布局\napp.layout = html.Div([\n    html.H2(\"企鹅数据集图示（Y轴固定为 Body Mass）\"),\n    dcc.Dropdown(\n        id=\"feature\",\n        options=[\n            {\"label\": col, \"value\": col}\n            for col in df.columns\n            if col not in [\"species\", \"body_mass_g\", \"sex\", \"year\",\"island\"]\n        ],\n        value=\"flipper_length_mm\"\n    ),\n    dcc.Graph(id=\"graph\")\n])\n\n# 设置回调函数\n@app.callback(\n    dash.dependencies.Output(\"graph\", \"figure\"),\n    [dash.dependencies.Input(\"feature\", \"value\")]\n)\ndef update_graph(feature):\n    fig = px.scatter(\n        df,\n        x=feature,\n        y=\"body_mass_g\",\n        color=\"species\",\n        opacity=0.7,\n        labels={\n            feature: feature.replace(\"_\", \" \").title(),\n            \"body_mass_g\": \"Body Mass (g)\"\n        },\n        title=f\"Body Mass vs. {feature.replace('_', ' ').title()}\"\n    )\n    fig.update_traces(marker=dict(size=10))\n    return fig\n\n# 运行服务器\nif __name__ == \"__main__\":\n    app.run(debug=True)",
      "metadata": {
        "slideshow": {
          "slide_type": "subslide"
        },
        "trusted": true
      },
      "outputs": [],
      "execution_count": null
    },
    {
      "id": "ea487ced",
      "cell_type": "markdown",
      "source": "### Animation plot",
      "metadata": {
        "slideshow": {
          "slide_type": "slide"
        }
      }
    },
    {
      "id": "60e3d639-b80f-4f1b-84ac-4cc4e56ce8cc",
      "cell_type": "markdown",
      "source": "#### What is Animation?\n\n- Adding time dimension to static visualizations\n- Enables display of changes in data over time\n- Creates engaging and dynamic content\n- Useful for temporal data and complex patterns",
      "metadata": {
        "slideshow": {
          "slide_type": "subslide"
        }
      }
    },
    {
      "id": "de5214ae-1d05-4a32-9ece-a2d235414369",
      "cell_type": "markdown",
      "source": "#### Basic animation plot using matplotlib",
      "metadata": {
        "slideshow": {
          "slide_type": "subslide"
        }
      }
    },
    {
      "id": "af8a2263-fe4e-42e4-8a34-cadd97268b3b",
      "cell_type": "code",
      "source": "import numpy as np\nimport matplotlib.pyplot as plt\nimport matplotlib.animation as animation\n \nfig = plt.figure()\nx = np.arange(-np.pi, np.pi, 0.1)\n \nims = []\nfor a in range(80):\n    y = np.sin(x - a / 20 *  np.pi)\n    im1, = plt.plot(x, y, \"b\")  # x,y are both array\n    im2, = plt.plot(x[0], y[0], marker='o', color='r' ) \n    ims.append([im1, im2])\n\nani=animation.ArtistAnimation(fig, ims, interval=33)\nani.save('sample.gif', writer='pillow')",
      "metadata": {
        "slideshow": {
          "slide_type": "fragment"
        },
        "trusted": true
      },
      "outputs": [],
      "execution_count": null
    },
    {
      "id": "3b733a7c-e7cc-4177-86e3-7116e5a44ae8",
      "cell_type": "markdown",
      "source": "#### This animation is frame-based:\n\n- Each frame depicts a dynamically moving sine wave.\n- The red dot im2 is always positioned at the beginning of the curve, creating a \"motion trajectory\" effect.\n- ArtistAnimation collects all frames to generate a .gif.",
      "metadata": {
        "slideshow": {
          "slide_type": "subslide"
        }
      }
    },
    {
      "id": "92067840-15b7-4ab4-b09e-4ca346b2aeeb",
      "cell_type": "markdown",
      "source": "How about plotly?\n\nAsk GPT!\n",
      "metadata": {
        "slideshow": {
          "slide_type": "fragment"
        }
      }
    },
    {
      "id": "4bfd562a-7d6b-4d9d-b8ce-b4bfd10b43f4",
      "cell_type": "code",
      "source": "import numpy as np\nimport plotly.graph_objects as go\n\n# Prepare data\nx = np.arange(-np.pi, np.pi, 0.1)\nframes = []\nnum_frames = 80\n\n# Create figure with initial frame\ny0 = np.sin(x - 0 / 20 * np.pi)\nfig = go.Figure(\n    data=[\n        go.Scatter(x=x, y=y0, mode=\"lines\", name=\"Sine Wave\", line=dict(color=\"blue\")),\n        go.Scatter(x=[x[0]], y=[y0[0]], mode=\"markers\", name=\"Start Point\", marker=dict(color=\"red\", size=10)),\n    ],\n    layout=go.Layout(\n        title=\"Animated Sine Wave with Moving Phase\",\n        xaxis=dict(range=[-np.pi, np.pi], title=\"x\"),\n        yaxis=dict(range=[-1.2, 1.2], title=\"sin(x - phase)\"),\n        updatemenus=[dict(\n            type=\"buttons\",\n            showactive=False,\n            buttons=[dict(label=\"Play\", method=\"animate\", args=[None])]\n        )]\n    ),\n    frames=[\n        go.Frame(\n            data=[\n                go.Scatter(x=x, y=np.sin(x - a / 20 * np.pi), mode=\"lines\", line=dict(color=\"blue\")),\n                go.Scatter(x=[x[0]], y=[np.sin(x[0] - a / 20 * np.pi)], mode=\"markers\", marker=dict(color=\"red\", size=10)),\n            ]\n        )\n        for a in range(num_frames)\n    ]\n)\n\nfig.show()\n",
      "metadata": {
        "slideshow": {
          "slide_type": "subslide"
        },
        "trusted": true
      },
      "outputs": [],
      "execution_count": null
    },
    {
      "id": "2b8db031-b90a-4347-919c-0a61bdead611",
      "cell_type": "markdown",
      "source": "<div>\n<img src=\"./gpt5.png\" width=\"2000\"/>\n</div>",
      "metadata": {
        "slideshow": {
          "slide_type": "subslide"
        }
      }
    },
    {
      "id": "6c13286f-201b-4e35-9056-d1ab7488bbd6",
      "cell_type": "markdown",
      "source": "<div>\n<img src=\"./gpt6.png\" width=\"2000\"/>\n</div>",
      "metadata": {
        "slideshow": {
          "slide_type": "subslide"
        }
      }
    },
    {
      "id": "80f5109c-3cb2-4e1d-b3ca-5a80db15f727",
      "cell_type": "markdown",
      "source": "<div>\n<img src=\"./gpt7.png\" width=\"2000\"/>\n</div>",
      "metadata": {
        "slideshow": {
          "slide_type": "subslide"
        }
      }
    },
    {
      "id": "e0de7b87-58d4-4d37-ac19-db6ae6c6132a",
      "cell_type": "markdown",
      "source": "<div>\n<img src=\"./gpt8.png\" width=\"2000\"/>\n</div>",
      "metadata": {
        "slideshow": {
          "slide_type": "subslide"
        }
      }
    },
    {
      "id": "aea31f1c-27c9-4534-a100-e00df45d1201",
      "cell_type": "code",
      "source": "",
      "metadata": {
        "slideshow": {
          "slide_type": "subslide"
        },
        "trusted": true
      },
      "outputs": [],
      "execution_count": null
    },
    {
      "id": "92d4b2e2-3987-4c05-9e77-ad3d135fdebf",
      "cell_type": "code",
      "source": "score_by_match_df = pd.read_csv('match_points')\nscore_by_match_df",
      "metadata": {
        "scrolled": true,
        "slideshow": {
          "slide_type": "subslide"
        },
        "trusted": true
      },
      "outputs": [],
      "execution_count": null
    },
    {
      "id": "2471d804-398e-4b2b-b98c-1dd3c6cdd7f3",
      "cell_type": "code",
      "source": "score_by_match_df.index.name = \"Round\"\n\n# 转换为 long-format\nscore_by_match_df_long = score_by_match_df.reset_index().melt(id_vars=\"Round\", var_name=\"Team\", value_name=\"Points\")\nframes = []\nfor round_num in sorted(score_by_match_df_long[\"Round\"].unique()):\n    frame_data = score_by_match_df_long[score_by_match_df_long[\"Round\"] <= round_num].copy()\n    frame_data[\"animation_round\"] = round_num\n    frames.append(frame_data)\n\ndf_anim = pd.concat(frames)\n\n# 动画折线图\nfig = px.line(\n    df_anim,\n    x=\"Round\",\n    y=\"Points\",\n    color=\"Team\",\n    animation_frame=\"animation_round\",\n    labels={\"Round\": \"Match Round\", \"Points\": \"Total Points\"},\n    title=\"Premier League Points Growth by Round\"\n)\n\n# 坐标范围固定，避免动画跳动\nfig.update_layout(\n    xaxis=dict(range=[df_anim[\"Round\"].min(), df_anim[\"Round\"].max()]),\n    yaxis=dict(range=[0, df_anim[\"Points\"].max() + 5]),\n    height=500\n)\n\nfig.show()",
      "metadata": {
        "slideshow": {
          "slide_type": "subslide"
        },
        "trusted": true
      },
      "outputs": [],
      "execution_count": null
    },
    {
      "id": "2882cfef-6121-4a5a-91cf-b40c77c772c4",
      "cell_type": "code",
      "source": "### Hans Rosling Ted talk: Probably the best data visualization\n- https://www.bilibili.com/video/BV1ns411o7kY/?spm_id_from=333.337.search-card.all.click\n- https://www.bilibili.com/video/BV1954ReKE6Q/?spm_id_from=333.337.search-card.all.click",
      "metadata": {
        "slideshow": {
          "slide_type": "subslide"
        },
        "trusted": true
      },
      "outputs": [],
      "execution_count": null
    },
    {
      "id": "64d933c2-4737-4e83-909e-82d314772ec4",
      "cell_type": "code",
      "source": "import plotly.express as px\n\n# 加载 gapminder 数据\ndf = px.data.gapminder()\n\n# 创建气泡图动画\nfig = px.scatter(\n    df,\n    x=\"gdpPercap\",\n    y=\"lifeExp\",\n    size=\"pop\",\n    color=\"continent\",\n    hover_name=\"country\",\n    log_x=True,\n    size_max=60,\n    animation_frame=\"year\",\n    animation_group=\"country\",\n    range_x=[100, 100000],\n    range_y=[25, 90],\n    title=\"Gapminder 世界发展气泡图（模仿 Hans Rosling）\"\n)\n\nfig.show()",
      "metadata": {
        "slideshow": {
          "slide_type": "subslide"
        },
        "trusted": true
      },
      "outputs": [],
      "execution_count": null
    },
    {
      "id": "035bb4b2",
      "cell_type": "markdown",
      "source": "When to use animation?\n- it adds emphasis to your story or conclusion.\n    - e.g. the race of Prime League\n- it can add another useful dimension (often time).\n    - e.g. the growth of economy",
      "metadata": {
        "slideshow": {
          "slide_type": "subslide"
        }
      }
    },
    {
      "id": "1ef01a3c",
      "cell_type": "markdown",
      "source": "Do not use animation when it does not provide more information!",
      "metadata": {}
    }
  ]
}