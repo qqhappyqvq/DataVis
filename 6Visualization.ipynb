{
  "metadata": {
    "kernelspec": {
      "name": "python",
      "display_name": "Python (Pyodide)",
      "language": "python"
    },
    "language_info": {
      "codemirror_mode": {
        "name": "ipython",
        "version": 3
      },
      "file_extension": ".py",
      "mimetype": "text/x-python",
      "name": "python",
      "nbconvert_exporter": "python",
      "pygments_lexer": "ipython3",
      "version": "3.9.21"
    }
  },
  "nbformat_minor": 4,
  "nbformat": 4,
  "cells": [
    {
      "cell_type": "markdown",
      "source": "<h1>Data Visualization with Matplotlib</h1>\n\nWe choose <b>matplotlib</b> for data visualization. \n\nReference<br>\n\nreference https://matplotlib.org/stable/api/index.html\n\nhttps://matplotlib.org/stable/contents.html\n\n<a href=\"http://www.aosabook.org/en/matplotlib.html\">How matplotlib works?</a>\n\nhttps://matplotlib.org/stable/_modules/matplotlib/backends/backend_agg.html#RendererAgg.draw_path_collection\n\nhttps://matplotlib.org/stable/api/artist_api.html?highlight=artist#module-matplotlib.artist\n\nhttps://matplotlib.org/stable/api/index.html",
      "metadata": {}
    },
    {
      "cell_type": "markdown",
      "source": "Main Contents today\n- What is matplotlib\n- Matplotlib plot style\n- Anatonmy of the matplotlib figure\n    - Graphic primitives\n    - Raster rendering v.s. Vector rendering\n    - Dimensions & resolution\n- Coordinate systems\n",
      "metadata": {}
    },
    {
      "cell_type": "code",
      "source": "",
      "metadata": {
        "trusted": true
      },
      "outputs": [],
      "execution_count": null
    },
    {
      "cell_type": "code",
      "source": "",
      "metadata": {
        "trusted": true
      },
      "outputs": [],
      "execution_count": null
    },
    {
      "cell_type": "code",
      "source": "",
      "metadata": {
        "trusted": true
      },
      "outputs": [],
      "execution_count": null
    },
    {
      "cell_type": "markdown",
      "source": "### What is Matplotlib\n- A powerful and flexible 2D/3D plotting library for Python.\n- Matplotlib is a multi-platform data visualization library built on NumPy arrays, and designed to work with the broader SciPy stack.\n- It was conceived by John Hunter in 2002, originally as a patch to IPython for enabling interactive MATLAB-style plotting via gnuplot from the IPython command line. \n\n\n",
      "metadata": {}
    },
    {
      "cell_type": "markdown",
      "source": "Key Features\n\n✔ Publication-quality plots\n\n✔ Customizable (lines, markers, colors, fonts, etc.)\n\n✔ Supports multiple backends (AGG, GTK, Qt, Tkinter, etc.)\n\n✔ Various plot types (line, bar, scatter, histogram, etc.)",
      "metadata": {}
    },
    {
      "cell_type": "markdown",
      "source": "Importing the package:\n- import matplotlib as mpl\n- import matplotlib.pyplot as plt\n",
      "metadata": {}
    },
    {
      "cell_type": "code",
      "source": "import matplotlib as mpl\nimport matplotlib.pyplot as plt",
      "metadata": {
        "trusted": true
      },
      "outputs": [],
      "execution_count": null
    },
    {
      "cell_type": "markdown",
      "source": "Matplotlib Styles \n\nMatplotlib provides several built-in styles to quickly change the appearance of plots for different use cases (e.g., academic papers, presentations, dark mode).\n\n- default\n- ggplot\n- dark_background\n- bmh\n- fivethirtyeight",
      "metadata": {}
    },
    {
      "cell_type": "code",
      "source": "print(plt.style.available)\n",
      "metadata": {
        "trusted": true
      },
      "outputs": [],
      "execution_count": null
    },
    {
      "cell_type": "markdown",
      "source": "1. Default Style ('default')\n- Features: Matplotlib’s original style—simple but slightly outdated.\n\n- Best for: Basic plotting, maximum compatibility.",
      "metadata": {}
    },
    {
      "cell_type": "markdown",
      "source": "2. 'ggplot'\n- Features: Mimics R’s ggplot2 library:\n\n    - Gray background + white gridlines\n\n    - High readability\n\n    - Ideal for statistical visuals\n\n- Best for: Data analysis reports.",
      "metadata": {}
    },
    {
      "cell_type": "markdown",
      "source": "3. 'dark_background'\n- Features: Dark background + bright lines/text:\n\n    - Great for night/dark mode\n\n    - Works well with dark-themed slides\n\n- Downside: May not print clearly.",
      "metadata": {}
    },
    {
      "cell_type": "markdown",
      "source": "4. 'bmh' (Bayesian Methods for Hackers)\n- Features:\n\n    - Light background + borderless\n\n    - Academic-friendly\n\n- Best for: Research papers, technical docs.",
      "metadata": {}
    },
    {
      "cell_type": "markdown",
      "source": "5. 'fivethirtyeight'\n- Features: Inspired by FiveThirtyEight’s data journalism:\n\n    - Bold titles + large fonts\n\n    - \"Magazine-style\" plots\n\n- Best for: Eye-catching blogs/presentations.",
      "metadata": {}
    },
    {
      "cell_type": "code",
      "source": "import matplotlib.pyplot as plt\n\nplt.style.use('ggplot')  # Apply a style\nplt.plot([1, 2, 3], [4, 5, 6])\nplt.show()",
      "metadata": {
        "trusted": true
      },
      "outputs": [],
      "execution_count": null
    },
    {
      "cell_type": "code",
      "source": "",
      "metadata": {
        "trusted": true
      },
      "outputs": [],
      "execution_count": null
    },
    {
      "cell_type": "code",
      "source": "import matplotlib.pyplot as plt\nimport numpy as np\n\nx = np.linspace(0, 10, 100)\n\nplt.plot(x, np.sin(x))\nplt.plot(x, np.cos(x))\n\nplt.show()",
      "metadata": {
        "trusted": true
      },
      "outputs": [],
      "execution_count": null
    },
    {
      "cell_type": "markdown",
      "source": "### Graphic primitives\n",
      "metadata": {}
    },
    {
      "cell_type": "markdown",
      "source": "- patches （几何形状） \n- lines （线）\n- text （文字）\n\nEach of these graphic primitives have also a lot of other properties such as\ncolor (facecolor and edgecolor), transparency (from 0 to 1), patterns (e.g.\ndashes), styles (e.g. cap styles), special effects (e.g. shadows or outline),\nantialiased (True or False), etc.",
      "metadata": {}
    },
    {
      "cell_type": "markdown",
      "source": "\ndraw a line with slope may look like a simple action, but up until 1980 the sloped-line means a step lines. \n\n![image.png](attachment:image.png)\n\n",
      "metadata": {},
      "attachments": {
        "image.png": {
          "image/png": "[encoded data removed]"
        }
      }
    },
    {
      "cell_type": "code",
      "source": "from PIL import Image\nimport numpy as np\n# 加载图片\nimg = Image.open('./cat.jpg')  # 替换为你的图片路径\nimg_array = np.array(img)\nimg_array.shape",
      "metadata": {
        "trusted": true
      },
      "outputs": [],
      "execution_count": null
    },
    {
      "cell_type": "code",
      "source": "img",
      "metadata": {
        "trusted": true
      },
      "outputs": [],
      "execution_count": null
    },
    {
      "cell_type": "code",
      "source": "inverted = 255 - np.array(img)\nimg_invert = Image.fromarray(inverted)\nimg_invert",
      "metadata": {
        "trusted": true
      },
      "outputs": [],
      "execution_count": null
    },
    {
      "cell_type": "code",
      "source": "",
      "metadata": {
        "trusted": true
      },
      "outputs": [],
      "execution_count": null
    },
    {
      "cell_type": "code",
      "source": "",
      "metadata": {
        "trusted": true
      },
      "outputs": [],
      "execution_count": null
    },
    {
      "cell_type": "code",
      "source": "",
      "metadata": {
        "trusted": true
      },
      "outputs": [],
      "execution_count": null
    },
    {
      "cell_type": "code",
      "source": "",
      "metadata": {
        "trusted": true
      },
      "outputs": [],
      "execution_count": null
    },
    {
      "cell_type": "markdown",
      "source": "### Raster (Bitmap) Images v.s. Vector Images",
      "metadata": {}
    },
    {
      "cell_type": "markdown",
      "source": "1. Raster (Bitmap) Images: Composed of pixels (tiny colored squares).\n\nPros:\n\nPerfect for photos and complex textures.\n\nSupported everywhere (JPEG, PNG, GIF).\n\nCons:\n\nLose quality when scaled up (pixelation/blurring).\n\nLarge file sizes at high resolutions.\n\nFormats: JPEG, PNG, GIF, TIFF.",
      "metadata": {}
    },
    {
      "cell_type": "markdown",
      "source": "2. Vector Images: Defined by math formulas (points, lines, curves).\n\nPros:\n\nInfinitely scalable (no quality loss).\n\nSmall file size for simple graphics.\n\nCons:\n\nCannot represent realistic photos well.\n\nRequires specialized software to edit (e.g., Illustrator).\n\nFormats: SVG, EPS, PDF, AI.\n",
      "metadata": {}
    },
    {
      "cell_type": "code",
      "source": "fig = plt.figure(figsize = (6,4))\nplt.plot([1,2,3,4],[5,6,7,8])\nplt.savefig('example_png.png')",
      "metadata": {
        "trusted": true
      },
      "outputs": [],
      "execution_count": null
    },
    {
      "cell_type": "code",
      "source": "fig = plt.figure(figsize = (6,4))\nplt.plot([1,2,3,4],[5,6,7,8])\nplt.savefig('example_eps.eps')",
      "metadata": {
        "trusted": true
      },
      "outputs": [],
      "execution_count": null
    },
    {
      "cell_type": "code",
      "source": "",
      "metadata": {
        "trusted": true
      },
      "outputs": [],
      "execution_count": null
    },
    {
      "cell_type": "code",
      "source": "### Dimensions and resolutions",
      "metadata": {
        "trusted": true
      },
      "outputs": [],
      "execution_count": null
    },
    {
      "cell_type": "code",
      "source": "fig = plt.figure(figsize=(7,5),dpi = 150)\n### Create a figure with 1050 * 750 pixels\n\nplt.savefig(\"output.png\")\n",
      "metadata": {
        "trusted": true
      },
      "outputs": [],
      "execution_count": null
    },
    {
      "cell_type": "code",
      "source": "def figure(dpi):\n    fig = plt.figure(figsize=(4.25,.2))\n    ax = plt.subplot(1,1,1)\n    text = f\"Text rendered at 10pt using {dpi} dpi\"\n    ax.text(0.5, 0.5, text, ha=\"center\", va=\"center\",\n    fontsize=12, fontweight=\"bold\")\n    plt.savefig(f\"figure-dpi-{dpi}.png\" , dpi=dpi)\n",
      "metadata": {
        "trusted": true
      },
      "outputs": [],
      "execution_count": null
    },
    {
      "cell_type": "code",
      "source": "for dpi in [10,50,100,200,400]:\n    figure(dpi)",
      "metadata": {
        "trusted": true
      },
      "outputs": [],
      "execution_count": null
    },
    {
      "cell_type": "markdown",
      "source": "Try to produce a figure with pixel size 1024x256 pixels and save it",
      "metadata": {}
    },
    {
      "cell_type": "code",
      "source": "",
      "metadata": {
        "trusted": true
      },
      "outputs": [],
      "execution_count": null
    },
    {
      "cell_type": "code",
      "source": "",
      "metadata": {
        "trusted": true
      },
      "outputs": [],
      "execution_count": null
    },
    {
      "cell_type": "code",
      "source": "",
      "metadata": {
        "trusted": true
      },
      "outputs": [],
      "execution_count": null
    },
    {
      "cell_type": "code",
      "source": "",
      "metadata": {
        "trusted": true
      },
      "outputs": [],
      "execution_count": null
    },
    {
      "cell_type": "code",
      "source": "",
      "metadata": {
        "trusted": true
      },
      "outputs": [],
      "execution_count": null
    },
    {
      "cell_type": "code",
      "source": "",
      "metadata": {
        "trusted": true
      },
      "outputs": [],
      "execution_count": null
    },
    {
      "cell_type": "code",
      "source": "",
      "metadata": {
        "trusted": true
      },
      "outputs": [],
      "execution_count": null
    },
    {
      "cell_type": "code",
      "source": "fig = plt.figure(figsize = (8,2), dpi = 128)",
      "metadata": {
        "trusted": true
      },
      "outputs": [],
      "execution_count": null
    },
    {
      "cell_type": "code",
      "source": "fig.savefig('size.png', dpi = 128)",
      "metadata": {
        "trusted": true
      },
      "outputs": [],
      "execution_count": null
    },
    {
      "cell_type": "code",
      "source": "### Anatonmy of the figure",
      "metadata": {
        "trusted": true
      },
      "outputs": [],
      "execution_count": null
    },
    {
      "cell_type": "markdown",
      "source": "",
      "metadata": {}
    },
    {
      "cell_type": "markdown",
      "source": "",
      "metadata": {}
    },
    {
      "cell_type": "markdown",
      "source": "",
      "metadata": {}
    },
    {
      "cell_type": "code",
      "source": "\nA matplotlib figure is composed of a hierarchy of elements that, when put\ntogether, forms the following figure.",
      "metadata": {
        "trusted": true
      },
      "outputs": [],
      "execution_count": null
    },
    {
      "cell_type": "markdown",
      "source": "Basic elements of a figure.\n- Figure\n- Axes\n- Axis\n- Spines\n- Artist",
      "metadata": {}
    },
    {
      "cell_type": "code",
      "source": "",
      "metadata": {
        "trusted": true
      },
      "outputs": [],
      "execution_count": null
    },
    {
      "cell_type": "code",
      "source": "Figure: The most important element of a figure \n\n- creation: plt.figure()\n\n    - Specify the size\n    - Specify the background color\n    - specify the title\n",
      "metadata": {
        "trusted": true
      },
      "outputs": [],
      "execution_count": null
    },
    {
      "cell_type": "markdown",
      "source": "Axes:  the second most important element that corresponds to\nthe actual area where your data will be rendered. (subplot)\n\n- One figure can have one to many axes.\n\n- Surrounded by four edges (leff, top, right and bottom) that are called\nspines.\n",
      "metadata": {}
    },
    {
      "cell_type": "markdown",
      "source": "Axis : The decorated spines are called axis. \n\n- Each of them are made of a spine, major and minor ticks, major and minor ticks labels and an\naxis label.\n\n",
      "metadata": {}
    },
    {
      "cell_type": "markdown",
      "source": "\nArtist : Everything on the ffgure, including Figure, Axes, and Axis ob‐\njects, is an artist.",
      "metadata": {}
    },
    {
      "cell_type": "markdown",
      "source": "### Create a figure.\n1. plt.fiture\n2. plt.gcf()\n",
      "metadata": {}
    },
    {
      "cell_type": "code",
      "source": "plt.figure(figsize=(12, 8), facecolor='red')\nplt.suptitle('test')\nplt.plot([1,2,3],[4,5,6])\nplt.show()",
      "metadata": {
        "trusted": true
      },
      "outputs": [],
      "execution_count": null
    },
    {
      "cell_type": "code",
      "source": "### Get current figure, if no figure, create one\n\n\nfig = plt.gcf()\nplt.plot([1,2,3],[4,5,6])\nplt.show()",
      "metadata": {
        "trusted": true
      },
      "outputs": [],
      "execution_count": null
    },
    {
      "cell_type": "code",
      "source": "",
      "metadata": {
        "trusted": true
      },
      "outputs": [],
      "execution_count": null
    },
    {
      "cell_type": "markdown",
      "source": "### Creat an axes\n1. plt.subplots()\n2. plt.add_subplot()\n3. plt.gca()",
      "metadata": {}
    },
    {
      "cell_type": "code",
      "source": "fig, axes = plt.subplots(nrows=2, ncols=2, figsize = (9,9)) \nax0 = axes[0][0]\nax0.plot([1,2,3],[3,4,5])\nax1 = axes[1][0]\nax1.scatter([0,1,2],[3,4,3])\n\nplt.show()",
      "metadata": {
        "trusted": true
      },
      "outputs": [],
      "execution_count": null
    },
    {
      "cell_type": "code",
      "source": "fig= plt.figure()\nax_left = fig.add_subplot(2,1,1)   \nax_left.plot([1,2,3],[4,5,6])\nfig= plt.figure()\nax_right = fig.add_subplot(2,1,2)   \nax_right.scatter([0,1,2],[3,4,3])\nplt.show()\n",
      "metadata": {
        "trusted": true
      },
      "outputs": [],
      "execution_count": null
    },
    {
      "cell_type": "code",
      "source": "ax = plt.gca()\n### Get current axes, if no axes, create one\nx = np.linspace(0,np.pi,1000)\ny = np.sin(x)\nax.plot(x,y)\n",
      "metadata": {
        "trusted": true
      },
      "outputs": [],
      "execution_count": null
    },
    {
      "cell_type": "markdown",
      "source": "### explicit and implicit control of the axes\nax.plot v.s. plt.plot\n\nax is the axes we specified\nplt will work with the current axes",
      "metadata": {}
    },
    {
      "cell_type": "code",
      "source": "fig, axes = plt.subplots(nrows=2, ncols=2, figsize = (9,9)) \nax0 = axes[0][0]\nax0.plot([1,2,3],[3,4,5])\nplt.xlim([1,5])\nax1 = axes[1][0]\nax1.scatter([0,1,2],[3,4,3])\nplt.show()",
      "metadata": {
        "trusted": true
      },
      "outputs": [],
      "execution_count": null
    },
    {
      "cell_type": "code",
      "source": "Common comments on axes:\n\nplt.title()\nplt.xlabel()\nplt.ylabel()\nplt.xlim()\nplt.ylim()\nplt.xticks()\nplt.yticks()",
      "metadata": {
        "trusted": true
      },
      "outputs": [],
      "execution_count": null
    },
    {
      "cell_type": "code",
      "source": "import matplotlib.pyplot as plt\n\nplt.title(\"Simple Title\", fontsize=16, color='blue', fontweight='bold',   bbox={'facecolor': 'yellow', 'alpha': 0.5, 'pad': 5},\n)\nplt.show()\n\n\n",
      "metadata": {
        "trusted": true
      },
      "outputs": [],
      "execution_count": null
    },
    {
      "cell_type": "code",
      "source": "fig, axes = plt.subplots(nrows=1, ncols=2, figsize = (9,9)) \nax0 = axes[0]\nax0.plot([1,2,3],[3,4,5])\nax0.set_title('line',color = 'blue' ,pad = 50)\nax1 = axes[1]\nax1.scatter([0,1,2],[3,4,3])\nax1.set_title('scatter',color = 'black',pad = 50,loc = 'right')\nplt.tight_layout()\nplt.show()",
      "metadata": {
        "trusted": true
      },
      "outputs": [],
      "execution_count": null
    },
    {
      "cell_type": "code",
      "source": "import matplotlib.pyplot as plt\n\nplt.xlabel('X',fontsize = 16, alpha = 0.3, color = 'black',loc = 'right',labelpad = -20 )\nplt.ylabel('Y',loc = 'top')\n\n\nplt.show()\n",
      "metadata": {
        "trusted": true
      },
      "outputs": [],
      "execution_count": null
    },
    {
      "cell_type": "code",
      "source": "#### ax.set_xlabel()",
      "metadata": {
        "trusted": true
      },
      "outputs": [],
      "execution_count": null
    },
    {
      "cell_type": "code",
      "source": "fig, axes = plt.subplots(nrows=1, ncols=2, figsize = (9,9)) \nax0 = axes[0]\nax0.plot([1,2,3],[3,4,5])\nax0.set_title('line',color = 'blue' ,pad = 50)\nax0.set_xlabel('X')\nax1 = axes[1]\nax1.scatter([0,1,2],[3,4,3])\nax1.set_title('scatter',color = 'black',pad = 50,loc = 'right')\nax1.set_ylabel('Y',color = 'black',labelpad = 50,loc = 'top')\n\nplt.tight_layout()\nplt.show()",
      "metadata": {
        "trusted": true
      },
      "outputs": [],
      "execution_count": null
    },
    {
      "cell_type": "code",
      "source": "plt.xlabel('X',fontsize = 16, alpha = 0.3, color = 'black',loc = 'right',labelpad = -20 )\nplt.ylabel('Y',loc = 'top')\nplt.xlim([0,20])\n\nplt.show()",
      "metadata": {
        "trusted": true
      },
      "outputs": [],
      "execution_count": null
    },
    {
      "cell_type": "code",
      "source": "plt.xlabel('X',fontsize = 16, alpha = 0.3, color = 'black',loc = 'right',labelpad = -20 )\nplt.ylabel('Y',loc = 'top')\nplt.xticks([0,5,10,15,20], ['零','伍','拾','拾伍','贰拾'],fontsize = 20, color = 'red', rotation=45)\nplt.rcParams['font.sans-serif'] = ['SimHei']  \nplt.rcParams['axes.unicode_minus'] = False  \n\nplt.show()",
      "metadata": {
        "trusted": true
      },
      "outputs": [],
      "execution_count": null
    },
    {
      "cell_type": "code",
      "source": "",
      "metadata": {
        "trusted": true
      },
      "outputs": [],
      "execution_count": null
    },
    {
      "cell_type": "code",
      "source": "fig, ax = plt.subplots()\nax.plot([0, 1, 2], [3, 4, 5])\nax.set_xticks(\n    [0, 1, 2],\n    labels=['一', '二', '三'],\n    fontproperties='SimHei'  \n)\n\n\nax.tick_params(\n    axis='x',          # 控制x轴\n    which='both',      # 'major'（主刻度）或 'minor'（次刻度）\n    direction='inout',   # 刻度线方向（'in', 'out', 'inout'）\n    length=6,          # 刻度线长度\n    width=2,           # 刻度线宽度\n    color='red',       # 刻度线颜色\n    pad=5,            # 标签与刻度线的距离\n    labelsize=12,      # 标签大小\n    labelcolor='green',\n    grid_color='gray'  # 网格线颜色\n)\nfrom matplotlib.ticker import MultipleLocator\n\nax.xaxis.set_minor_locator(MultipleLocator(0.5))  # 每0.5单位一个次刻度\nax.tick_params(axis='x', which='minor', length=3, color='black')\n",
      "metadata": {
        "trusted": true
      },
      "outputs": [],
      "execution_count": null
    },
    {
      "cell_type": "markdown",
      "source": "The notation in plt maybe confusing for the beginner, sometimes it is so simple but sometimes it is so complicate. Such as \n    \n    fig, ax = plt.subplots(figsize=(10,6))\n\nIt may be easier to understand if we write it slightly different\n\n    canvas, painter = plt.subplots(figsize=(10,6))",
      "metadata": {}
    },
    {
      "cell_type": "code",
      "source": "",
      "metadata": {
        "trusted": true
      },
      "outputs": [],
      "execution_count": null
    },
    {
      "cell_type": "code",
      "source": "plt.plot([1.1,2,2.9],[0.9, 0.5, 0.1])",
      "metadata": {
        "trusted": true
      },
      "outputs": [],
      "execution_count": null
    },
    {
      "cell_type": "code",
      "source": "### Share label and ticks",
      "metadata": {
        "trusted": true
      },
      "outputs": [],
      "execution_count": null
    },
    {
      "cell_type": "code",
      "source": "import matplotlib.pyplot as plt\n\n# Create subplots with shared x-axis\nfig, (ax1, ax2) = plt.subplots(2, 1, sharex=True, figsize=(8, 6))\n\nax1.plot([1, 2, 3], [4, 5, 6])\nax2.plot([1, 2, 3], [1, 2, 1])\n\n# Only the bottom subplot shows x-axis labels\nax1.set_ylabel('Y1')\nax2.set_ylabel('Y2')\nax2.set_xlabel('Shared X-axis')\n\nplt.tight_layout()\nplt.show()",
      "metadata": {
        "trusted": true
      },
      "outputs": [],
      "execution_count": null
    },
    {
      "cell_type": "code",
      "source": "import numpy as np\n\nfig, (ax1, ax2) = plt.subplots(1, 2, figsize=(10, 4))\n\ndata1 = np.random.rand(10, 10)\ndata2 = np.random.rand(10, 10) * 2\n\nim1 = ax1.imshow(data1, cmap='viridis', vmin=0, vmax=2)  # Sync scale\nim2 = ax2.imshow(data2, cmap='viridis', vmin=0, vmax=2)\n\n# Add shared colorbar\nfig.colorbar(im1, ax=[ax1, ax2], label='Shared Color Scale')\nplt.show()",
      "metadata": {
        "trusted": true
      },
      "outputs": [],
      "execution_count": null
    },
    {
      "cell_type": "code",
      "source": "import matplotlib.pyplot as plt\nfig, ax = plt.subplots(figsize=(5,2))\nfor label in ax.get_xaxis().get_ticklabels():\n    label.set_fontweight(\"light\")\nplt.show()\n",
      "metadata": {
        "trusted": true
      },
      "outputs": [],
      "execution_count": null
    },
    {
      "cell_type": "code",
      "source": "",
      "metadata": {
        "trusted": true
      },
      "outputs": [],
      "execution_count": null
    },
    {
      "cell_type": "code",
      "source": "",
      "metadata": {
        "trusted": true
      },
      "outputs": [],
      "execution_count": null
    },
    {
      "cell_type": "code",
      "source": "",
      "metadata": {
        "trusted": true
      },
      "outputs": [],
      "execution_count": null
    },
    {
      "cell_type": "markdown",
      "source": "### Different Types of Data Visualization\n- Ranking \n- Distribution\n- Proportion\n- Correlation\n- Evolution\n- Maps\n",
      "metadata": {}
    },
    {
      "cell_type": "markdown",
      "source": "#### Ranking",
      "metadata": {}
    },
    {
      "cell_type": "markdown",
      "source": "- Barplot\n\n<div>\n<img src=\"./plots/bar.png\" width=\"500\"/>\n</div>",
      "metadata": {}
    },
    {
      "cell_type": "markdown",
      "source": "- Spider plot\n\n<div>\n<img src=\"./plots/spider.png\" width=\"500\"/>\n</div>",
      "metadata": {}
    },
    {
      "cell_type": "markdown",
      "source": "- Word cloud\n\n<div>\n<img src=\"./plots/wordcloud.jpg\" width=\"500\"/>\n</div>",
      "metadata": {}
    },
    {
      "cell_type": "markdown",
      "source": "#### Distribution",
      "metadata": {}
    },
    {
      "cell_type": "markdown",
      "source": "- Density\n\n<div>\n<img src=\"./plots/density.png\" width=\"500\"/>\n</div>",
      "metadata": {}
    },
    {
      "cell_type": "markdown",
      "source": "- Histgram\n\n<div>\n<img src=\"./plots/hist.png\" width=\"500\"/>\n</div>",
      "metadata": {}
    },
    {
      "cell_type": "markdown",
      "source": "- box plot\n\n<div>\n<img src=\"./plots/box.png\" width=\"500\"/>\n</div>",
      "metadata": {}
    },
    {
      "cell_type": "markdown",
      "source": "- violin plot\n\n<div>\n<img src=\"./plots/violin.png\" width=\"250\"/>\n</div>",
      "metadata": {}
    },
    {
      "cell_type": "markdown",
      "source": "#### Proportion",
      "metadata": {}
    },
    {
      "cell_type": "markdown",
      "source": "- Pie chart\n\n<div>\n<img src=\"./plots/pie.png\" width=\"250\"/>\n</div>",
      "metadata": {}
    },
    {
      "cell_type": "markdown",
      "source": "- tree map\n\n<div>\n<img src=\"./plots/tree.jpg\" width=\"500\"/>\n</div>",
      "metadata": {}
    },
    {
      "cell_type": "markdown",
      "source": "- Donut Chart\n\n<div>\n<img src=\"./plots/dou.png\" width=\"250\"/>\n</div>",
      "metadata": {}
    },
    {
      "cell_type": "code",
      "source": "#### Correlation",
      "metadata": {
        "trusted": true
      },
      "outputs": [],
      "execution_count": null
    },
    {
      "cell_type": "markdown",
      "source": "- Scatter plot\n<div>\n<img src=\"./plots/scatter.png\" width=\"250\"/>\n</div>",
      "metadata": {}
    },
    {
      "cell_type": "markdown",
      "source": "- Heat map \n<div>\n<img src=\"./plots/heat.jpg\" width=\"400\"/>\n</div>",
      "metadata": {}
    },
    {
      "cell_type": "markdown",
      "source": "#### Evolution (time series)",
      "metadata": {}
    },
    {
      "cell_type": "markdown",
      "source": "- Line plot\n\n<div>\n<img src=\"./plots/line.png\" width=\"400\"/>\n</div>",
      "metadata": {}
    },
    {
      "cell_type": "markdown",
      "source": "#### Map",
      "metadata": {}
    },
    {
      "cell_type": "markdown",
      "source": "- Map\n<div>\n<img src=\"./plots/map.jpg\" width=\"400\"/>\n</div>\n",
      "metadata": {}
    },
    {
      "cell_type": "code",
      "source": "",
      "metadata": {
        "trusted": true
      },
      "outputs": [],
      "execution_count": null
    },
    {
      "cell_type": "code",
      "source": "\ncropped = img_array[100:600, 200:500]  \n\n\nimg_crop = Image.fromarray(cropped)\nimg_crop",
      "metadata": {
        "trusted": true
      },
      "outputs": [],
      "execution_count": null
    },
    {
      "cell_type": "code",
      "source": "gray_img_array = np.array(img.convert('L'))  # 转换为灰度\ngray_img = Image.fromarray(gray_img_array)\ngray_img",
      "metadata": {
        "trusted": true
      },
      "outputs": [],
      "execution_count": null
    }
  ]
}