{
  "metadata": {
    "kernelspec": {
      "name": "python",
      "display_name": "Python (Pyodide)",
      "language": "python"
    },
    "language_info": {
      "codemirror_mode": {
        "name": "ipython",
        "version": 3
      },
      "file_extension": ".py",
      "mimetype": "text/x-python",
      "name": "python",
      "nbconvert_exporter": "python",
      "pygments_lexer": "ipython3",
      "version": "3.9.21"
    },
    "celltoolbar": "Slideshow"
  },
  "nbformat_minor": 5,
  "nbformat": 4,
  "cells": [
    {
      "id": "161f21c9-c6e6-411b-bae0-a1be9e9bd00f",
      "cell_type": "markdown",
      "source": "## Data Visualization\n\n###  Model Based Visualzation\n- Xianli Zeng\n- SOE, Xiamen University",
      "metadata": {
        "slideshow": {
          "slide_type": "slide"
        }
      }
    },
    {
      "id": "0784dbf5-2f90-49b9-bea1-ce3ca3666182",
      "cell_type": "markdown",
      "source": "### Today's Goals\n\n- ***Correlation Plot***\n\n- Point Estimates & Error Bars\n\n- Visualizing Model Outputs\n\n- Model Diagnostic\n\n",
      "metadata": {
        "slideshow": {
          "slide_type": "slide"
        }
      }
    },
    {
      "id": "e56063af-8c0a-4847-8f22-b934325eb5f4",
      "cell_type": "markdown",
      "source": "### Correlograms\n\n- When there are more than three quantitative variables, scatter plots become hard to interpret.\n\n- Correlograms visualize the degree of association between pairs of variables.\n\n",
      "metadata": {
        "slideshow": {
          "slide_type": "subslide"
        }
      }
    },
    {
      "id": "6e2b8bca-3515-4699-a40d-7003ec77526e",
      "cell_type": "markdown",
      "source": "The association is typically measured using the Pearson correlation coefficient:\n$$\nr = \\frac{ \\sum_{i=1}^n (x_i - \\bar{x})(y_i - \\bar{y}) }{ \\sqrt{ \\sum_{i=1}^n (x_i - \\bar{x})^2 } \\sqrt{ \\sum_{i=1}^n (y_i - \\bar{y})^2 } }\n$$\n\nwhere\n- $\\bar{x}$ and $\\bar{y}$ are the sample means of $X$ and $Y$,\n- $n$ is the number of paired observations.",
      "metadata": {
        "slideshow": {
          "slide_type": "subslide"
        }
      }
    },
    {
      "id": "ad92296f-47d7-4092-bf9c-ea64410b377f",
      "cell_type": "markdown",
      "source": "\nA value of 0 indicates no linear relationship between the two variables.\n\nA value of 1 indicates perfect positive linear correlation.\n\nA value of –1 indicates perfect negative linear correlation.",
      "metadata": {
        "slideshow": {
          "slide_type": "subslide"
        }
      }
    },
    {
      "id": "8bbb6460-cb4b-42c4-a1dc-8e345b99a13d",
      "cell_type": "markdown",
      "source": "### Pairplot: \na grid of scatterplots showing the relationships between pairs of numerical variables in your dataset\n- Creating scatterplots for every pair of variables in your dataset\n- Showing histograms or density plots along the diagonal to display the distribution of each variable\n- Optional coloring of points by a categorical variable using the hue parameter",
      "metadata": {
        "slideshow": {
          "slide_type": "subslide"
        }
      }
    },
    {
      "id": "c83febde-ff48-436b-aaa2-ce2203e18c41",
      "cell_type": "code",
      "source": "import seaborn as sns\nimport pandas as pd\nimport matplotlib.pyplot as plt\n\niris = sns.load_dataset('iris')",
      "metadata": {
        "slideshow": {
          "slide_type": "subslide"
        },
        "trusted": true
      },
      "outputs": [],
      "execution_count": null
    },
    {
      "id": "ea86b962-f831-40f6-9b04-476259b2a622",
      "cell_type": "code",
      "source": "iris.head()",
      "metadata": {
        "slideshow": {
          "slide_type": "subslide"
        },
        "trusted": true
      },
      "outputs": [],
      "execution_count": null
    },
    {
      "id": "fef0b16b-5454-414a-97c7-75d452708f35",
      "cell_type": "code",
      "source": "sns.pairplot(iris) \n\n# sns.pairplot(iris, hue='species')  # 可以根据类别着色\nplt.show()\niris.head()",
      "metadata": {
        "slideshow": {
          "slide_type": "subslide"
        },
        "trusted": true
      },
      "outputs": [],
      "execution_count": null
    },
    {
      "id": "85264feb-71d1-42f2-ae23-4a4b68520ac0",
      "cell_type": "markdown",
      "source": "- Correlograms\n\nA correlogram is a visualization of a correlation matrix.\n\n\n$$R=\n\\begin{bmatrix}\n1 & r_{12} & \\cdots & r_{1p} \\\\\nr_{21} & 1 & \\cdots & r_{2p} \\\\\n\\vdots & \\vdots &  & \\vdots\\\\\nr_{p1} & r_{p2} & \\ldots & 1 \n\\end{bmatrix}\n$$\n",
      "metadata": {
        "slideshow": {
          "slide_type": "subslide"
        }
      }
    },
    {
      "id": "914073af-b131-4d3b-a215-1d2ba953b0f5",
      "cell_type": "markdown",
      "source": "- The diagonal elements are all 1, and the matrix is symmetric across the diagonal.\n- The correlation matrix is computed using the cor() function.\n- The correlogram can be visualized using the corrplot() function from the corrplot package.",
      "metadata": {
        "slideshow": {
          "slide_type": "subslide"
        }
      }
    },
    {
      "id": "44260d0e-5f99-40b5-ba17-685078232717",
      "cell_type": "markdown",
      "source": "Heat map: Maps the correlation coefficient values to colors",
      "metadata": {
        "slideshow": {
          "slide_type": "subslide"
        }
      }
    },
    {
      "id": "c6958f62-4b7e-431c-b06b-8bf358b4ed09",
      "cell_type": "code",
      "source": "plt.figure(figsize=(6,5))\ncorr = iris[[\"sepal_length\",\"sepal_width\",\"petal_length\",\"petal_width\"]].corr()\nsns.heatmap(corr, annot=True, cmap='coolwarm', vmin=-1, vmax=1)\nplt.title('Corrgram')\nplt.show()\n",
      "metadata": {
        "slideshow": {
          "slide_type": "subslide"
        },
        "trusted": true
      },
      "outputs": [],
      "execution_count": null
    },
    {
      "id": "de85e75d-35f7-454e-b50e-14cad2c4d9d6",
      "cell_type": "code",
      "source": "import numpy as np\n# 将对角线设为 NaN\nnp.fill_diagonal(corr.values, np.nan)\n\n# 创建 mask：只显示下三角\nmask = np.triu(np.ones_like(corr, dtype=bool))\ncmap = sns.diverging_palette(10, 220, as_cmap=True)\n\n# 绘图\nfig, ax = plt.subplots(figsize=(8, 6))\nsns.heatmap(corr,mask=mask,cmap=cmap,annot=True,fmt=\".2f\",square=True,linewidths=0.5,linecolor='white',\n    cbar=True, xticklabels=True, yticklabels=True,annot_kws={\"size\": 10, \"color\": \"black\"})\n# 设置文字角度与颜色\nplt.xticks(rotation=45, ha='right', color='black')\nplt.yticks(rotation=0, color='black')\nplt.title(\"Correlogram (Lower Triangle)\", fontsize=14)\nplt.tight_layout()\nplt.show()",
      "metadata": {
        "slideshow": {
          "slide_type": "subslide"
        },
        "trusted": true
      },
      "outputs": [],
      "execution_count": null
    },
    {
      "id": "331ae78a-bfe4-4e99-b914-e6878250b35f",
      "cell_type": "markdown",
      "source": "### Today's Goals\n\n- Correlation Plot\n\n- ***Point Estimates & Error Bars***\n\n- Visualizing Model Outputs\n\n- Model Diagnostic\n",
      "metadata": {
        "slideshow": {
          "slide_type": "slide"
        }
      }
    },
    {
      "id": "7bd6406a-d47d-457e-89e6-a06fad1952bc",
      "cell_type": "markdown",
      "source": "## Population and Sample\n\n- **Population**: The entire set of objects under study. It is considered a random variable with a fixed (but possibly unknown) distribution function:$F(X)$.\n\n- **Population Distribution**: $F(x)$, we usually denote the **mean** and **variance** by $\\mu$ and $\\sigma^2$, respectively:\n  $\n  \\mu = \\mathbb{E}[X], \\quad \\sigma^2 = \\text{Var}(X)\n  $\n\n- **Sampling**: The distribution function $F(X)$ is often unknown. To estimate it, we select a subset of individuals from the population and collect data through experimentation. The data obtained are denoted as: $\n  X_1, X_2, \\dots, X_n$\n\n  These data points are assumed to be **independent and identically distributed (i.i.d.)** random variables from the same distribution $F(X)$.\n\n- This set of observations is called a **sample**, and the number of observations $n$ is called the **sample size**.\n\n",
      "metadata": {
        "slideshow": {
          "slide_type": "subslide"
        }
      }
    },
    {
      "id": "64bc081e-c397-4b4c-9d50-cdb73fb9cd11",
      "cell_type": "markdown",
      "source": "<div>\n<img src=\"./distribution.png\" width=\"1600\"/>\n</div>",
      "metadata": {
        "slideshow": {
          "slide_type": "subslide"
        }
      }
    },
    {
      "id": "af834caf-8f55-4221-b471-d8fa5ac3c2fe",
      "cell_type": "markdown",
      "source": "## Point Estimation\n\nWe use statistics computed from the sample to estimate the parameters of the population.\n\n\n### The **sample mean** $\\bar{X}$ is used to estimate the **population mean** $\\mu$:\n\n$$\n\\bar{X} = \\frac{1}{n} \\sum_{i=1}^{n} X_i.\n$$\n\nIts expected value and variance are:\n\n$$\n\\mathbb{E}(\\bar{X}) = \\mu, \\quad \\text{Var}(\\bar{X}) = \\frac{\\sigma^2}{n}.\n$$\n\n\n",
      "metadata": {
        "slideshow": {
          "slide_type": "subslide"
        }
      }
    },
    {
      "id": "f1ef7418-6547-4b2c-a18c-51ca773d0fe5",
      "cell_type": "markdown",
      "source": "\n\n### The **sample variance** $\\hat{\\sigma}^2$ is used to estimate the **population variance** $\\sigma^2$:\n\n$$\n\\hat{\\sigma}^2 = \\frac{1}{n - 1} \\sum_{i=1}^{n} (X_i - \\bar{X})^2.\n$$\n\n\n\n\n### The **sample standard deviation** is the square root of the sample variance: $\n\\hat{\\sigma}\n$.\n\n### The **standard error** (variance of sample mean) of the sample mean is estimated as:\n$\n\\text{SE} = \\frac{\\hat{\\sigma}}{\\sqrt{n}}\n$",
      "metadata": {
        "slideshow": {
          "slide_type": "subslide"
        }
      }
    },
    {
      "id": "b87b2656-9c1f-4fa7-b5da-888a6b771edd",
      "cell_type": "markdown",
      "source": "## Properties of Point Estimators\n\nDepending on the population distribution and whether parameters are known, the distribution of the sample mean  $\\bar{X}$ takes different forms:\n\n### Case 1: Normal Distribution with Known Population Variance\n\nIf the population follows a normal distribution $N(\\mu, \\sigma^2)$, and the population variance $\\sigma^2$ is known:\n\n  $$\n  \\bar{X} \\sim N\\left(\\mu, \\frac{\\sigma^2}{n}\\right) \\ \\ \\text{ or } \\ \\ \n  \\frac{\\bar{X} - \\mu}{\\sigma / \\sqrt{n}} \\sim N(0, 1)\n  $$\n",
      "metadata": {
        "slideshow": {
          "slide_type": "subslide"
        }
      }
    },
    {
      "id": "de0ea4e8-1b6c-4f19-9f78-67d875628558",
      "cell_type": "markdown",
      "source": "\n### Case 2: Normal Distribution with Unknown Population Variance\n\nIf the population is normal $N(\\mu, \\sigma^2)$, but $\\sigma^2$ is unknown:\n\n\n  $$\n  \\frac{\\bar{X} - \\mu}{\\hat{\\sigma} / \\sqrt{n}} \\sim t_{n - 1}\n  $$\n\n\n### Case 3: Unknown Population Distribution, Large Sample Size\n\nEven if the population distribution is unknown, when the sample size $n$ is large, by the **Central Limit Theorem (CLT)**:\n  $$\n  \\frac{\\bar{X} - \\mu}{\\hat{\\sigma} / \\sqrt{n}} \\xrightarrow{d} N(0, 1)\n  $$\n\n\n",
      "metadata": {
        "slideshow": {
          "slide_type": "subslide"
        }
      }
    },
    {
      "id": "2293a489-12d1-41b8-a165-74fdbc008d32",
      "cell_type": "markdown",
      "source": "## Today dataset: chocolate_ratings",
      "metadata": {
        "slideshow": {
          "slide_type": "subslide"
        }
      }
    },
    {
      "id": "f859df2b-c88c-4741-abff-6f18f4101ce9",
      "cell_type": "code",
      "source": "ch_rate = pd.read_csv('chocolate_ratings.csv')\nch_rate.head()",
      "metadata": {
        "slideshow": {
          "slide_type": "subslide"
        },
        "trusted": true
      },
      "outputs": [],
      "execution_count": null
    },
    {
      "id": "0cb27016-78f7-481a-8cb8-5a27f9bfaed7",
      "cell_type": "code",
      "source": "selected_countries = [\"U.S.A.\", \"Switzerland\", \"Peru\", \"Canada\", \"Austria\"]\ncr_small = ch_rate[ch_rate['Company Location'].isin(selected_countries)]\ncr_small",
      "metadata": {
        "slideshow": {
          "slide_type": "subslide"
        },
        "trusted": true
      },
      "outputs": [],
      "execution_count": null
    },
    {
      "id": "4e4b97db-de60-49f7-be16-9f10e2f925ce",
      "cell_type": "code",
      "source": "cr_mean = cr_small.groupby('Company Location').agg(\n        mean=('Rating', 'mean'),\n        sd=('Rating', 'std'),\n        count=('Rating', 'count')\n    ).assign(se=lambda df: df['sd'] / np.sqrt(df['count'])).reset_index()\ncr_mean",
      "metadata": {
        "slideshow": {
          "slide_type": "subslide"
        },
        "trusted": true
      },
      "outputs": [],
      "execution_count": null
    },
    {
      "id": "ee91f723-0f7d-4264-bd3f-8cf5d3c64c22",
      "cell_type": "code",
      "source": "import seaborn as sns\nimport matplotlib.pyplot as plt\n\n# 按 mean 排序 location（用于 x 轴顺序）\ncr_mean_sorted = cr_mean.sort_values('mean', ascending=True)\n\n# 画图\nplt.figure(figsize=(8, 6))\nsns.barplot(data=cr_mean_sorted,x='Company Location', y='mean',color='#FF0000', alpha=0.7)\n\n# 设置标签和样式 \nplt.xlabel('')\nplt.ylabel('Rating Mean')\nplt.ylim(0, 4)\nplt.title('Chocolate flavor rating of five countries', fontsize=16)\nplt.grid(axis='y')\nplt.gca().xaxis.grid(False)\nplt.xticks(rotation=45)\nplt.tight_layout()\nplt.show()",
      "metadata": {
        "slideshow": {
          "slide_type": "subslide"
        },
        "trusted": true
      },
      "outputs": [],
      "execution_count": null
    },
    {
      "id": "edd9a1f7-c2cd-4108-bb88-a33d85dc6b37",
      "cell_type": "markdown",
      "source": "### Error Bars\n\n- Used to visualize the uncertainty in parameter estimates.\n\n- It is essential to specify what the error bars represent.\n\n### Common types of error bars include:\n\n- Sample mean ± standard deviation (SD)\n\n- Sample mean ± standard error (SE)\n",
      "metadata": {
        "slideshow": {
          "slide_type": "subslide"
        }
      }
    },
    {
      "id": "988f8cc7-0ed7-43dd-94c5-f9d33b564cd2",
      "cell_type": "markdown",
      "source": "**Sample mean ± standard deviation (SD):**\nRepresents the range of variability within the data.",
      "metadata": {
        "slideshow": {
          "slide_type": "subslide"
        }
      }
    },
    {
      "id": "08d5207e-5eb6-4555-a1d3-cc65d015a113",
      "cell_type": "code",
      "source": "import numpy as np\nimport seaborn as sns\nimport matplotlib.pyplot as plt\n\n\nfig, ax = plt.subplots(figsize=(8, 6))\n\n# \nsns.barplot(data=cr_mean_sorted,x='Company Location', y='mean',color='#FF0000', alpha=0.7, ax=ax)\n\nax.errorbar(x=np.arange(len(cr_mean_sorted)),y=cr_mean_sorted['mean'],\n            yerr=cr_mean_sorted['sd'],fmt='s', color='black', capsize=4, linewidth=0.8\n)\n\nax.set_title('Chocolate flavor rating of five countries', fontsize=16, pad=30)\nax.set_xlabel('')\nax.set_ylabel('Rating Mean')\nax.set_ylim(0, 4)\nax.set_xticks(np.arange(len(cr_mean_sorted)))\nax.set_xticklabels(cr_mean_sorted['Company Location'], rotation=45, ha='right')\n\nfig.text(0.5, 0.85, 'Error bars indicate mean ± standard deviation',\n         ha='center', fontsize=14)\n\nax.grid(axis='y')\nax.xaxis.grid(False)\nplt.tight_layout(rect=[0, 0, 1, 0.95]) \nplt.show()",
      "metadata": {
        "slideshow": {
          "slide_type": "subslide"
        },
        "trusted": true
      },
      "outputs": [],
      "execution_count": null
    },
    {
      "id": "f6b35c46-f687-438c-ae8c-7b1a8a0ebdd8",
      "cell_type": "markdown",
      "source": "**Sample mean ± standard error (SE):**\nIndicates how precisely the sample mean estimates the population mean.",
      "metadata": {
        "slideshow": {
          "slide_type": "subslide"
        }
      }
    },
    {
      "id": "80378a9f-51d2-4dbb-9947-c80c10b519d7",
      "cell_type": "code",
      "source": "import numpy as np\nimport seaborn as sns\nimport matplotlib.pyplot as plt\n\n\nfig, ax = plt.subplots(figsize=(8, 6))\n\n# \nsns.barplot(data=cr_mean_sorted,x='Company Location', y='mean',color='#FF0000', alpha=0.7, ax=ax)\nax.errorbar(\n    x=np.arange(len(cr_mean_sorted)),y=cr_mean_sorted['mean'],\n    yerr=cr_mean_sorted['se'],fmt='none', color='black', capsize=4, linewidth=0.8)\nax.set_title('Chocolate flavor rating of five countries', fontsize=16, pad=30)\nax.set_xlabel('')\nax.set_ylabel('Rating Mean')\nax.set_ylim(0, 4)\nax.set_xticks(np.arange(len(cr_mean_sorted)))\nax.set_xticklabels(cr_mean_sorted['Company Location'], rotation=45, ha='right')\n\n# 添加副标题（不重叠）\nfig.text(0.5, 0.85, 'Error bars indicate mean ± standard error',\n         ha='center', fontsize=10)\n \n# 美化\nax.grid(axis='y')\nax.xaxis.grid(False)\n\nplt.tight_layout(rect=[0, 0, 1, 0.95])  # 给副标题留空间\nplt.show()",
      "metadata": {
        "slideshow": {
          "slide_type": "subslide"
        },
        "trusted": true
      },
      "outputs": [],
      "execution_count": null
    },
    {
      "id": "c0890409-c7f5-4030-8c0d-14ee4b745879",
      "cell_type": "markdown",
      "source": "### Common types of error bars include:\n\n- Sample mean ± standard deviation (SD)\n\n- Sample mean ± standard error (SE)\n\n- Confidence Interval\n\n    - A **confidence interval** is a range estimated from sample data that is likely to contain the **population mean** with a certain level of confidence.\n\n    - The **confidence level** is denoted by $1 - \\alpha$, and commonly used values include **80%**, **90%**, **95%**, and **99%**.\n\n    - A typical confidence interval for the sample mean is written as:\n  $\n  [a, b], \\quad \\text{such that} \\quad P(a \\leq \\mu \\leq b) \\geq 1 - \\alpha.\n  $\n",
      "metadata": {
        "slideshow": {
          "slide_type": "subslide"
        }
      }
    },
    {
      "id": "747cc05b-ae32-4cc9-be5a-41ab3b767e6a",
      "cell_type": "markdown",
      "source": "\n- For large sample sizes or normally distributed data, the confidence interval for the sample mean can be approximated as:\n\n  $$\n  P\\left( \\left| \\frac{\\bar{X} - \\mu}{\\hat{\\sigma} / \\sqrt{n}} \\right| \\leq Z_{\\alpha/2} \\right) \\geq 1 - \\alpha\n  $$\n\n- Therefore, the approximate **$(1 - \\alpha)$** confidence interval for the population mean is:\n\n  $$\n  \\left[ \\bar{X} - Z_{\\alpha/2} \\cdot \\frac{\\hat{\\sigma}}{\\sqrt{n}}, \\quad \\bar{X} + Z_{\\alpha/2} \\cdot \\frac{\\hat{\\sigma}}{\\sqrt{n}} \\right]\n  $$",
      "metadata": {
        "slideshow": {
          "slide_type": "subslide"
        }
      }
    },
    {
      "id": "d109d8b5-ba56-4d16-a194-fc1c444003f7",
      "cell_type": "code",
      "source": "import matplotlib.pyplot as plt\nimport numpy as np\nimport pandas as pd\n\n# 假设 cr_mean 包含 columns: 'Company Location', 'mean', 'se'\n# 置信水平参数\nlevel = 0.95\nz_critical = 1.96  # 对于 95% CI，标准正态分布对应的 z ≈ 1.96\n\n# 排序 DataFrame（按 mean 从小到大）\ncr_mean_sorted = cr_mean.sort_values('mean')\nlocations = cr_mean_sorted['Company Location']\nmeans = cr_mean_sorted['mean']\nerrors = z_critical * cr_mean_sorted['se']\n\n# 画图\nfig, ax = plt.subplots(figsize=(8, 5))\n\n# 1. 画水平误差条\nax.errorbar(x=means,y=np.arange(len(locations)),xerr=errors,fmt='o',\n    color='#D55E00',ecolor='#4D4D4D',elinewidth=1.5,capsize=4\n) \n  \n# 设置 Y 轴为国家名称\nax.set_yticks(np.arange(len(locations)))\nax.set_yticklabels(locations)\n\n# 设置 X 轴范围、标签和刻度\nax.set_xlim(2.5, 3.7)\nax.set_xticks(np.arange(2.6, 3.7, 0.2))\nax.set_xlabel(\"Rating Mean\")\nax.set_ylabel(\"\")\n\n# 添加标题与副标题\nax.set_title(\"Chocolate flavor rating of five countries\", fontsize=14, weight='bold', pad=30)\nfig.text(0.52, 0.8, \"Error bars indicate mean's 95% confidence interval\", ha='center', fontsize=10)\n\nax.spines['left'].set_visible(False)\nax.spines['top'].set_visible(False)\nax.spines['right'].set_visible(False)\nax.spines['bottom'].set_color(\"black\")\nax.tick_params(axis='x', colors='black', direction='out', length=5, width=1)\nax.tick_params(axis='y', labelsize=12)\nax.grid(axis='x', linestyle='--', linewidth=0.5, color='gray', alpha=0.5)\n\nplt.tight_layout(rect=[0, 0, 1, 0.92])\nplt.show()",
      "metadata": {
        "slideshow": {
          "slide_type": "subslide"
        },
        "trusted": true
      },
      "outputs": [],
      "execution_count": null
    },
    {
      "id": "81e91e72-8c57-4188-b01e-4a3f6f1ff325",
      "cell_type": "code",
      "source": "import matplotlib.pyplot as plt\nimport numpy as np\n\n# 设定 95% 置信区间的 z 值\nz_critical = 1.96\n\n# 排序数据\ncr_mean_sorted = cr_mean.sort_values('mean')\nlocations = cr_mean_sorted['Company Location']\nmeans = cr_mean_sorted['mean']\nerrors = z_critical * cr_mean_sorted['se']\n\n# 准备画布\nfig, ax = plt.subplots(figsize=(8, 5))\n\n# 1. 用 linerange 表示 CI（其实是用 ax.hlines 画水平线）\nfor i, (mean, err) in enumerate(zip(means, errors)):\n    ax.hlines(y=i, xmin=mean - err, xmax=mean + err, color='black', linewidth=1.5)\n\n# 2. 叠加表示均值的点\nax.scatter(means, np.arange(len(means)), color='#D55E00', s=60, zorder=3)\n\n# Y轴标签\nax.set_yticks(np.arange(len(locations)))\nax.set_yticklabels(locations)\n\n# X轴设置\nax.set_xlim(2.5, 3.7)\nax.set_xticks(np.arange(2.6, 3.7, 0.2))\nax.set_xlabel(\"Rating Mean\")\nax.set_ylabel(\"\")\n\n# 标题与副标题 \nax.set_title(\"Chocolate flavor rating of five countries\", fontsize=14, weight='bold', pad=30)\nfig.text(0.52, 0.8, \"Error bars indicate mean's 95% confidence interval\", ha='center', fontsize=10)\n\n# 模拟 my_theme() 和 theme() 风格\nax.spines['top'].set_visible(False)\nax.spines['right'].set_visible(False)\nax.spines['left'].set_visible(False)\nax.spines['bottom'].set_color(\"black\")\n\nax.tick_params(axis='x', colors='black', direction='out', length=5, width=1)\nax.tick_params(axis='x', top=True, color='gray', labelsize=12)\nax.tick_params(axis='y', labelsize=12)\n\nax.grid(axis='x', linestyle='--', linewidth=0.5, color='gray', alpha=0.4)\nax.xaxis.grid(True)\nax.yaxis.grid(False)\n\nplt.tight_layout(rect=[0, 0, 1, 0.92])\nplt.show()",
      "metadata": {
        "slideshow": {
          "slide_type": "subslide"
        },
        "trusted": true
      },
      "outputs": [],
      "execution_count": null
    },
    {
      "id": "dd4cdbc7-65ff-4939-88a6-6fab39560b68",
      "cell_type": "code",
      "source": "import pandas as pd\nimport numpy as np\nfrom scipy.stats import norm\n\n\n# 1. 创建置信水平 DataFrame\nlevels = [0.80, 0.95, 0.99]\nlevels_df = pd.DataFrame({'level': levels})\n\ncr_CI = cr_mean.assign(key=1).merge(levels_df.assign(key=1), on='key').drop(columns='key')\ncr_CI",
      "metadata": {
        "slideshow": {
          "slide_type": "subslide"
        },
        "trusted": true
      },
      "outputs": [],
      "execution_count": null
    },
    {
      "id": "441d06cf",
      "cell_type": "code",
      "source": "\n#  2. 计算 z 值和置信区间上下界\ncr_CI['z'] = cr_CI['level'].apply(lambda lvl: norm.ppf(1 - (1 - lvl) / 2))\ncr_CI['conf.low'] = cr_CI['mean'] - cr_CI['z'] * cr_CI['se']\ncr_CI['conf.high'] = cr_CI['mean'] + cr_CI['z'] * cr_CI['se']\ncr_CI['level'] = (cr_CI['level'] * 100).astype(int).astype(str) + '%'\n\n# 3. 可选：只保留你需要的列\ncr_CI = cr_CI[['Company Location', 'mean', 'se', 'level', 'conf.low', 'conf.high']]\ncr_CI",
      "metadata": {
        "trusted": true
      },
      "outputs": [],
      "execution_count": null
    },
    {
      "id": "d085c825-0cc3-4d5f-9dbb-12c9d6198bdb",
      "cell_type": "code",
      "source": "import matplotlib.pyplot as plt\nimport numpy as np\nimport pandas as pd\nfrom matplotlib.lines import Line2D\n\ncr_CI_sorted = cr_CI.sort_values(by=['mean', 'conf.low'])\nlocation_order = cr_CI_sorted[['Company Location', 'mean']].drop_duplicates().sort_values('mean')\nlocation_order['y'] = np.arange(len(location_order))\nloc_to_y = dict(zip(location_order['Company Location'], location_order['y']))\ncr_CI_sorted['y'] = cr_CI_sorted['Company Location'].map(loc_to_y)\n\n# 样式映射\nsize_map = {'80%': 1.5, '95%': 1.0, '99%': 0.5}\ncolor_map = {'80%': '#345a7f', '95%': '#628bb9', '99%': '#81a7d6'}\n\n# 初始化画布\nfig, ax = plt.subplots(figsize=(8, 5))\n\nfor level in ['80%', '95%', '99%']:\n    subset = cr_CI_sorted[cr_CI_sorted['level'] == level]\n    ax.errorbar(x=subset['mean'],y=subset['y'],xerr=[subset['mean'] - subset['conf.low'], subset['conf.high'] - subset['mean']],\n        fmt='o',color='#D55E00',ecolor=color_map[level], elinewidth=size_map[level],  capsize=4,label=level)\n\n# Y 轴标签\nax.set_yticks(location_order['y'])\nax.set_yticklabels(location_order['Company Location'])\n\n# X 轴范围和刻度\nax.set_xlim(2.5, 3.7)\nax.set_xticks(np.arange(2.6, 3.7, 0.2))\nax.set_xlabel(\"Rating Mean\")\nax.set_ylabel(\"\")\n\n# 图例（只显示一次每个level）\nhandles_dict = {}\nfor level in ['80%', '95%', '99%']:\n    if level not in handles_dict:\n        handles_dict[level] = Line2D([0], [0], color=color_map[level], lw=size_map[level], label=level)\nax.legend(handles=list(handles_dict.values()), title=\"Confidence Level\", loc='upper left', ncol=3)\n\n# 样式调整\nax.spines['top'].set_visible(False)\nax.spines['right'].set_visible(False)\nax.spines['left'].set_visible(False)\nax.spines['bottom'].set_color(\"black\")\nax.tick_params(axis='x', colors='black', direction='out', length=5, width=1)\nax.tick_params(axis='y', labelsize=12)\nax.grid(axis='x', linestyle='--', linewidth=0.5, color='gray', alpha=0.4)\n\nplt.tight_layout()\nplt.show()",
      "metadata": {
        "slideshow": {
          "slide_type": "subslide"
        },
        "trusted": true
      },
      "outputs": [],
      "execution_count": null
    },
    {
      "id": "ace81c34-3e97-41e5-8c11-9e2c8e9aaf24",
      "cell_type": "markdown",
      "source": "### Difference in mean plot",
      "metadata": {
        "slideshow": {
          "slide_type": "subslide"
        }
      }
    },
    {
      "id": "83c2793f-1abc-403a-9389-ca9508297a61",
      "cell_type": "code",
      "source": "import pandas as pd\nimport numpy as np\nimport matplotlib.pyplot as plt\nfrom matplotlib.lines import Line2D\nfrom scipy.stats import norm\n\n# 设定置信水平和对应的 Z 值\n\nus_mean = cr_CI.loc[cr_CI['Company Location'] == 'U.S.A.', 'mean'].values[0]\ncr_diff_CI = cr_CI[cr_CI['Company Location'] != 'U.S.A.'].copy()\ncr_diff_CI[['conf.low','conf.high']] =cr_diff_CI[['conf.low','conf.high']] - us_mean\ncr_diff_CI['mean_diff'] = cr_diff_CI['mean']- us_mean\n\n\n# 排序 & 分配 Y 轴坐标\ncr_diff_CI = cr_diff_CI.sort_values(by=['mean_diff', 'conf.low'])\nloc_order = cr_diff_CI['Company Location'].drop_duplicates().to_list()\nloc_to_y = {loc: i for i, loc in enumerate(loc_order)}\ncr_diff_CI['y'] = cr_diff_CI['Company Location'].map(loc_to_y)\n\n\n\n# 绘图\nfig, ax = plt.subplots(figsize=(8, 5))\n\nfor level in ['80%', '95%', '99%']:\n    subset = cr_diff_CI[cr_diff_CI['level'] == level]\n    ax.errorbar(\n        x=subset['mean_diff'],\n        y=subset['y'],\n        xerr=[subset['mean_diff'] - subset['conf.low'], subset['conf.high'] - subset['mean_diff']],\n        fmt='o',\n        color='#D55E00',                   # 中心点颜色\n        ecolor=color_map[level],           # 误差条颜色\n        elinewidth=size_map[level],        # 误差条线宽\n        capsize=6,                         # 帽子长度\n        capthick=size_map[level],          # 帽子线宽\n        label=level if level not in ax.get_legend_handles_labels()[1] else None\n    )\n\n# 添加参考线\nax.axvline(x=0, color='black', linestyle='--', linewidth=1)\nax.text(0, len(loc_order), \"US mean rating\", ha='center', va='bottom', fontsize=9)\n\n# 设置坐标轴标签和刻度\nax.set_yticks(list(loc_to_y.values()))\nax.set_yticklabels(list(loc_to_y.keys()))\nax.set_xlim(-0.55, 0.3)\nax.set_xlabel(\"Difference in Rating Mean\")\nax.set_ylabel(\"\")\n\n# 图例\nhandles = [\n    Line2D([0], [0], color=color_map[level], lw=size_map[level], label=level)\nfor level in ['80%', '95%', '99%']]\nax.legend(handles=handles, title=\"Confidence Level\", loc='upper left', ncol=3)\n\n# 样式美化\nax.spines['top'].set_visible(False)\nax.spines['right'].set_visible(False)\nax.spines['left'].set_visible(False)\nax.spines['bottom'].set_color(\"black\")\nax.tick_params(axis='x', colors='black', direction='out', length=5, width=1)\nax.tick_params(axis='y', labelsize=11)\nax.grid(axis='x', linestyle='--', linewidth=0.5, color='gray', alpha=0.4)\n\nplt.tight_layout()\nplt.show()",
      "metadata": {
        "slideshow": {
          "slide_type": "subslide"
        },
        "trusted": true
      },
      "outputs": [],
      "execution_count": null
    },
    {
      "id": "e606dddb-f18d-4b8a-875f-1c761fede6c8",
      "cell_type": "markdown",
      "source": "This plot compares the average chocolate flavor ratings of four countries against that of the United States.\n- Each dot represents the mean difference in rating relative to the U.S., and the three horizontal bars show 80%, 95%, and 99% confidence intervals.\n\n- At 95% confidence level, Switzerland, Austria and Peru have overlapping intervals with zero, suggesting no strong evidence of a difference from the U.S. mean.",
      "metadata": {
        "slideshow": {
          "slide_type": "subslide"
        }
      }
    },
    {
      "id": "ffe48c5a",
      "cell_type": "markdown",
      "source": "### Today's Goals\n\n- Correlation Plot\n\n- Point Estimates & Error Bars\n\n- ***Visualizing Model Outputs***\n\n- Model Diagnostic\n",
      "metadata": {
        "slideshow": {
          "slide_type": "slide"
        }
      }
    },
    {
      "id": "0c914fe9-6594-4886-adbd-31e229882b58",
      "cell_type": "markdown",
      "source": "## Linear regression model:\n$$Y = aX+ b + \\epsilon.$$\nWe assume $X\\perp \\epsilon$ and $\\epsilon \\sim N(0,\\sigma^2)$.\n\nSuppose we observe datapoints $(x_i,y_i), i = 1,2,...,n$. The Least square estimation is:\n$$\n\\widehat{a} = \\frac{\\sum (x_i - \\bar{x})(y_i - \\bar{y})}{\\sum (x_i - \\bar{x})^2}, \\quad\n\\widehat{b} = \\bar{y} - \\widehat{a} \\bar{x}.\n$$\n\n",
      "metadata": {
        "slideshow": {
          "slide_type": "subslide"
        }
      }
    },
    {
      "id": "06e19077-cc1a-4863-bf64-da9b79f6bcff",
      "cell_type": "code",
      "source": "import pandas as pd\nimport numpy as np\nimport matplotlib.pyplot as plt\nimport seaborn as sns\nfrom sklearn.linear_model import LinearRegression\nimport plotly.express as px\n\n# 加载数据并取对数\ndf = px.data.gapminder()\ndf['log_gdp'] = np.log(df['gdpPercap'])\n\nX = df[['log_gdp']]\ny = df['lifeExp']\n\n# 线性回归模型拟合\nmodel = LinearRegression()\nmodel.fit(X, y)\n\n# 生成预测值\nx_range = np.linspace(X.min(), X.max(), 300)\ny_pred = model.predict(x_range)\n",
      "metadata": {
        "slideshow": {
          "slide_type": "subslide"
        },
        "trusted": true
      },
      "outputs": [],
      "execution_count": null
    },
    {
      "id": "271ce39b",
      "cell_type": "code",
      "source": "\n# 可视化\nplt.figure(figsize=(8, 5))\nsns.scatterplot(x='log_gdp', y='lifeExp', data=df, alpha=0.2)\nplt.plot(x_range, y_pred, color='blue', linewidth=2, label='Linear Regression')\nplt.xlabel(\"log(GDP per Capita)\")\nplt.ylabel(\"Life Expectancy\")\nplt.title(\"Linear Regression on log(GDP) vs Life Expectancy\")\nplt.legend()\nplt.grid(True, linestyle='--', alpha=0.5)\nplt.tight_layout()\nplt.show()",
      "metadata": {
        "slideshow": {
          "slide_type": "subslide"
        },
        "trusted": true
      },
      "outputs": [],
      "execution_count": null
    },
    {
      "id": "21f4d364-9978-45e6-b45f-5060e55bfc4f",
      "cell_type": "markdown",
      "source": "### Inference\n$$\n\\widehat{a} \\sim N\\left(a, \\; \\frac{\\sigma^2}{\\sum (x_i - \\bar{x})^2} \\right).\n$$\n\nFor a new point $x_0$, the corresponding prediction for $Y$ is\n$$\\hat{y}_0 = \\hat{a}x_0+\\hat{b}.\n$$\n",
      "metadata": {
        "slideshow": {
          "slide_type": "subslide"
        }
      }
    },
    {
      "id": "17eae1e3-212c-4ec2-b9fa-48793a2686fc",
      "cell_type": "markdown",
      "source": "- The **confidence interval for the mean response** at $x_0$:\n\n$$\n\\text{Confidence Interval:} \\quad \\widehat{y}_0 \\pm t^*_{n-2} \\cdot \\hat{\\sigma} \\cdot \\sqrt{ \\frac{1}{n} + \\frac{(x_0 - \\bar{x})^2}{\\sum_{i=1}^n (x_i - \\bar{x})^2} }\n$$\n\n- The **prediction interval** for a *new observation* at $x_0$:\n\n$$\n\\text{Confidence Interval:} \\quad \\widehat{y}_0 \\pm t^*_{n-2} \\cdot \\hat{\\sigma} \\cdot \\sqrt{ 1 + \\frac{1}{n} + \\frac{(x_0 - \\bar{x})^2}{\\sum_{i=1}^n (x_i - \\bar{x})^2} }\n$$\nHere, $\\hat{\\sigma} = \\sqrt{\\sum_{i=1}^n (y_i - \\widehat{a}-\\widehat{b}x_i)^2}$",
      "metadata": {
        "slideshow": {
          "slide_type": "subslide"
        }
      }
    },
    {
      "id": "cb5def7d-6996-46ce-bc0e-2f0c8561f500",
      "cell_type": "code",
      "source": "import numpy as np\nimport pandas as pd\nimport matplotlib.pyplot as plt\nimport seaborn as sns\nimport plotly.express as px\nfrom sklearn.linear_model import LinearRegression\nfrom scipy.stats import t\n\n# 1. 加载数据\ndf = px.data.gapminder()\ndf['log_gdp'] = np.log(df['gdpPercap'])\ndf = df[df['year'] == 2007]\nX = df[['log_gdp']]\ny = df['lifeExp']\n\n# 2. 拟合线性回归模型\nmodel = LinearRegression()\nmodel.fit(X, y)\n",
      "metadata": {
        "slideshow": {
          "slide_type": "subslide"
        },
        "trusted": true
      },
      "outputs": [],
      "execution_count": null
    },
    {
      "id": "7d09250c-d400-4a8d-a99c-68dbd1bfabac",
      "cell_type": "code",
      "source": "\n# 3. 生成预测点\nx_pred = np.linspace(X.min()[0], X.max()[0], 300).reshape(-1, 1)\ny_pred = model.predict(x_pred)\n\n# 4. 构建设计矩阵（加入截距）\nX_design = np.hstack([np.ones_like(X), X])\nX_pred_design = np.hstack([np.ones_like(x_pred), x_pred])\n\n# 5. 计算残差与 MSE\ny_fit = model.predict(X)\nresiduals = y - y_fit\nn = len(y)\nmse = np.mean(residuals**2)\nXtX_inv = np.linalg.inv(X_design.T @ X_design)\n",
      "metadata": {
        "slideshow": {
          "slide_type": "subslide"
        },
        "trusted": true
      },
      "outputs": [],
      "execution_count": null
    },
    {
      "id": "ffd5820a-b008-42ce-b01a-e810403747ac",
      "cell_type": "code",
      "source": "\n# 6. t 分布临界值\nt_val = t.ppf(0.975, df=n - 2)\n\n# 7. 计算 CI 和 PI\nse_ci = np.sqrt(np.sum((X_pred_design @ XtX_inv) * X_pred_design, axis=1) * mse)\nse_pi = np.sqrt((np.sum((X_pred_design @ XtX_inv) * X_pred_design, axis=1) + 1) * mse)\n\ny_lower_ci = y_pred - t_val * se_ci\ny_upper_ci = y_pred + t_val * se_ci\n\ny_lower_pi = y_pred - t_val * se_pi\ny_upper_pi = y_pred + t_val * se_pi\n",
      "metadata": {
        "slideshow": {
          "slide_type": "subslide"
        },
        "trusted": true
      },
      "outputs": [],
      "execution_count": null
    },
    {
      "id": "acbae37b-5012-4dba-b2e2-5bb183fb9b1b",
      "cell_type": "code",
      "source": "\n# 8. 可视化\nplt.figure(figsize=(8, 5))\nsns.scatterplot(x='log_gdp', y='lifeExp', data=df, alpha=0.3, color='black')\nplt.plot(x_pred, y_pred, color='darkblue', linewidth=2, label='Linear Regression')\nplt.fill_between(x_pred.ravel(), y_lower_pi, y_upper_pi, color='blue', alpha=0.15, label='95% Prediction Interval')\nplt.fill_between(x_pred.ravel(), y_lower_ci, y_upper_ci, color='blue', alpha=0.35, label='95% Confidence Interval')\n\nplt.xlabel(\"log(GDP per Capita)\")\nplt.ylabel(\"Life Expectancy\")\nplt.title(\"Linear Regression with 95% CI and PI\")\nplt.legend()\nplt.grid(True, linestyle='--', alpha=0.4)\nplt.tight_layout()\nplt.show()",
      "metadata": {
        "slideshow": {
          "slide_type": "subslide"
        },
        "trusted": true
      },
      "outputs": [],
      "execution_count": null
    },
    {
      "id": "86dcffbc-7e6e-4ed7-aa4f-324c9f386c09",
      "cell_type": "markdown",
      "source": "### visualizing model coefficient",
      "metadata": {
        "slideshow": {
          "slide_type": "subslide"
        }
      }
    },
    {
      "id": "2a22249b-8509-4bb3-a2a1-51b37effa081",
      "cell_type": "code",
      "source": "import statsmodels.formula.api as smf\nimport plotly.express as px\nimport numpy as np\n\n# 1. 加载数据\ndf = px.data.gapminder().copy()\n\ndf[\"log_gdpPercap\"] = np.log(df[\"gdpPercap\"])\ndf[\"log_pop\"] = np.log(df[\"pop\"])\n\n# 2. 拟合线性模型（对应 R 中的 lm）\nmodel = smf.ols(\"lifeExp ~ log_gdpPercap + log_pop + continent\", data=df).fit()\nsummary_df = model.summary2().tables[1]\n\n# 3. 提取参数估计和置信区间\ncoefs = model.summary2().tables[1].reset_index().rename(columns={\"index\": \"term\"})\nconf = model.conf_int().reset_index()\nconf.columns = [\"term\", \"conf.low\", \"conf.high\"]\nresult = pd.merge(coefs, conf, on=\"term\")\nresult",
      "metadata": {
        "slideshow": {
          "slide_type": "subslide"
        },
        "trusted": true
      },
      "outputs": [],
      "execution_count": null
    },
    {
      "id": "980c0b49-0546-4ed4-b078-a6cb3dafe429",
      "cell_type": "code",
      "source": "\n# 4. 去掉截距并提取 continent 名称\nresult = result[result[\"term\"] != \"Intercept\"].copy()\nresult[\"continent\"] = result[\"term\"].str.replace(\"continent\", \"\", regex=False)\n\n# 5. 可视化\nplt.figure(figsize=(8, 5))\nsns.set_style(\"whitegrid\")\n\n# 横向误差棒 + 点图\nplt.errorbar(\n    x=result[\"Coef.\"],y=result[\"continent\"],xerr=[result[\"Coef.\"] - result[\"conf.low\"], result[\"conf.high\"] - result[\"Coef.\"]],\n    fmt='o',color=\"#CC0000\",\n    ecolor=\"gray\",elinewidth=2,capsize=4,markersize=6\n)\n\nplt.axvline(0, color='black', linestyle='--')\nplt.xlabel(\"LSE Estimate\")\nplt.ylabel(\"\")\nplt.title(\"Linear Model Estimates by Continent (Reference: Africa)\")\nplt.tight_layout()\nplt.show()",
      "metadata": {
        "trusted": true
      },
      "outputs": [],
      "execution_count": null
    },
    {
      "id": "97b6c916",
      "cell_type": "markdown",
      "source": "### Today's Goals\n\n- Correlation Plot\n\n- Point Estimates & Error Bars\n\n- Visualizing Model Outputs\n\n- ***Model Diagnostic***\n",
      "metadata": {
        "slideshow": {
          "slide_type": "slide"
        }
      }
    },
    {
      "id": "a590a79d-f963-4c3e-a75d-03b47fe5f46d",
      "cell_type": "markdown",
      "source": "### Model Diagnostic:\n- Residuals vs Fitted\n- Normal Q-Q Plot\n",
      "metadata": {
        "slideshow": {
          "slide_type": "subslide"
        }
      }
    },
    {
      "id": "cbee0b03-d41b-45fd-8a91-4ed0c844069b",
      "cell_type": "markdown",
      "source": "### Residuals vs Fitted\n\n- Purpose: Assess linearity and homoscedasticity\n\n- Shows residuals plotted against fitted values\n\n- A horizontal red line indicates zero residuals\n\n- Random scatter suggests a good linear fit\n\n- Curved shape → nonlinearity\n\n- funnel shape → heteroscedasticity\n\n",
      "metadata": {
        "slideshow": {
          "slide_type": "subslide"
        }
      }
    },
    {
      "id": "6b6cd686-a3d8-46ef-b31d-31176217ff74",
      "cell_type": "code",
      "source": "import pandas as pd\nimport numpy as np\nimport seaborn as sns\nimport matplotlib.pyplot as plt\nfrom sklearn.linear_model import LinearRegression\n\nfrom scipy import stats\nimport plotly.express as px\n\n# 1. 加载数据\ndf = px.data.gapminder()\ndf['log_gdp'] = np.log(df['gdpPercap'])\ndf = df[df['year'] == 2007]\nX = df[['log_gdp']]\ny = df['lifeExp']\n# 2. 拟合线性回归模型\nmodel = LinearRegression()\nmodel.fit(X, y)\ny_pred = model.predict(X)\nresiduals = y - y_pred\n\n",
      "metadata": {
        "slideshow": {
          "slide_type": "subslide"
        },
        "trusted": true
      },
      "outputs": [],
      "execution_count": null
    },
    {
      "id": "7533c6f0-d374-4271-ba97-baf08e4dd06e",
      "cell_type": "code",
      "source": "plt.figure(figsize=(8, 5))\nplt.scatter(y_pred, residuals, alpha=0.5, color='darkred')\nplt.axhline(0, color='black', linestyle='--', linewidth=1)\nplt.xlabel(\"Fitted values (ŷ)\")\nplt.ylabel(\"Residuals (y - ŷ)\")\nplt.title(\"Residual Plot of Linear Regression\")\nplt.grid(True, linestyle='--', alpha=0.3)\nplt.tight_layout()\nplt.show()",
      "metadata": {
        "slideshow": {
          "slide_type": "subslide"
        },
        "trusted": true
      },
      "outputs": [],
      "execution_count": null
    },
    {
      "id": "77ca429a-1d9d-4b45-a292-c6735d7d8b0a",
      "cell_type": "markdown",
      "source": "### Normal Q-Q Plot\n- Purpose: Check if residuals are normally distributed\n\n- Plots standardized residual quantiles against theoretical normal quantiles\n\n- Points should lie close to the 45-degree line\n\n- Systematic deviations suggest non-normality\n\n- Tail divergence may indicate heavy tails\n\n",
      "metadata": {
        "slideshow": {
          "slide_type": "subslide"
        }
      }
    },
    {
      "id": "c6d4505f-f6e7-431f-8e26-a7076f9b224c",
      "cell_type": "code",
      "source": "import statsmodels.api as sm\nsm.qqplot(residuals, line='45')  # '45'表示绘制参考线 y = x\nplt.title(\"Normal Q-Q Plot of Residuals\")\nplt.tight_layout()\nplt.show()",
      "metadata": {
        "slideshow": {
          "slide_type": "subslide"
        },
        "trusted": true
      },
      "outputs": [],
      "execution_count": null
    },
    {
      "id": "ab0bd026-bb10-468a-ba67-547a99554a78",
      "cell_type": "code",
      "source": "import seaborn as sns\nsns.histplot(residuals, kde=True)\nplt.title(\"Histogram of Residuals with KDE\")\nplt.xlabel(\"Residual\")\nplt.show()",
      "metadata": {
        "slideshow": {
          "slide_type": "subslide"
        },
        "trusted": true
      },
      "outputs": [],
      "execution_count": null
    },
    {
      "id": "58242948-7028-46c1-b030-8553fe3c7f5b",
      "cell_type": "code",
      "source": "from scipy.stats import shapiro\n\nstat, p = shapiro(residuals)\nprint(f\"Shapiro-Wilk Test: statistic={stat:.4f}, p-value={p:.4f}\")\n\nif p > 0.05:\n    print(\"Residuals look normal (fail to reject H0)\")\nelse:\n    print(\"Residuals not normal (reject H0)\")",
      "metadata": {
        "slideshow": {
          "slide_type": "subslide"
        },
        "trusted": true
      },
      "outputs": [],
      "execution_count": null
    }
  ]
}