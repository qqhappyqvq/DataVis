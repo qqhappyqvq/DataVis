{
  "metadata": {
    "kernelspec": {
      "name": "python",
      "display_name": "Python (Pyodide)",
      "language": "python"
    },
    "language_info": {
      "codemirror_mode": {
        "name": "ipython",
        "version": 3
      },
      "file_extension": ".py",
      "mimetype": "text/x-python",
      "name": "python",
      "nbconvert_exporter": "python",
      "pygments_lexer": "ipython3",
      "version": "3.9.21"
    },
    "celltoolbar": "Slideshow"
  },
  "nbformat_minor": 5,
  "nbformat": 4,
  "cells": [
    {
      "id": "09c60425-e5a5-4918-a4fb-5401f533e73a",
      "cell_type": "markdown",
      "source": "## Data Visualization\n### Visualizing Geographic and Spatial Data\n- Xianli Zeng\n- School of Economy, XMU",
      "metadata": {
        "slideshow": {
          "slide_type": "slide"
        }
      }
    },
    {
      "id": "555ef43e",
      "cell_type": "markdown",
      "source": "### Today's Tasks\n\n- <font color=\"red\"> ***Projection***\n\n- Map Drawing\n\n- Choropleth Maps\n\n- Cartogram\n    \n- Interactive and Animation",
      "metadata": {
        "slideshow": {
          "slide_type": "slide"
        }
      }
    },
    {
      "id": "8157c2f7-46e2-4167-abcf-cdf1e413d84f",
      "cell_type": "markdown",
      "source": "### Projection\n#### Location on Earth:\n- <font color=\"red\">***Longitude***:</font> The position along the equator, ranging from 180° West to 180° East, denoted as [-180°, 180°].\n\n- <font color=\"red\">***Latitude***:</font> The distance perpendicular to the equator toward the poles, ranging from 90° South to 90° North, denoted as [-180°,180°]\n- <font color=\"red\">***Altitude***:</font> The distance from the center of the Earth; rarely used in visualizations.",
      "metadata": {
        "slideshow": {
          "slide_type": "slide"
        }
      }
    },
    {
      "id": "8dd575f0-8eb2-4212-a84c-52c164c4c294",
      "cell_type": "markdown",
      "source": "#### Projection refers to flattening the spherical surface of the Earth onto a 2D plane for visualization purposes.\n\nThis process inevitably introduces distortion and errors.\n- <font color=\"red\"> *Conformal Projection*:</font> Preserves angles.\n- <font color=\"red\"> *Equal-area Projection*:</font>  Preserves areas.\n- <font color=\"red\"> *Equidistant Projection*:</font>    Preserves distances from a reference point or line.",
      "metadata": {
        "slideshow": {
          "slide_type": "subslide"
        }
      }
    },
    {
      "id": "cfda9882-ec16-4b9e-824e-a6e792fdd825",
      "cell_type": "markdown",
      "source": "### Types of projections:\n- Mercator\n- Albers Equal-Area: \n- Azimuthal Equidistant",
      "metadata": {
        "slideshow": {
          "slide_type": "subslide"
        }
      }
    },
    {
      "id": "f4df4454-3743-4ca2-90d9-0dc561680ed3",
      "cell_type": "markdown",
      "source": "#### <font color=\"red\"> Mercator Projection:</font>  A conformal projection that projects the Earth onto a cylinder, which is then unwrapped into a flat map.\n- Accurately preserves shapes, especially near the equator\n- However, it distorts areas near the poles, making them appear much larger\n- Most commonly used in online maps such as Google Maps and Baidu Maps",
      "metadata": {
        "slideshow": {
          "slide_type": "subslide"
        }
      }
    },
    {
      "id": "7016af8e-99fe-49e8-b75f-39f93a640463",
      "cell_type": "markdown",
      "source": "<div>\n<img src=\"./Mercator.png\" width=\"250\"/>\n</div>",
      "metadata": {
        "slideshow": {
          "slide_type": "subslide"
        }
      }
    },
    {
      "id": "d6191202-5596-4d9b-be7e-effa372fc870",
      "cell_type": "markdown",
      "source": "#### <font color=\"red\"> Albers Projection:</font>  A standard conic projection with equal-area property, typically used in its regular (non-oblique) form.\n- Widely used for maps emphasizing the area of countries or regions\n- Particularly suitable for mid- to low-latitude regions with large east-west extent",
      "metadata": {
        "slideshow": {
          "slide_type": "subslide"
        }
      }
    },
    {
      "id": "67b35a89-2174-4a44-a760-767f7f1ce227",
      "cell_type": "markdown",
      "source": "<div>\n<img src=\"./Albers.png\" width=\"250\"/>\n</div>",
      "metadata": {
        "slideshow": {
          "slide_type": "subslide"
        }
      }
    },
    {
      "id": "2a978260-7095-4175-9008-a79b8358e454",
      "cell_type": "markdown",
      "source": "#### <font color=\"red\"> Azimuthal Projection: </font> An equidistant projection\n- The distance from any point on the Earth along a meridian (longitude line) to the center point of the projection is preserved\n- Commonly used in earthquake impact maps, where the epicenter is set as the center of the projection to accurately show the range of affected areas",
      "metadata": {
        "slideshow": {
          "slide_type": "subslide"
        }
      }
    },
    {
      "id": "11317f90-64f7-4a73-9905-af4e49e09c0a",
      "cell_type": "markdown",
      "source": "<div>\n<img src=\"./Azimuthal.png\" width=\"250\"/>\n</div>",
      "metadata": {
        "slideshow": {
          "slide_type": "subslide"
        }
      }
    },
    {
      "id": "6fe5c3eb",
      "cell_type": "markdown",
      "source": "### Today's Tasks\n\n- Projection\n\n- <font color=\"red\"> ***Map Drawing***\n\n- Choropleth Maps\n\n- Cartogram\n    \n- Interactive and Animation",
      "metadata": {
        "slideshow": {
          "slide_type": "slide"
        }
      }
    },
    {
      "id": "ad40b443-6393-4754-b1c9-0b18186a34c6",
      "cell_type": "markdown",
      "source": "Tools for Map Visualization:\n\n- Geopandas + Matplotlob (Static)\n- Plotly (Animation)",
      "metadata": {
        "slideshow": {
          "slide_type": "subslide"
        }
      }
    },
    {
      "id": "26c48c2e-0a2f-4c28-8b46-da23fae59e1a",
      "cell_type": "markdown",
      "source": "### Geopandas\n\n- GeoPandas is an open-source Python library designed to make working with geospatial data easy.\n\n- It extends the capabilities of pandas to handle geometry operations.\n\n- Built on top of:\n\n    - pandas for data manipulation\n\n    - shapely for geometry operations\n\n    - fiona for file input/output\n\n    - pyproj for coordinate transformations\n\n",
      "metadata": {
        "slideshow": {
          "slide_type": "subslide"
        }
      }
    },
    {
      "id": "06de98c2-9e90-4e9d-a2de-36224d645553",
      "cell_type": "markdown",
      "source": "### Why Use GeoPandas?\n- Simplifies working with spatial data (points, lines, polygons)\n\n- Directly reads common GIS formats (e.g., Shapefile, GeoJSON)\n\n- Integrates easily with matplotlib for plotting\n\n- Supports spatial joins, projections, buffering, intersection, and more\n\n- Bridges the gap between data science and GIS",
      "metadata": {
        "slideshow": {
          "slide_type": "subslide"
        }
      }
    },
    {
      "id": "9e3199dc-e6b0-419e-971d-b5caad809d17",
      "cell_type": "markdown",
      "source": "### GeoPandas Data Structure\n- GeoDataFrame:\n\n    - An extension of pandas DataFrame with a special \"geometry\" column.\n\n    - Each row represents a spatial feature (e.g., a point, line, or polygon).\n\n    - Other columns store feature attributes.\n\n- Geometry types:\n\n    - Point\n\n    - LineString\n\n    - Polygon\n\n    - MultiPoint, MultiLineString, MultiPolygon",
      "metadata": {
        "slideshow": {
          "slide_type": "subslide"
        }
      }
    },
    {
      "id": "3cf9784f-8be0-4162-b77d-766afab1a462",
      "cell_type": "markdown",
      "source": "### Basic Workflow in GeoPandas\n- Load geospatial data\n\n- Inspect and manipulate data\n\n- Plot the data\n\n- Perform spatial analysis\n\n- Export to GIS file formats\n",
      "metadata": {
        "slideshow": {
          "slide_type": "subslide"
        }
      }
    },
    {
      "id": "e186d96b-f06d-42bc-8db7-4371a2b712c6",
      "cell_type": "markdown",
      "source": "How Geometry data works:\n",
      "metadata": {
        "slideshow": {
          "slide_type": "subslide"
        }
      }
    },
    {
      "id": "de3cc796-0351-4158-94c2-5154249e82a7",
      "cell_type": "code",
      "source": "\nfrom shapely.geometry import Polygon\n\npoly = Polygon([(0, 0), (1, 1), (1, 0)])  # 创建一个三角形\nprint(poly)\nprint(type(poly))",
      "metadata": {
        "slideshow": {
          "slide_type": "subslide"
        },
        "trusted": true
      },
      "outputs": [],
      "execution_count": null
    },
    {
      "id": "a0219476-8545-427a-a879-183acadc08e1",
      "cell_type": "code",
      "source": "from shapely.geometry import Polygon\nimport matplotlib.pyplot as plt\n\n# 创建Polygon\npoly = Polygon([(0, 0), (1, 1), (1, 0)])\n\n# 创建画布\nfig, ax = plt.subplots()\n\n# 取出polygon的x、y坐标\nx, y = poly.exterior.xy  # 注意：exterior表示边界\n\n# 画出polygon\nax.plot(x, y)            # 画轮廓线\nax.fill(x, y, alpha=0.5) # 填充颜色，透明度0.5\n\n# 设置标题\nax.set_title('Triangle Polygon')\n\n# 保持坐标比例\nax.set_aspect('equal')\n\nplt.show()",
      "metadata": {
        "slideshow": {
          "slide_type": "subslide"
        },
        "trusted": true
      },
      "outputs": [],
      "execution_count": null
    },
    {
      "id": "3b8260ab-d89c-43e5-80fa-56246a985018",
      "cell_type": "markdown",
      "source": "### Data Source:\n- World map: https://www.naturalearthdata.com/downloads/110m-cultural-vectors/\n- China: https://datav.aliyun.com/portal/school/atlas/area_selector",
      "metadata": {
        "slideshow": {
          "slide_type": "subslide"
        }
      }
    },
    {
      "id": "0a861076",
      "cell_type": "markdown",
      "source": "### World map",
      "metadata": {
        "slideshow": {
          "slide_type": "subslide"
        }
      }
    },
    {
      "id": "6ec3de42-d6c2-4857-a5b8-26cdaabbb0e0",
      "cell_type": "code",
      "source": "import geopandas as gpd\n\n# 加载世界地图数据（相当于 R 的 map_data(\"world\")）\nworld = gpd.read_file(\"./ne_110m_admin_0_countries/ne_110m_admin_0_countries.shp\")\n\nworld.plot(edgecolor=\"white\", figsize=(12, 6))",
      "metadata": {
        "slideshow": {
          "slide_type": "fragment"
        },
        "trusted": true
      },
      "outputs": [],
      "execution_count": null
    },
    {
      "id": "304b95d3",
      "cell_type": "markdown",
      "source": "### China Map",
      "metadata": {
        "slideshow": {
          "slide_type": "subslide"
        }
      }
    },
    {
      "id": "e4a0abc2",
      "cell_type": "code",
      "source": "import geopandas as gpd\n\nChina_map = gpd.read_file(\"China.json\")\n\nChina_map.plot(edgecolor=\"black\", facecolor=\"lightblue\")",
      "metadata": {
        "slideshow": {
          "slide_type": "fragment"
        },
        "trusted": true
      },
      "outputs": [],
      "execution_count": null
    },
    {
      "id": "4c4cefc6",
      "cell_type": "markdown",
      "source": "### Today's Tasks\n\n- Projection\n\n- Map Drawing\n\n- <font color=\"red\"> ***Choropleth Maps***\n\n- Cartogram\n    \n- Interactive and Animation",
      "metadata": {
        "slideshow": {
          "slide_type": "slide"
        }
      }
    },
    {
      "id": "ca08a4bf",
      "cell_type": "markdown",
      "source": "### Choropleth Maps\n\n- Represent data values as spatial regions colored differently.\n\n- Also known as shaded maps.",
      "metadata": {
        "slideshow": {
          "slide_type": "subslide"
        }
      }
    },
    {
      "id": "5fc30434",
      "cell_type": "markdown",
      "source": "***Notes***: Continuous vs. Discrete Color Scales:\n\n- Continuous color scales allow for finer gradations, but may be harder to interpret.\n\n- Discrete color scales group data into categories and assign different colors to match specific value ranges.\n\n",
      "metadata": {
        "slideshow": {
          "slide_type": "subslide"
        }
      }
    },
    {
      "id": "c9b215b6",
      "cell_type": "markdown",
      "source": "***Notes***: Beware of Asymmetry Between Data Distribution and Geographic Area Size:\n\n- Data often clusters in densely populated areas.\n\n- Sparsely populated regions may occupy disproportionately large areas on the map display.",
      "metadata": {
        "slideshow": {
          "slide_type": "subslide"
        }
      }
    },
    {
      "id": "09d06458-c98f-45ee-822a-9b7ffe29e858",
      "cell_type": "code",
      "source": "import requests\nimport geopandas as gpd\nimport matplotlib.pyplot as plt\n\n# Step 1: 下载 GeoJSON\nurl = \"https://raw.githubusercontent.com/plotly/datasets/master/geojson-counties-fips.json\"\nresponse = requests.get(url)\ngeojson_data = response.json()\n\n# Step 2: 取出 Texas 的部分（FIPS 以 '48' 开头）\ntx_features = [f for f in geojson_data[\"features\"] if f[\"id\"].startswith(\"48\")]\ntx_geojson = {\"type\": \"FeatureCollection\", \"features\": tx_features}\n\n# Step 3: 将 id 加入到 properties 中\nfor feature in tx_geojson[\"features\"]:\n    feature[\"properties\"][\"fips\"] = feature[\"id\"]\n\n# Step 4: 转为 GeoDataFrame\ntx_gdf = gpd.GeoDataFrame.from_features(tx_geojson)\ntx_gdf.to_file(\"texas_counties.geojson\", driver=\"GeoJSON\")\n\n",
      "metadata": {
        "slideshow": {
          "slide_type": "subslide"
        },
        "trusted": true
      },
      "outputs": [],
      "execution_count": null
    },
    {
      "id": "6054bec2-93b6-466f-8659-7b868be8fa78",
      "cell_type": "code",
      "source": "import geopandas as gpd\nimport matplotlib.pyplot as plt\n\n# 加载 Texas Counties 地图\ntx = gpd.read_file(\"texas_counties.geojson\")\n# print(tx)\n# 显示地图\ntx.plot(edgecolor='white', figsize=(10, 8))\nplt.title(\"Texas Counties Map\")\nplt.show()",
      "metadata": {
        "slideshow": {
          "slide_type": "subslide"
        },
        "trusted": true
      },
      "outputs": [],
      "execution_count": null
    },
    {
      "id": "cf230548-bef3-42e9-a62e-a8b120932021",
      "cell_type": "code",
      "source": "tx_loaded = pd.read_csv(\"texus.csv\").dropna()\nmerged_data = tx.merge(tx_loaded, left_on=\"NAME\", right_on=\"Name\", how=\"left\").drop('Name',axis=1)\nmerged_data",
      "metadata": {
        "slideshow": {
          "slide_type": "subslide"
        },
        "trusted": true
      },
      "outputs": [],
      "execution_count": null
    },
    {
      "id": "6dfef2e5-44d4-4f96-8ca8-ae4160278d5d",
      "cell_type": "code",
      "source": "import matplotlib.pyplot as plt\nimport matplotlib as mpl\n\nfig, ax = plt.subplots(1, 1, figsize=(10, 8))\n\n# 画图，不加 legend\nmerged_data.plot(\n    column=\"Hispanic\",\n    cmap=\"OrRd\",\n    linewidth=0.3,\n    edgecolor=\"black\",\n    ax=ax\n)\n\n# 添加 colorbar\nsm = plt.cm.ScalarMappable(\n    cmap=\"OrRd\",\n    norm=plt.Normalize(vmin=merged_data[\"Hispanic\"].min(), vmax=merged_data[\"Hispanic\"].max())\n)\n\ncbar = fig.colorbar(sm, ax=ax, shrink=0.5)\ncbar.set_label(\"Hispanic Population Percentage\")\n\n# 其他设置\nax.set_title(\"Texas Counties: Hispanic Population Percentage\", fontsize=14)\nax.axis(\"off\")\nplt.tight_layout()\nplt.show()",
      "metadata": {
        "slideshow": {
          "slide_type": "subslide"
        },
        "trusted": true
      },
      "outputs": [],
      "execution_count": null
    },
    {
      "id": "114078c6-f3b3-4d57-acdf-6f501ed6225b",
      "cell_type": "code",
      "source": "import matplotlib.pyplot as plt\nimport matplotlib as mpl\n\nfig, ax = plt.subplots(1, 1, figsize=(10, 8))\n\n# 绘图：白色边界线，深蓝色渐变色\nmerged_data.plot(\n    column=\"Hispanic\",\n    cmap=mpl.colors.LinearSegmentedColormap.from_list(\"custom_blue\", [\"#fafafa\", \"#191970\"]),\n    edgecolor=\"white\",\n    linewidth=0.4,\n    ax=ax\n)\n\n# 添加 colorbar，设置 breaks 和 label\nsm = plt.cm.ScalarMappable(\n    cmap=mpl.colors.LinearSegmentedColormap.from_list(\"custom_blue\", [\"#fafafa\", \"#191970\"]),\n    norm=plt.Normalize(vmin=0, vmax=0.75)\n)\nsm._A = []\ncbar = fig.colorbar(sm, ax=ax, ticks=[0, 0.25, 0.5, 0.75], shrink=0.6)\ncbar.ax.set_yticklabels([\"0%\", \"25%\", \"50%\", \"75%\"])\ncbar.set_label(\"\")  # 等价于 name = NULL\n\n# 图形细节\nax.set_title(\"Texas Counties: Hispanic Population Percentage\", fontsize=14)\nax.axis(\"off\")\nplt.tight_layout()\nplt.show()",
      "metadata": {
        "slideshow": {
          "slide_type": "subslide"
        },
        "trusted": true
      },
      "outputs": [],
      "execution_count": null
    },
    {
      "id": "7398875a",
      "cell_type": "markdown",
      "source": "### Group data values and represent them with different colors: typically 4–6 groups.\n\n",
      "metadata": {
        "slideshow": {
          "slide_type": "subslide"
        }
      }
    },
    {
      "id": "23d2cb83-a3bf-468c-a5bb-6485aef21a09",
      "cell_type": "code",
      "source": "import pandas as pd\nimport geopandas as gpd\nimport matplotlib.pyplot as plt\nfrom matplotlib.colors import ListedColormap\n\n# 假设 merged_gdf 已经包含 Hispanic 百分比数据\n\n# 1. 按照百分比分 bin\nbins = [0, 0.2, 0.4, 0.6, 0.8, 1.0]\nlabels = [\"0-20%\", \"20-40%\", \"40-60%\", \"60-80%\", \"80-100%\"]\nmerged_data[\"Hispanic\"] = pd.to_numeric(merged_data[\"Hispanic\"], errors=\"coerce\")\n\nmerged_data[\"perc_bin\"] = pd.cut(merged_data[\"Hispanic\"] / 100, bins=bins, labels=labels, include_lowest=True)\n\n# 2. 定义对应颜色（与 R 中保持一致）\ncolor_list = [\"#EEEEFB\", \"#BDBDEF\", \"#8C8CE3\", \"#4A4AD3\", \"#191970\"]\ncmap = ListedColormap(color_list)\n\n# 3. 画图\nfig, ax = plt.subplots(1, 1, figsize=(10, 8))\nmerged_data.plot(\n    column=\"perc_bin\",\n    cmap=cmap,\n    edgecolor=\"white\",\n    linewidth=0.5,\n    legend=True,\n    ax=ax,\n    categorical=True\n)\n\n# 4. 图例位置和样式\nleg = ax.get_legend()\nleg.set_bbox_to_anchor((0.17, 0.8))  # 图例位置等价于 R 的 c(0.17, 0.8)\nleg.set_title(\"\")  # 不显示图例标题\n\n# 5. 标题与去除坐标轴（模拟 theme_void）\nax.set_title(\"Percentage of Hispanic people by county in Texas\", fontsize=14)\nax.annotate(\"2019 population estimate\", xy=(0.5, 0.92), xycoords='figure fraction', ha='center', fontsize=10)\nax.axis(\"off\")\n\nplt.tight_layout()\nplt.show()",
      "metadata": {
        "slideshow": {
          "slide_type": "subslide"
        },
        "trusted": true
      },
      "outputs": [],
      "execution_count": null
    },
    {
      "id": "c974fa02",
      "cell_type": "markdown",
      "source": "### China GDP data",
      "metadata": {
        "slideshow": {
          "slide_type": "subslide"
        }
      }
    },
    {
      "id": "0a97e878-b044-4d96-8e72-72e251897e3f",
      "cell_type": "code",
      "source": "import pandas as pd\nChina_gdp =  pd.read_csv(\"gdp_china.csv\",encoding='utf-8',sep = '\\t')\n\ndata_China = China_map.merge(China_gdp,how = 'outer',left_on = 'name', right_on = 'Name').drop('Name',axis=1)\ndata_China",
      "metadata": {
        "slideshow": {
          "slide_type": "subslide"
        },
        "trusted": true
      },
      "outputs": [],
      "execution_count": null
    },
    {
      "id": "b35f3581-a8e9-4c0c-bdcc-abdd3a9c1268",
      "cell_type": "code",
      "source": "import matplotlib.pyplot as plt\nfig, ax = plt.subplots(figsize=(12, 10))\ndata_China.plot(\n    column='2023',          # 按哪一年的GDP上色\n    cmap='OrRd',             # 颜色方案（Oranges-Red）\n    legend=True,             # 加上色标图例\n    edgecolor='black',       # 省份边界线颜色\n    linewidth=0.8,           # 省界线宽度\n    ax=ax                    # 指定画到哪个子图\n)\n\n# 设置标题\nax.set_title('China Provinces GDP in 2023', fontsize=20)\n\n# 去掉x/y坐标轴\n# ax.axis('off')",
      "metadata": {
        "slideshow": {
          "slide_type": "subslide"
        },
        "trusted": true
      },
      "outputs": [],
      "execution_count": null
    },
    {
      "id": "1f6aa6c4-3f73-404f-9d38-6423410a9f7b",
      "cell_type": "code",
      "source": "import matplotlib.pyplot as plt\nfig, ax = plt.subplots(figsize=(12, 10))\ndata_China.plot(\n    column='2023',          # 按哪一年的GDP上色\n    cmap='OrRd',             # 颜色方案（Oranges-Red）\n    legend=True,             # 加上色标图例\n    edgecolor='black',       # 省份边界线颜色\n    linewidth=0.8,           # 省界线宽度\n    ax=ax                    # 指定画到哪个子图\n)\nfor idx, row in data_China.iterrows():\n    if row['geometry'].geom_type in ['Polygon', 'MultiPolygon']:\n        x, y = row['geometry'].centroid.coords[0]\n        gdp_val = row['2023']\n        if pd.notnull(gdp_val):\n            ax.text(\n                x, y,\n                f'{gdp_val:.0f}',  # 保留整数\n                fontsize=6,\n                ha='center',\n                va='center',\n                color='blue'\n            )\n\n# 设置标题\nax.set_title('China Provinces GDP in 2023', fontsize=20)\n\nplt.show()",
      "metadata": {
        "slideshow": {
          "slide_type": "subslide"
        },
        "trusted": true
      },
      "outputs": [],
      "execution_count": null
    },
    {
      "id": "ebb64de6",
      "cell_type": "markdown",
      "source": "### Today's Tasks\n\n- Projection\n\n- Map Drawing\n\n- Choropleth Maps\n\n- <font color=\"red\"> ***Cartogram***\n    \n- Interactive and Animation",
      "metadata": {
        "slideshow": {
          "slide_type": "slide"
        }
      }
    },
    {
      "id": "a16a1a3e",
      "cell_type": "markdown",
      "source": "### Cartograms\n\n- Geographical shapes are distorted so that their size is proportional to a selected variable.\n\n- Sometimes difficult to interpret.\n",
      "metadata": {
        "slideshow": {
          "slide_type": "subslide"
        }
      }
    },
    {
      "id": "7239308c",
      "cell_type": "markdown",
      "source": "\n### Cartogram Heatmaps\n\n- Represent each country/state/province/county as a colored block.\n\n- All geographic units are treated equally, avoiding visual bias caused by differences in shape or size.",
      "metadata": {
        "slideshow": {
          "slide_type": "subslide"
        }
      }
    },
    {
      "id": "1bf5fcca-439a-4fa7-9b93-e0be6d316924",
      "cell_type": "code",
      "source": "import os\nos.environ[\"R_HOME\"] = \"C:/Program Files/R/R-4.4.3\"\n\nfrom rpy2.robjects import r, pandas2ri\nfrom rpy2.robjects.packages import importr\nfrom rpy2.robjects.conversion import localconverter\n\n# 开启 pandas 和 R data.frame 自动转换\npandas2ri.activate()\n\ndf = pd.read_csv(\"us_rent_income.csv\")\n\n# 3. 把州名字换成缩写（需要映射表）\nstate_abbrev = {\n    'Alabama': 'AL', 'Alaska': 'AK', 'Arizona': 'AZ', 'Arkansas': 'AR',\n    'California': 'CA', 'Colorado': 'CO', 'Connecticut': 'CT', 'Delaware': 'DE',\n    'District of Columbia': 'DC', 'Florida': 'FL', 'Georgia': 'GA', 'Hawaii': 'HI',\n    'Idaho': 'ID', 'Illinois': 'IL', 'Indiana': 'IN', 'Iowa': 'IA',\n    'Kansas': 'KS', 'Kentucky': 'KY', 'Louisiana': 'LA', 'Maine': 'ME',\n    'Maryland': 'MD', 'Massachusetts': 'MA', 'Michigan': 'MI', 'Minnesota': 'MN',\n    'Mississippi': 'MS', 'Missouri': 'MO', 'Montana': 'MT', 'Nebraska': 'NE',\n    'Nevada': 'NV', 'New Hampshire': 'NH', 'New Jersey': 'NJ', 'New Mexico': 'NM',\n    'New York': 'NY', 'North Carolina': 'NC', 'North Dakota': 'ND', 'Ohio': 'OH',\n    'Oklahoma': 'OK', 'Oregon': 'OR', 'Pennsylvania': 'PA', 'Rhode Island': 'RI',\n    'South Carolina': 'SC', 'South Dakota': 'SD', 'Tennessee': 'TN', 'Texas': 'TX',\n    'Utah': 'UT', 'Vermont': 'VT', 'Virginia': 'VA', 'Washington': 'WA',\n    'West Virginia': 'WV', 'Wisconsin': 'WI', 'Wyoming': 'WY',\n    'Puerto Rico': 'PR'\n}\nrent_df = df[df['variable'] == 'rent'].copy()\nrent_df['state_abbrev'] = rent_df['NAME'].map(state_abbrev)\n\nincome_df = df[df['variable'] == 'income'].copy()\nincome_df['state_abbrev'] = income_df['NAME'].map(state_abbrev)\n# 1. 准备Python里的pandas DataFrame\nincome_df",
      "metadata": {
        "slideshow": {
          "slide_type": "subslide"
        },
        "trusted": true
      },
      "outputs": [],
      "execution_count": null
    },
    {
      "id": "4df7fd94-12f7-4e7f-88c8-3c6026b67447",
      "cell_type": "code",
      "source": "pandas2ri.activate()\nggplot2 = importr(\"ggplot2\")\nstatebins = importr(\"statebins\")\n\nwith localconverter(pandas2ri.converter):\n    r_rent_df = pandas2ri.py2rpy(rent_df)\n# print(r_rent_df)\n# r_rent_df\n# 3. 写R脚本\nr( \"\"\"\nlibrary(ggplot2)\nlibrary(statebins)\n\ndraw_statbins <- function(df, filename) {\n\np <- ggplot(df, aes(state = state_abbrev, fill = estimate)) +\n  geom_statebins() +\n  scale_fill_viridis_c() +\n  labs(title = \"Average Rent per State\", fill = \"Rent Estimate\") +\n  theme_statebins()\n  ggsave(filename, p, width = 8, height = 5, dpi = 500)\n}\n\"\"\")\n\n# 4. 执行R脚本\nr[\"draw_statbins\"](r_rent_df, \"rent.png\")\n",
      "metadata": {
        "slideshow": {
          "slide_type": "subslide"
        },
        "trusted": true
      },
      "outputs": [],
      "execution_count": null
    },
    {
      "id": "a862b54f-260d-4790-97ae-21655e25674c",
      "cell_type": "code",
      "source": "# 用 Python 显示图像\nfrom PIL import Image\nimport matplotlib.pyplot as plt\n\nimg = Image.open(\"rent.png\")\nplt.imshow(img)\nplt.axis('off')\nplt.show()",
      "metadata": {
        "slideshow": {
          "slide_type": "subslide"
        },
        "trusted": true
      },
      "outputs": [],
      "execution_count": null
    },
    {
      "id": "f7e0a8c7-3be8-48d9-bcfd-cb658e47a260",
      "cell_type": "code",
      "source": "pandas2ri.activate()\nggplot2 = importr(\"ggplot2\")\nstatebins = importr(\"statebins\")\n\nwith localconverter(pandas2ri.converter):\n    r_income_df = pandas2ri.py2rpy(income_df)\nprint(income_df)\n\nr( \"\"\"\nlibrary(ggplot2)\nlibrary(statebins)\n\ndraw_statbins <- function(df, filename) {\n\np <- ggplot(df, aes(state = state_abbrev, fill = estimate)) +\n  geom_statebins() +\n  scale_fill_viridis_c() +\n  labs(title = \"Average Income per State\", fill = \"Income Estimate\") +\n  theme_statebins()\n  ggsave(filename, p, width = 8, height = 5, dpi = 300)\n}\n\"\"\")\n\n# 4. 执行R脚本\nr[\"draw_statbins\"](r_income_df, \"income.png\")\nfrom PIL import Image\nimport matplotlib.pyplot as plt\n\nimg = Image.open(\"income.png\")\nplt.imshow(img)\nplt.axis('off')\nplt.show()",
      "metadata": {
        "slideshow": {
          "slide_type": "subslide"
        },
        "trusted": true
      },
      "outputs": [],
      "execution_count": null
    },
    {
      "id": "416ca11f",
      "cell_type": "markdown",
      "source": "### Today's Tasks\n\n- Projection\n\n- Map Drawing\n\n- Choropleth Maps\n\n- Cartogram\n    \n- <font color=\"red\"> ***Interactive and Animation***",
      "metadata": {
        "slideshow": {
          "slide_type": "slide"
        }
      }
    },
    {
      "id": "838121f3",
      "cell_type": "code",
      "source": "import plotly.express as px\n\n# 示例数据：国家名称与人均GDP\ndf = px.data.gapminder().query(\"year == 2007\")\n\nfig = px.choropleth(df, \n                    locations=\"iso_alpha\", \n                    color=\"gdpPercap\",\n                    hover_name=\"country\",\n                    color_continuous_scale=px.colors.sequential.Plasma,\n                    title=\"World GDP per Capita (2007)\")\nfig.show()",
      "metadata": {
        "scrolled": true,
        "slideshow": {
          "slide_type": "subslide"
        },
        "trusted": true
      },
      "outputs": [],
      "execution_count": null
    },
    {
      "id": "06e5f649",
      "cell_type": "code",
      "source": "import plotly.express as px\n\ndf = px.data.gapminder()\n\nfig = px.choropleth(\n    df,\n    locations=\"iso_alpha\",\n    color=\"gdpPercap\",\n    hover_name=\"country\",\n    animation_frame=\"year\",       # 🎬 年份动画滑块\n    color_continuous_scale=\"Viridis\",\n    title=\"🌍 GDP per Capita Over Time (1952–2007)\"\n)\n\nfig.update_layout(geo=dict(bgcolor='rgba(0,0,0,0)'))\nfig.show()",
      "metadata": {
        "slideshow": {
          "slide_type": "subslide"
        },
        "trusted": true
      },
      "outputs": [],
      "execution_count": null
    },
    {
      "id": "b994c32b",
      "cell_type": "code",
      "source": "\nfrom matplotlib.animation import FuncAnimation\nimport matplotlib.cm as cm\nimport matplotlib.colors as colors\nyears = [col for col in China_gdp.columns if col != 'Name'][::-1]\nfig, ax = plt.subplots(figsize=(12, 10))\n\n# 统一色阶，不然每年颜色尺度跳动\nvmin = data_China[years].min().min()\nvmax = data_China[years].max().max()\n\n# 创建固定的ScalarMappable对象（绑定色表和统一范围）\ncmap = cm.get_cmap('OrRd')\nnorm = colors.Normalize(vmin=vmin, vmax=vmax)\nsm = cm.ScalarMappable(cmap=cmap, norm=norm)\n\n# 只添加一次 colorbar\ncbar = fig.colorbar(sm, ax=ax, shrink=0.5)\n\n# 创建初始图\npoly = data_China.plot(\n    column=years[0],\n    cmap='OrRd',\n    edgecolor='black',\n    linewidth=0.5,\n    ax=ax,\n    legend=False\n)\n\ndef update(i):\n    ax.clear()\n    year = years[i]\n    data_China.plot(\n        column=year,\n        cmap='OrRd',\n        edgecolor='black',\n        linewidth=0.5,\n        ax=ax,\n        legend=False,\n        vmin=vmin,\n        vmax=vmax\n    )\n    ax.set_title(f'China Provinces GDP in {year}', fontsize=18)\n    ax.axis('off')\n\nanim = FuncAnimation(fig, update, frames=len(years), interval=1000, repeat=True)\n\nanim.save('china_gdp_animation.gif', writer='pillow')\n",
      "metadata": {
        "slideshow": {
          "slide_type": "subslide"
        },
        "trusted": true
      },
      "outputs": [],
      "execution_count": null
    }
  ]
}