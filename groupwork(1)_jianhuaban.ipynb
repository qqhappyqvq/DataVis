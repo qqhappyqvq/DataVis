{
  "metadata": {
    "kernelspec": {
      "name": "python",
      "display_name": "Python (Pyodide)",
      "language": "python"
    },
    "language_info": {
      "codemirror_mode": {
        "name": "ipython",
        "version": 3
      },
      "file_extension": ".py",
      "mimetype": "text/x-python",
      "name": "python",
      "nbconvert_exporter": "python",
      "pygments_lexer": "ipython3",
      "version": "3.12.7"
    }
  },
  "nbformat_minor": 5,
  "nbformat": 4,
  "cells": [
    {
      "id": "625f87a2-15bf-4621-8a16-26911f41c0cd",
      "cell_type": "code",
      "source": "import numpy as np\nimport pandas as pd\nimport seaborn as sns\nimport matplotlib.pyplot as plt\nimport plotly.express as px\n\n#加载数据集\ndata = pd.read_csv(\"shopping_trends.CSV\")\ndf = pd.DataFrame(data)\n\n#A.不同年龄男性的购物偏好有什么差异\ndef age_group(age):\n    return f\"{age // 10 * 10}-{age // 10 * 10 + 9}\"\n    \nmale_data = df[df['Gender'] == 'Male']\n\nmale_data['groups'] = male_data[\"Age\"].apply(age_group)\ncounts = male_data.groupby([\"groups\", \"Category\"])['Purchase Amount (USD)'].sum().reset_index()\n\nplt.figure(figsize=(16, 10))\nax = sns.barplot(x = counts[\"groups\"], y = counts[\"Purchase Amount (USD)\"], hue = \"Category\", data = counts)\nfor p in ax.patches:\n    height = p.get_height()\n    if height > 0:  \n        ax.text(\n            p.get_x() + p.get_width() / 2,  \n            height + 0.05,                 \n            str(height),\n            ha='center', va='bottom', fontsize=10\n        )\nplt.title(\"purchase amouts of different age and category\")\nplt.xlabel(\"age\")\nplt.ylabel(\"purchase amoount\")\nplt.legend()\nplt.tight_layout()\nplt.show()",
      "metadata": {
        "trusted": true
      },
      "outputs": [],
      "execution_count": null
    },
    {
      "id": "7f295e6c-c9f1-4986-9dae-4875bd4d6e91",
      "cell_type": "code",
      "source": "import numpy as np\nimport pandas as pd\nimport seaborn as sns\nimport matplotlib.pyplot as plt\nimport plotly.express as px\n\n#B.哪些品类和颜色在不同季节最受欢迎\ndata = pd.read_csv(\"shopping_trends.CSV\")\ndf = pd.DataFrame(data)\n\nseasons_data = df.groupby([\"Season\", \"Category\"])[\"Purchase Amount (USD)\"].sum().reset_index()\nfig = px.imshow(seasons_data.pivot(index = 'Season', columns = 'Category', values = 'Purchase Amount (USD)'), \n                text_auto = True,title = 'heatmap of purchase by season and category'\n               )\nfig.show()\n\n#雷达图\ncategory_data = df.groupby([\"Category\", \"Season\"])['Purchase Amount (USD)'].sum().reset_index()\n\n# 获取所有唯一的类别和季节\ncategories = df['Category'].unique()\nseasons = df['Season'].unique()\n\nradar_data = []\nfor category in categories:\n    category_season_data = category_data[category_data['Category'] == category]\n    category_season_data = category_season_data.sort_values('Season')\n    values = category_season_data['Purchase Amount (USD)'].values\n    if len(values) < len(seasons):\n        # 创建一个全0数组，然后填充已知值\n        full_values = np.zeros(len(seasons))\n        for i, season in enumerate(seasons):\n            season_data = category_season_data[category_season_data['Season'] == season]\n            if not season_data.empty:\n                full_values[i] = season_data['Purchase Amount (USD)'].values[0]\n        values = full_values\n    radar_data.append(values)\n\nangles = np.linspace(0, 2 * np.pi, len(seasons), endpoint=False).tolist()\nangles += angles[:1]\n\nfig, ax = plt.subplots(figsize=(8, 8), subplot_kw=dict(polar=True))\n\nfor i, category in enumerate(categories):\n    values = radar_data[i].tolist()\n    values += values[:1]  # 闭合\n    ax.plot(angles, values, linewidth=2, label=category)\n    ax.fill(angles, values, alpha=0.25)\n\nax.set_xticks(angles[:-1])\nax.set_xticklabels(seasons)\n\nax.set_rlabel_position(30)\nplt.yticks([radar_data[0].min(), radar_data[0].max()], [\"Low\", \"High\"], color=\"grey\", size=7)\nplt.ylim(0, max([max(data) for data in radar_data]) * 1.1)\n\nplt.title(\"Seasonal Purchase Amount by Category\", size=11, y=1.1)\nplt.legend(loc='upper right', bbox_to_anchor=(1.3, 1.1))\n\nplt.show()",
      "metadata": {
        "trusted": true
      },
      "outputs": [],
      "execution_count": null
    },
    {
      "id": "1ea91b3a-49c9-4883-9675-78e4b883eddb",
      "cell_type": "code",
      "source": "import numpy as np\nimport pandas as pd\nimport seaborn as sns\nimport matplotlib.pyplot as plt\nimport plotly.express as px\nimport plotly.graph_objects as go\n\n#D支付方式与用户粘性\ndata = pd.read_csv('shopping_trends.CSV')\ndf = pd.DataFrame(data)\n\npayment_data = df.groupby('Payment Method')['Purchase Amount (USD)'].sum().reset_index()\npayment_method = payment_data['Payment Method']\npayment_amount = payment_data['Purchase Amount (USD)']\n\n\nfig = go.Figure(data = [go.Pie(\n    labels = payment_method,\n    values = payment_amount,\n    textinfo = 'percent',\n    insidetextorientation = 'radial',\n    marker = dict(colors = px.colors.qualitative.Pastel, line=dict(color = '#000000', width = 2)),\n    hoverinfo = 'label+percent+value'\n)])\n \n# 更新布局\nfig.update_layout(\n    title = 'distribution of purchase amount by payment method',\n    titlefont = dict(size=16),\n    showlegend = True,\n    height = 600,\n    width = 800,\n    annotations = [\n        dict(\n            text = method,\n            x = 0.5 + 0.57 * np.cos(np.deg2rad(angle)),\n            y = 0.5 + 0.57 * np.sin(np.deg2rad(angle)),\n            showarrow = False,\n            font = dict(size = 12)\n        )\n        for angle, method in zip(\n            np.linspace(0, 360, len(payment_method), endpoint = False),\n            payment_method\n        )\n    ]\n)\n\nfig.show()\n\nstatus = df.groupby(['Subscription Status', 'Category'])['Purchase Amount (USD)'].sum().reset_index()\n\ncategories = sorted(df['Category'].unique())\n \ny1 = [0] * len(categories)\ny2 = [0] * len(categories)\ny3 = [0] * len(categories)\n\nfor idx, category in enumerate(categories):\n    category_data = status[status['Category'] == category]\n    y1[idx] = category_data[category_data['Subscription Status'] == 'Yes']['Purchase Amount (USD)'].sum()\n    y2[idx] = category_data[category_data['Subscription Status'] == 'No']['Purchase Amount (USD)'].sum()\n    y3[idx] = y1[idx] - y2[idx]\n\nfig, ax2 = plt.subplots(figsize=(12, 6))\n\nax2.plot(categories, y1, label = 'Subscription Status of yes', marker = 'o')\nax2.plot(categories, y2, label = 'Subscription Status of no', marker = 'o')\nax2.plot(categories, y3, label = 'difference', marker = 'o')\nax2.legend()\nax2.set_xlabel(\"category\")\nax2.set_ylabel(\"purchase amount\")\n\nplt.tight_layout()\nplt.show()",
      "metadata": {
        "trusted": true
      },
      "outputs": [],
      "execution_count": null
    },
    {
      "id": "46180202-4388-43ef-b992-e66617eee7be",
      "cell_type": "code",
      "source": "import numpy as np\nimport pandas as pd\nimport seaborn as sns\nimport matplotlib.pyplot as plt\nimport plotly.express as px\n\ndata1 = pd.read_csv(\"shopping_trends.CSV\")\ndf = pd.DataFrame(data1)\n\ndata = df.groupby(['Location', 'Category'])['Purchase Amount (USD)'].sum().reset_index()\n\nfig = px.scatter(\n    data,\n    x = 'Category',\n    y = 'Location',\n    size = 'Purchase Amount (USD)',\n    color = 'Purchase Amount (USD)',\n    hover_data = ['Purchase Amount (USD)'],\n    title = 'Bubble Chart of Category and Location',\n    labels = {'Purchase Amount (USD)': 'Purchase Amount (USD)'},\n    size_max = 30  # 调整气泡的最大大小\n)\n\nfig.update_layout(\n    title_font = dict(size = 20),\n    xaxis = dict(tickfont = dict(size = 15)),\n    yaxis = dict(tickfont = dict(size = 15)),\n    legend = dict(\n        orientation = 'h',\n        y = 1.1,\n        x = 0.5,\n        xanchor = 'center',\n        font = dict(size = 20)\n    ),\n    height = 1800,\n    width = 800\n)\n\nfig.show()",
      "metadata": {
        "trusted": true
      },
      "outputs": [],
      "execution_count": null
    },
    {
      "id": "0eeace8b-4778-4e2d-a1ba-bdbe0d4e85a2",
      "cell_type": "code",
      "source": "import numpy as np\nimport pandas as pd\nimport seaborn as sns\nimport matplotlib.pyplot as plt\nimport plotly.express as px\n\n#C地理分布与消费力\ndata1 = pd.read_csv(\"shopping_trends.CSV\")\ndf = pd.DataFrame(data1)\n\ndata = df.groupby(['Location', 'Category'])['Purchase Amount (USD)'].sum().reset_index()\nlocation = df['Location']\ncategory = df['Category']\namount = df['Purchase Amount (USD)']\n\nfig = px.imshow(\n    data.pivot(columns = 'Category', index = 'Location',values = 'Purchase Amount (USD)'),\n    text_auto = True, title = 'heatmap of category and location', width = 800, height = 2000\n)\n\nfig.update_layout(\n    xaxis=dict(\n        tickfont=dict(size=15)\n    ),\n    yaxis=dict(\n        tickfont=dict(size=15) \n    )\n)\nfig.show()",
      "metadata": {
        "trusted": true
      },
      "outputs": [],
      "execution_count": null
    },
    {
      "id": "c5ee09ba-695f-4474-aabd-ab52b1f5a0fd",
      "cell_type": "code",
      "source": "import pandas as pd\nimport plotly.graph_objects as go\n\n#E 颜色与品类相关性\ndata = pd.read_csv('shopping_trends.CSV')\n\nflow_data = data.groupby(['Color', 'Category'])['Purchase Amount (USD)'].sum().reset_index()\n\ncolors = sorted(flow_data['Color'].unique())\ncategories = sorted(flow_data['Category'].unique())\n\nnodes = colors + categories\n\ncolor_indices = {color: idx for idx, color in enumerate(colors)}\ncategory_indices = {category: idx + len(colors) for idx, category in enumerate(categories)}\n\nsources = []\ntargets = []\nvalues = []\n\nfor _, row in flow_data.iterrows():\n    source_idx = color_indices[row['Color']]\n    target_idx = category_indices[row['Category']]\n    sources.append(source_idx)\n    targets.append(target_idx)\n    values.append(row['Purchase Amount (USD)'])\n\nfig = go.Figure(go.Sankey(\n    node=dict(\n        pad=15,\n        thickness=20,\n        line=dict(color=\"black\", width=0.5),\n        label=nodes\n    ),\n    link=dict(\n        source=sources,\n        target=targets,\n        value=values\n    )\n))\n\nfig.update_layout(title_text=\"Flow of Colors to Categories\", font_size=10,width = 1100, height = 800)\nfig.show()",
      "metadata": {
        "trusted": true
      },
      "outputs": [],
      "execution_count": null
    },
    {
      "id": "40f3f493-46d9-4f40-8fc9-b350016e1c63",
      "cell_type": "code",
      "source": "",
      "metadata": {
        "trusted": true
      },
      "outputs": [],
      "execution_count": null
    }
  ]
}