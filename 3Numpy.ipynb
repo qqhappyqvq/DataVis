{
  "metadata": {
    "kernelspec": {
      "name": "python",
      "display_name": "Python (Pyodide)",
      "language": "python"
    },
    "language_info": {
      "codemirror_mode": {
        "name": "ipython",
        "version": 3
      },
      "file_extension": ".py",
      "mimetype": "text/x-python",
      "name": "python",
      "nbconvert_exporter": "python",
      "pygments_lexer": "ipython3",
      "version": "3.9.21"
    }
  },
  "nbformat_minor": 4,
  "nbformat": 4,
  "cells": [
    {
      "cell_type": "markdown",
      "source": "## Numpy\n\nNumPy (short for Numerical Python) provides an efficient interface to store and operate on dense data buffers. In some ways, NumPy arrays are like Python’s built-in list type, but NumPy arrays provide much more efficient storage and data operations as the arrays grow larger in size.",
      "metadata": {}
    },
    {
      "cell_type": "markdown",
      "source": "!conda/pip install numpy\n\nimport numpy as np",
      "metadata": {}
    },
    {
      "cell_type": "markdown",
      "source": "Numpy is the most basic and a powerful package for working with data in python. If you are going to work on data analysis or machine learning projects, then having a solid understanding of numpy is nearly mandatory.\n\nBecause other packages for data analysis (like pandas) is built on top of numpy and the scikit-learn package which is used to build machine learning applications works heavily with numpy as well.\n",
      "metadata": {}
    },
    {
      "cell_type": "markdown",
      "source": "So what does numpy provide? At the core, numpy provides the excellent ndarray objects, short for n-dimensional arrays.\n\nIn a ‘ndarray’ object, aka ‘array’, you can store multiple items of the same data type. It is the facilities around the array object that makes numpy so convenient for performing math and data manipulations.\n",
      "metadata": {}
    },
    {
      "cell_type": "markdown",
      "source": "### ndarray object \nAt the core of the NumPy package, is the ndarray object. This encapsulates n-dimensional arrays of **homogeneous** data types, with many operations being performed in compiled code for performance. ",
      "metadata": {}
    },
    {
      "cell_type": "markdown",
      "source": "### Create ndarray from scratch\n* np.zeros(shape), np.zeros_like(array)\n* np.ones(shape), np.ones_like(array)\n* np.full(shape,value)\n* np.arange(begin,end,sep)\n* np.linespace(begin,end,length)\n* np.random  (generate random samples)\n* np.eye\n* np.empty",
      "metadata": {}
    },
    {
      "cell_type": "code",
      "source": "a = np.zeros(5)      #Create an array of zeros\nprint(a)\na = np.ones(shape= (2,2))      #Create an array of ones\nprint(a)",
      "metadata": {
        "trusted": true
      },
      "outputs": [],
      "execution_count": null
    },
    {
      "cell_type": "code",
      "source": "b = np.zeros_like(a)\nprint(b)",
      "metadata": {
        "trusted": true
      },
      "outputs": [],
      "execution_count": null
    },
    {
      "cell_type": "code",
      "source": "b = np.ones((2,3,4),dtype=np.int16)      #Create an array of ones\nprint(b)",
      "metadata": {
        "trusted": true
      },
      "outputs": [],
      "execution_count": null
    },
    {
      "cell_type": "code",
      "source": "c = np.arange(10,30,5)  #Create an array of evenly spaced values (step value)\nprint(c)\n\nc.shape",
      "metadata": {
        "trusted": true
      },
      "outputs": [],
      "execution_count": null
    },
    {
      "cell_type": "code",
      "source": "c = np.arange(1,3,0.2)  #Create an array of evenly spaced values (step value)\nprint(c)\nd = np.linspace(1,3,11) #Create an array of evenly spaced values (number of samples)\nprint(d)",
      "metadata": {
        "trusted": true
      },
      "outputs": [],
      "execution_count": null
    },
    {
      "cell_type": "code",
      "source": "e = np.full((2,3),9)      #Create a constant array\nprint(e)",
      "metadata": {
        "trusted": true
      },
      "outputs": [],
      "execution_count": null
    },
    {
      "cell_type": "code",
      "source": "f = np.eye(5,dtype=int)             #Create a 5X5 identity matrix\nprint(f)\n0.5*np.eye(5,dtype=int)+(1-0.5)*np.ones((5,5))",
      "metadata": {
        "trusted": true
      },
      "outputs": [],
      "execution_count": null
    },
    {
      "cell_type": "code",
      "source": "### Create an array with random uniform(0,1)\ng = np.random.random((2,2))    \nprint(g)\n###Create an array with random uniform(10,20)\ng = np.random.uniform(low = 10,high = 20,size = (2,3))\nprint(g)",
      "metadata": {
        "trusted": true
      },
      "outputs": [],
      "execution_count": null
    },
    {
      "cell_type": "code",
      "source": "### Create an array with random normal N(mu,sigma^2)\ng = np.random.normal(loc = 1, scale = 1,size = (2,2))      \nprint(g)",
      "metadata": {
        "trusted": true
      },
      "outputs": [],
      "execution_count": null
    },
    {
      "cell_type": "code",
      "source": "### Create an array with random integers from 1-9\nnp.random.randint(low = 1,high = 10,size = (1,5))",
      "metadata": {
        "trusted": true
      },
      "outputs": [],
      "execution_count": null
    },
    {
      "cell_type": "code",
      "source": "### Random Sampling\nnp.random.choice(a = (1,2,3,4,5,6), size = (3,7), replace =True, p = [1/2,0,0,1/6,1/6,1/6])\n\n# if a is an integer, it means np.arange(a)",
      "metadata": {
        "trusted": true
      },
      "outputs": [],
      "execution_count": null
    },
    {
      "cell_type": "code",
      "source": "a = np.array([1,2,3])\nb = np.array([(1.5,2,3), (4,5,6)], dtype = float)\nc = np.array([[(1.5,2,3), (4,5,6)], [(3,2,1), (4,5,6)]], dtype = float)\n",
      "metadata": {
        "trusted": true
      },
      "outputs": [],
      "execution_count": null
    },
    {
      "cell_type": "markdown",
      "source": "Difference between ndarray and list with numerical items\n- list can handle multiple datatype while ndarray have all items to be of the same data type\n- The key difference between an array and a list is, arrays are designed to handle vectorized operations while a python list is not. That means, if you apply a function it is performed on every item in the array, rather than on the whole array object.\n\nlist to array: np.array(list)\n\narray to list: array.tolist()",
      "metadata": {}
    },
    {
      "cell_type": "markdown",
      "source": "How to represent missing values and infinite?\n\nusing np.nan and np.inf\n\nyou can use isnan and isinf to check whether there are nan or inf",
      "metadata": {}
    },
    {
      "cell_type": "code",
      "source": "x = np.array([[1,np.nan],[np.inf,2]])",
      "metadata": {
        "trusted": true
      },
      "outputs": [],
      "execution_count": null
    },
    {
      "cell_type": "code",
      "source": "np.isnan(x)",
      "metadata": {
        "trusted": true
      },
      "outputs": [],
      "execution_count": null
    },
    {
      "cell_type": "code",
      "source": "np.isinf(x)",
      "metadata": {
        "trusted": true
      },
      "outputs": [],
      "execution_count": null
    },
    {
      "cell_type": "markdown",
      "source": "## Attribute of ndarray\narray.ndim, array.shape, array.size, array.dtype,array.itemsize,array.nbytes ",
      "metadata": {}
    },
    {
      "cell_type": "code",
      "source": "np.random.seed(0)\na = np.random.random((10,5,5))\nprint(\"a ndim: \", a.ndim)\nprint(\"a shape:\", a.shape)\nprint(\"a size: \", a.size)",
      "metadata": {
        "trusted": true
      },
      "outputs": [],
      "execution_count": null
    },
    {
      "cell_type": "code",
      "source": "print(\"a dtype:\", a.dtype)\nprint(\"a itemsize:\", a.itemsize, \"bytes\")\nprint(\"a nbytes:\", a.nbytes, \"bytes\")",
      "metadata": {
        "trusted": true
      },
      "outputs": [],
      "execution_count": null
    },
    {
      "cell_type": "markdown",
      "source": "#### Datatype of ndarray\ncommon types: int8,int16,float16,float64,complex16,<U**,object",
      "metadata": {}
    },
    {
      "cell_type": "code",
      "source": "### you can specify the datatype when you create a array:\na = np.array([[1,2],[3,4]],dtype ='float')\na",
      "metadata": {
        "trusted": true
      },
      "outputs": [],
      "execution_count": null
    },
    {
      "cell_type": "code",
      "source": "a = np.array([[1,2],['a','b']])\na",
      "metadata": {
        "trusted": true
      },
      "outputs": [],
      "execution_count": null
    },
    {
      "cell_type": "markdown",
      "source": "**note**: If you are uncertain about what datatype your array will hold or if you want to hold characters and numbers in the same array, you can set the dtype as 'object'.\n",
      "metadata": {}
    },
    {
      "cell_type": "markdown",
      "source": "## Method of ndarray\nslides, reshape",
      "metadata": {}
    },
    {
      "cell_type": "markdown",
      "source": "access and modify by slides",
      "metadata": {}
    },
    {
      "cell_type": "code",
      "source": "a = np.array([[1,2,3],[4,5,6],[7,8,9]])",
      "metadata": {
        "trusted": true
      },
      "outputs": [],
      "execution_count": null
    },
    {
      "cell_type": "code",
      "source": "a_list = [[1,2,3],[4,5,6],[7,8,9]]\na_list[1,1]",
      "metadata": {
        "trusted": true
      },
      "outputs": [],
      "execution_count": null
    },
    {
      "cell_type": "code",
      "source": "### access item with index\nprint(a[0])\nprint(a[0][1])\nprint(a[1,1])",
      "metadata": {
        "trusted": true
      },
      "outputs": [],
      "execution_count": null
    },
    {
      "cell_type": "code",
      "source": "### access subarray using slides a[begin_index:end_index:sep]\nprint(a[0::2])\nprint(a[1:,1:])",
      "metadata": {
        "trusted": true
      },
      "outputs": [],
      "execution_count": null
    },
    {
      "cell_type": "markdown",
      "source": "The dots (...) represent as many colons as needed to produce a complete indexing tuple. For example, if x is an array with 5 axes, then\n\n- x[1, 2, ...] is equivalent to x[1, 2, :, :, :],\n- x[..., 3] to x[:, :, :, :, 3] and\n- x[4, ..., 5, :] to x[4, :, :, 5, :].",
      "metadata": {}
    },
    {
      "cell_type": "code",
      "source": "a = np.arange(1000).reshape(10,10,10)\na[1,...]",
      "metadata": {
        "trusted": true
      },
      "outputs": [],
      "execution_count": null
    },
    {
      "cell_type": "code",
      "source": "### use filter: output is an one-dimensional array\na\na[a>3]",
      "metadata": {
        "trusted": true
      },
      "outputs": [],
      "execution_count": null
    },
    {
      "cell_type": "markdown",
      "source": "*Fancy Indexing*\n\nwe can pass arrays of indices in place of single scalars.",
      "metadata": {}
    },
    {
      "cell_type": "code",
      "source": "a = np.arange(1,10)\nindex = np.array([[2,1],[0,1]])\na[index]",
      "metadata": {
        "trusted": true
      },
      "outputs": [],
      "execution_count": null
    },
    {
      "cell_type": "code",
      "source": "a = np.arange(1,10).reshape(3,3)\na[index]",
      "metadata": {
        "trusted": true
      },
      "outputs": [],
      "execution_count": null
    },
    {
      "cell_type": "code",
      "source": "print(a)\nrow = [2,1]\ncol = [0,1]\na[row,col]",
      "metadata": {
        "trusted": true
      },
      "outputs": [],
      "execution_count": null
    },
    {
      "cell_type": "code",
      "source": "## change values\na[:,1] = np.array([1,2,3])\n### this is called broadcasting and we will introduce it later",
      "metadata": {
        "trusted": true
      },
      "outputs": [],
      "execution_count": null
    },
    {
      "cell_type": "code",
      "source": "a[:,2] = ['a','b','c']\n",
      "metadata": {
        "trusted": true
      },
      "outputs": [],
      "execution_count": null
    },
    {
      "cell_type": "code",
      "source": "dt = np.dtype(np.int32)\nprint(dt)\nb = a.astype('<U32')",
      "metadata": {
        "trusted": true
      },
      "outputs": [],
      "execution_count": null
    },
    {
      "cell_type": "code",
      "source": "b[:,1]=['a','b','c']\nb",
      "metadata": {
        "trusted": true
      },
      "outputs": [],
      "execution_count": null
    },
    {
      "cell_type": "markdown",
      "source": "### reshape()",
      "metadata": {}
    },
    {
      "cell_type": "markdown",
      "source": "a.reshape(-1,3)",
      "metadata": {}
    },
    {
      "cell_type": "code",
      "source": "a.flatten()",
      "metadata": {
        "trusted": true
      },
      "outputs": [],
      "execution_count": null
    },
    {
      "cell_type": "code",
      "source": "a.ravel()",
      "metadata": {
        "trusted": true
      },
      "outputs": [],
      "execution_count": null
    },
    {
      "cell_type": "code",
      "source": "b = a.flatten()\nb[np.newaxis,:]\nb.reshape(1,-1)",
      "metadata": {
        "trusted": true
      },
      "outputs": [],
      "execution_count": null
    },
    {
      "cell_type": "markdown",
      "source": "### Array Concatenation and Splitting",
      "metadata": {}
    },
    {
      "cell_type": "markdown",
      "source": "Concatenation: np.concatenate",
      "metadata": {}
    },
    {
      "cell_type": "code",
      "source": "a = np.array([[1,2],[3,4]])\nb = np.array([[5,7],[9,11]])\nc = np.concatenate([a,b],1)\nprint(c)",
      "metadata": {
        "trusted": true
      },
      "outputs": [],
      "execution_count": null
    },
    {
      "cell_type": "code",
      "source": "np.hstack([a,b])",
      "metadata": {
        "trusted": true
      },
      "outputs": [],
      "execution_count": null
    },
    {
      "cell_type": "code",
      "source": "np.vstack([a,b])",
      "metadata": {
        "trusted": true
      },
      "outputs": [],
      "execution_count": null
    },
    {
      "cell_type": "code",
      "source": "a = np.array([\n[[1,2],[3,4]],\n[[5,6],[7,8]],\n[[9,10],[11,12]],\n])\nb = np.array([\n[[1,1],[1,1]],\n[[1,1],[1,1]],\n[[1,1],[1,1]],\n])",
      "metadata": {
        "trusted": true
      },
      "outputs": [],
      "execution_count": null
    },
    {
      "cell_type": "code",
      "source": "np.hstack([a,b])\n",
      "metadata": {
        "trusted": true
      },
      "outputs": [],
      "execution_count": null
    },
    {
      "cell_type": "code",
      "source": "import numpy as np",
      "metadata": {
        "trusted": true
      },
      "outputs": [],
      "execution_count": null
    },
    {
      "cell_type": "markdown",
      "source": "#### The opposite of concatenation is splitting, which is implemented by the functions\nnp.split, np.hsplit, and np.vsplit.",
      "metadata": {}
    },
    {
      "cell_type": "code",
      "source": "x = [1, 2, 3, 99, 99, 3, 2, 1]\nx1, x2, x3 = np.split(x, [3, 5])\nprint(x1, x2, x3)",
      "metadata": {
        "trusted": true
      },
      "outputs": [],
      "execution_count": null
    },
    {
      "cell_type": "code",
      "source": "a = np.floor(10*np.random.random((3, 10)))\nprint(a)",
      "metadata": {
        "trusted": true
      },
      "outputs": [],
      "execution_count": null
    },
    {
      "cell_type": "code",
      "source": "np.vsplit(a,[1,3])",
      "metadata": {
        "trusted": true
      },
      "outputs": [],
      "execution_count": null
    },
    {
      "cell_type": "code",
      "source": "upper, lower = np.vsplit(a, [2])\nprint(upper)\nprint(lower)",
      "metadata": {
        "trusted": true
      },
      "outputs": [],
      "execution_count": null
    },
    {
      "cell_type": "code",
      "source": "left, right = np.hsplit(a, [7])\nprint(left)\nprint(right)",
      "metadata": {
        "trusted": true
      },
      "outputs": [],
      "execution_count": null
    },
    {
      "cell_type": "markdown",
      "source": "### Computation on NumPy Arrays: Universal Functions\n\nIn python, when you perform an *UFuncs* on the array, it will be applied to each element. This *vectorized* approach is designed to push the\nloop into the compiled layer that underlies NumPy, leading to much faster execution.",
      "metadata": {}
    },
    {
      "cell_type": "code",
      "source": "def compute_reciprocals(values):\n    output = np.empty(len(values))\n    for i in range(len(values)):\n        output[i] = 1.0 / values[i]\n    return output",
      "metadata": {
        "trusted": true
      },
      "outputs": [],
      "execution_count": null
    },
    {
      "cell_type": "code",
      "source": "import time",
      "metadata": {
        "trusted": true
      },
      "outputs": [],
      "execution_count": null
    },
    {
      "cell_type": "code",
      "source": "time_start = time.time()\nfor iter in range(5):\n    big_array = np.random.randint(1, 100, size=1000000)\n    compute_reciprocals(big_array)\ntime_end = time.time()\nprint(f'average time is {(time_end-time_start)/5:.2f}s')",
      "metadata": {
        "trusted": true
      },
      "outputs": [],
      "execution_count": null
    },
    {
      "cell_type": "code",
      "source": "time_start = time.time()\nfor iter in range(5):\n    big_array = np.random.randint(1, 100, size=1000000)\n    1.0/big_array\ntime_end = time.time()\nprint(f'average time is {(time_end-time_start)/5:.2f}s')",
      "metadata": {
        "trusted": true
      },
      "outputs": [],
      "execution_count": null
    },
    {
      "cell_type": "markdown",
      "source": "### Basic NumPy’s UFuncs\nUfuncs exist in two flavors: unary ufuncs, which operate on a single input, and binary\nufuncs, which operate on two inputs.\n- Array arithmetic\n- Absolute value (np.absolute, np.abs, just same as build in function abs)\n- Trigonometric functions\n- Exponents and logarithms",
      "metadata": {}
    },
    {
      "cell_type": "markdown",
      "source": "#### Array arithmetic\n",
      "metadata": {}
    },
    {
      "cell_type": "code",
      "source": "x = np.arange(4)\nprint(\"x =\", x)\nprint(\"x + 3 =\", x + 3)\nprint(\"x - 3 =\", x - 3)\nprint(\"x * 2 =\", x * 2)\nprint(\"x / 2 =\", x / 2)\nprint(\"x // 2 =\", x // 2) \nprint(\"-x = \", -x)\nprint(\"x ** 2 = \", x ** 2)\nprint(\"x % 2 = \", x % 2)",
      "metadata": {
        "trusted": true
      },
      "outputs": [],
      "execution_count": null
    },
    {
      "cell_type": "code",
      "source": "print(\"x =\", x)\nprint(\"x + 3 =\", np.add(x, 3))\nprint(\"x - 3 =\", np.subtract(x, 3))\nprint(\"x * 2 =\", np.multiply(x, 2))\nprint(\"x / 2 =\", np.divide(x, 2))\nprint(\"x // 2 =\", np.floor_divide(x, 2))\nprint(\"x ** 2 = \", np.power(x, 2))\nprint(\"x % 2 = \", np.mod(x, 2))",
      "metadata": {
        "trusted": true
      },
      "outputs": [],
      "execution_count": null
    },
    {
      "cell_type": "markdown",
      "source": "#### absolute values\n**note** for complex values, it will calculate the norm: np.abs(a+bi)=np.sqrt(a**2 + b**2)",
      "metadata": {}
    },
    {
      "cell_type": "code",
      "source": "x = np.array([3 - 4j, 4 - 3j, 2 + 0j, 0 + 1j])\nnp.abs(x)",
      "metadata": {
        "trusted": true
      },
      "outputs": [],
      "execution_count": null
    },
    {
      "cell_type": "markdown",
      "source": "#### Trigonometric functions\n- sin, cos, tan\n- arcsin, arccos, arctan",
      "metadata": {}
    },
    {
      "cell_type": "code",
      "source": "theta = np.linspace(0, np.pi, 3)",
      "metadata": {
        "trusted": true
      },
      "outputs": [],
      "execution_count": null
    },
    {
      "cell_type": "code",
      "source": "print(\"theta = \", theta)\nprint(f\"sin(theta) = \", np.sin(theta))\nprint(f\"cos(theta) = \", np.cos(theta))\nprint(f\"tan(theta) = \", np.tan(theta))",
      "metadata": {
        "trusted": true
      },
      "outputs": [],
      "execution_count": null
    },
    {
      "cell_type": "code",
      "source": "x = [-1, 0, 1]\nprint(\"x = \", x)\nprint(\"arcsin(x) = \", np.arcsin(x))\nprint(\"arccos(x) = \", np.arccos(x))\nprint(\"arctan(x) = \", np.arctan(x))\n",
      "metadata": {
        "trusted": true
      },
      "outputs": [],
      "execution_count": null
    },
    {
      "cell_type": "markdown",
      "source": "#### Exponents and logarithms\n- exp, exp2, power\n- ln, log2, log10 ",
      "metadata": {}
    },
    {
      "cell_type": "code",
      "source": "x = np.linspace(1,5,5)\nprint(\"x =\", x)\nprint(\"e^x =\", np.exp(x))\nprint(\"2^x =\", np.exp2(x))\nprint(\"3^x =\", np.power(3, x))",
      "metadata": {
        "trusted": true
      },
      "outputs": [],
      "execution_count": null
    },
    {
      "cell_type": "code",
      "source": "print(\"x =\", x)\nprint(\"ln(x) =\", np.log(x))\nprint(\"log2(x) =\", np.log2(x))\nprint(\"log10(x) =\", np.log10(x))",
      "metadata": {
        "trusted": true
      },
      "outputs": [],
      "execution_count": null
    },
    {
      "cell_type": "markdown",
      "source": "### Specialized ufuncs\n- hyperbolic trig functions: sinh, cosh, tanh, coth, sech, csch\n- bitwise arithmetic: bitwise_and (&), bitwise_or (|), bitwise_xor (^), invert (~), left_shift (<<), right_shift (>>)\n- comparison operators: ==, >=, <=, !=, >, <\n- conversions from radians to degrees\n- rounding",
      "metadata": {}
    },
    {
      "cell_type": "code",
      "source": "### hyperbolic trig functions\nx = np.linspace(1,5,5)\nprint(\"sinh(x) =\", np.sinh(x))\nprint(\"cosh(x) =\", np.cosh(x))\nprint(\"tanh(x) =\", np.tanh(x))\n\n",
      "metadata": {
        "trusted": true
      },
      "outputs": [],
      "execution_count": null
    },
    {
      "cell_type": "code",
      "source": "### bitwise arithmetic\nx = np.arange(1,6)",
      "metadata": {
        "trusted": true
      },
      "outputs": [],
      "execution_count": null
    },
    {
      "cell_type": "code",
      "source": "~x ",
      "metadata": {
        "trusted": true
      },
      "outputs": [],
      "execution_count": null
    },
    {
      "cell_type": "code",
      "source": "### comparison operators\nx >1",
      "metadata": {
        "trusted": true
      },
      "outputs": [],
      "execution_count": null
    },
    {
      "cell_type": "code",
      "source": "x = np.array([30,60,90])\nnp.deg2rad(x)/np.pi",
      "metadata": {
        "trusted": true
      },
      "outputs": [],
      "execution_count": null
    },
    {
      "cell_type": "code",
      "source": "x = np.random.random((3,2))\nprint(\"x = \", x)\nprint(\"round(x) =\" , np.round(x))",
      "metadata": {
        "trusted": true
      },
      "outputs": [],
      "execution_count": null
    },
    {
      "cell_type": "markdown",
      "source": "### Another excellent source for more specialized and obscure ufuncs is the submodule scipy.special.\n- gamma\n- beta\n- erf (integration of gaussian)",
      "metadata": {}
    },
    {
      "cell_type": "code",
      "source": "from scipy import special",
      "metadata": {
        "trusted": true
      },
      "outputs": [],
      "execution_count": null
    },
    {
      "cell_type": "markdown",
      "source": "### Advanced UFuncs\n- Specifying output\n- Aggregates: reduce and accumulate\n",
      "metadata": {}
    },
    {
      "cell_type": "code",
      "source": "x = np.arange(5)\ny = np.empty(5)\nnp.multiply(x, 10, out=y)\nprint(y)",
      "metadata": {
        "trusted": true
      },
      "outputs": [],
      "execution_count": null
    },
    {
      "cell_type": "code",
      "source": "x = np.arange(1, 6)\nnp.multiply.reduce(x)",
      "metadata": {
        "trusted": true
      },
      "outputs": [],
      "execution_count": null
    },
    {
      "cell_type": "code",
      "source": "np.multiply.accumulate(x)",
      "metadata": {
        "trusted": true
      },
      "outputs": [],
      "execution_count": null
    },
    {
      "cell_type": "markdown",
      "source": "###  Summary statistics: Min, Max, and Everything in Between\nsum, mean, median, max, min, quantile\n\n**note**: you can specify the dimension of these operators",
      "metadata": {}
    },
    {
      "cell_type": "code",
      "source": "x = np.arange(12).reshape(3,4)\nx",
      "metadata": {
        "trusted": true
      },
      "outputs": [],
      "execution_count": null
    },
    {
      "cell_type": "code",
      "source": "print(x.sum())\nprint(np.sum(x))\n",
      "metadata": {
        "trusted": true
      },
      "outputs": [],
      "execution_count": null
    },
    {
      "cell_type": "code",
      "source": "print(x.sum(1))\nprint(np.sum(x,1))",
      "metadata": {
        "trusted": true
      },
      "outputs": [],
      "execution_count": null
    },
    {
      "cell_type": "code",
      "source": "print(x.argmax(1))\nprint(np.argmax(x,1))",
      "metadata": {
        "trusted": true
      },
      "outputs": [],
      "execution_count": null
    },
    {
      "cell_type": "markdown",
      "source": "### Sorting, searching, and counting: \nsort(), argsort(), argmin(), argmax(), where()",
      "metadata": {}
    },
    {
      "cell_type": "code",
      "source": "x=np.array([3,5,6,2,3,1,1])\nnp.take(x,[1,3,4])",
      "metadata": {
        "trusted": true
      },
      "outputs": [],
      "execution_count": null
    },
    {
      "cell_type": "code",
      "source": "print(np.sort(x))\nprint(np.argsort(x))",
      "metadata": {
        "trusted": true
      },
      "outputs": [],
      "execution_count": null
    },
    {
      "cell_type": "code",
      "source": "print(np.min(x))\nprint(np.argmin(x))",
      "metadata": {
        "trusted": true
      },
      "outputs": [],
      "execution_count": null
    },
    {
      "cell_type": "code",
      "source": "print(np.max(x))\nprint(np.argmax(x))",
      "metadata": {
        "trusted": true
      },
      "outputs": [],
      "execution_count": null
    },
    {
      "cell_type": "code",
      "source": "x==np.min(x)",
      "metadata": {
        "trusted": true
      },
      "outputs": [],
      "execution_count": null
    },
    {
      "cell_type": "code",
      "source": "print(np.where(x==np.min(x)))",
      "metadata": {
        "trusted": true
      },
      "outputs": [],
      "execution_count": null
    },
    {
      "cell_type": "markdown",
      "source": "Iterating over multidimensional arrays is done with respect to the first axis.",
      "metadata": {}
    },
    {
      "cell_type": "code",
      "source": "x = np.array([[1,2,3],[4,5,6]])\n",
      "metadata": {
        "trusted": true
      },
      "outputs": [],
      "execution_count": null
    },
    {
      "cell_type": "code",
      "source": "i = 0\nfor item in x:\n    print(item)\n    i += 1",
      "metadata": {
        "trusted": true
      },
      "outputs": [],
      "execution_count": null
    },
    {
      "cell_type": "markdown",
      "source": "## broadcast rules\n\n- Rule 1: If two arrays have different numbers of dimensions, the shape of the smaller-dimensional array will be padded with 1s on the leftmost side.\n- Rule 2: If the shapes of two arrays do not match in any dimension, the shape of the array will be expanded along the dimension with size 1 to match the shape of the other array.\n- Rule 3: If the shapes of two arrays do not match in any dimension and none of the dimensions are equal to 1, an exception will be raised.\n",
      "metadata": {}
    },
    {
      "cell_type": "code",
      "source": "a = np.array([[1,2,3],[4,5,6]])\na",
      "metadata": {
        "trusted": true
      },
      "outputs": [],
      "execution_count": null
    },
    {
      "cell_type": "code",
      "source": "",
      "metadata": {
        "trusted": true
      },
      "outputs": [],
      "execution_count": null
    },
    {
      "cell_type": "markdown",
      "source": "### Copies and Views\nWhen operating and manipulating arrays, their data is sometimes copied into a new array and sometimes not. This will cause confusion.",
      "metadata": {}
    },
    {
      "cell_type": "code",
      "source": "a = np.array([[ 0,  1,  2,  3],\n              [ 4,  5,  6,  7],\n              [ 8,  9, 10, 11]])\nb = a  #no new object is created\nprint(id(a),id(b))",
      "metadata": {
        "trusted": true
      },
      "outputs": [],
      "execution_count": null
    },
    {
      "cell_type": "code",
      "source": "b[1,1] = 1000\nprint(a)",
      "metadata": {
        "trusted": true
      },
      "outputs": [],
      "execution_count": null
    },
    {
      "cell_type": "markdown",
      "source": "Different array objects can share the same data. The \"view\" method creates a new array object that looks at the same data.",
      "metadata": {}
    },
    {
      "cell_type": "code",
      "source": "x = a.view()\nprint(x.base is a)\nprint(x)\nprint(id(a),id(b),id(x))",
      "metadata": {
        "trusted": true
      },
      "outputs": [],
      "execution_count": null
    },
    {
      "cell_type": "code",
      "source": "x[2,2] = 199999 # a's data changes\nprint(a)",
      "metadata": {
        "trusted": true
      },
      "outputs": [],
      "execution_count": null
    },
    {
      "cell_type": "code",
      "source": "x = x.reshape((2, 6))  # a's shape doesn't change\nprint(x)\nprint(a)",
      "metadata": {
        "trusted": true
      },
      "outputs": [],
      "execution_count": null
    },
    {
      "cell_type": "code",
      "source": "",
      "metadata": {
        "trusted": true
      },
      "outputs": [],
      "execution_count": null
    },
    {
      "cell_type": "markdown",
      "source": "or The \"copy\" method makes a complete copy of the array and its data.",
      "metadata": {}
    },
    {
      "cell_type": "code",
      "source": "d = a.copy()  # a new array object with new data is created\nd=np.array(a)",
      "metadata": {
        "trusted": true
      },
      "outputs": [],
      "execution_count": null
    },
    {
      "cell_type": "code",
      "source": "d is a",
      "metadata": {
        "trusted": true
      },
      "outputs": [],
      "execution_count": null
    },
    {
      "cell_type": "code",
      "source": "d.base is a  # d doesn't share anything with a",
      "metadata": {
        "trusted": true
      },
      "outputs": [],
      "execution_count": null
    },
    {
      "cell_type": "code",
      "source": "d[0, 0] = 99\nprint(d)\nprint(a)",
      "metadata": {
        "trusted": true
      },
      "outputs": [],
      "execution_count": null
    }
  ]
}