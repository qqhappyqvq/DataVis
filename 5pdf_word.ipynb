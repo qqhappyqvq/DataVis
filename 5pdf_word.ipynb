{
  "metadata": {
    "kernelspec": {
      "name": "python",
      "display_name": "Python (Pyodide)",
      "language": "python"
    },
    "language_info": {
      "codemirror_mode": {
        "name": "python",
        "version": 3
      },
      "file_extension": ".py",
      "mimetype": "text/x-python",
      "name": "python",
      "nbconvert_exporter": "python",
      "pygments_lexer": "ipython3",
      "version": "3.8"
    }
  },
  "nbformat_minor": 5,
  "nbformat": 4,
  "cells": [
    {
      "id": "e5e024f7-3450-4b30-a21a-481318fd6d9b",
      "cell_type": "code",
      "source": "import docx",
      "metadata": {
        "trusted": true
      },
      "outputs": [],
      "execution_count": null
    },
    {
      "id": "0fff93c6-a61b-4d56-9f99-360e74e69ce3",
      "cell_type": "code",
      "source": "doc = docx.Document(r'.\\nsfc.docx')",
      "metadata": {
        "trusted": true
      },
      "outputs": [],
      "execution_count": null
    },
    {
      "id": "a5dd8991-e1c7-4600-ad9c-c67571b217c7",
      "cell_type": "code",
      "source": "doc",
      "metadata": {
        "trusted": true
      },
      "outputs": [],
      "execution_count": null
    },
    {
      "id": "ffa50629-2229-4b2a-940e-e162f4609b9a",
      "cell_type": "code",
      "source": "doc.paragraphs",
      "metadata": {
        "trusted": true
      },
      "outputs": [],
      "execution_count": null
    },
    {
      "id": "ba3a61a5-71b9-4749-8274-0c0caa7aa137",
      "cell_type": "code",
      "source": "print(doc.paragraphs[3].text)\n",
      "metadata": {
        "trusted": true
      },
      "outputs": [],
      "execution_count": null
    },
    {
      "id": "0e3f208a-fa91-4ce4-bf2e-9e2b96e3e7d8",
      "cell_type": "code",
      "source": "runs1 = doc.paragraphs[3].runs[0]\nruns1.text\nruns1.bold",
      "metadata": {
        "trusted": true
      },
      "outputs": [],
      "execution_count": null
    },
    {
      "id": "cf494fc6-fb3d-4f6f-ac06-348fa3fb6360",
      "cell_type": "markdown",
      "source": "### Getting the Full Text from a .docx File",
      "metadata": {}
    },
    {
      "id": "e025de65-90b3-4889-9e5f-a6b0a645ec8f",
      "cell_type": "code",
      "source": "def get_text(file_name):\n    doc = docx.Document(file_name)\n    texts = []\n    for paragraph in doc.paragraphs:\n        texts.append(paragraph.text)\n    return texts",
      "metadata": {
        "trusted": true
      },
      "outputs": [],
      "execution_count": null
    },
    {
      "id": "f2836f10-9308-4335-bceb-5214cdea3fc2",
      "cell_type": "code",
      "source": "",
      "metadata": {
        "trusted": true
      },
      "outputs": [],
      "execution_count": null
    },
    {
      "id": "2c327f4a-8c9c-4cec-8f8a-85d995a7d4ad",
      "cell_type": "code",
      "source": "texts = get_text(r'.\\nsfc.docx')\ntexts",
      "metadata": {
        "trusted": true
      },
      "outputs": [],
      "execution_count": null
    },
    {
      "id": "7aac838f-43fe-4667-add4-59285ae32ee3",
      "cell_type": "code",
      "source": "import re\npattern = re.compile(\"\\d*(?=周岁)\")\nmatches = []\nfor text in texts:\n    match_pattern = pattern.findall(text)\n    matches.append(match_pattern)\n",
      "metadata": {
        "trusted": true
      },
      "outputs": [],
      "execution_count": null
    },
    {
      "id": "734d134c-f585-4448-858b-ead240f67207",
      "cell_type": "code",
      "source": "matches",
      "metadata": {
        "trusted": true
      },
      "outputs": [],
      "execution_count": null
    },
    {
      "id": "0053f19a-77f3-41e7-bcbb-817a33456e74",
      "cell_type": "code",
      "source": "### Writing Word Documents",
      "metadata": {
        "trusted": true
      },
      "outputs": [],
      "execution_count": null
    },
    {
      "id": "1470e5bf-2883-4a72-931d-6312a005fb78",
      "cell_type": "markdown",
      "source": "- To create your own .docx file, call docx.Document() to return a new, blank Word Document object. \n- The add_paragraph() document method adds a new paragraph of text to the document and returns a reference to the Paragraph object that was added.\n- When you’re done adding text, pass a filename string to the save() document method to save the Document object to a file.\n",
      "metadata": {}
    },
    {
      "id": "62897487-8b45-4078-b297-1f03ad8e8b67",
      "cell_type": "code",
      "source": "doc = docx.Document()\ndoc.add_paragraph(\"This is a test paragraph\")\ndoc.add_paragraph(\"add one more paragrapha\")\ndoc.save('test.docx')",
      "metadata": {
        "trusted": true
      },
      "outputs": [],
      "execution_count": null
    },
    {
      "id": "4f3e1252-7def-4eb3-b1f3-a99701983fbd",
      "cell_type": "markdown",
      "source": "**Note:** ",
      "metadata": {}
    },
    {
      "id": "56fdde32-fe2d-4752-9404-aeb380d84ba0",
      "cell_type": "code",
      "source": "",
      "metadata": {
        "trusted": true
      },
      "outputs": [],
      "execution_count": null
    },
    {
      "id": "afa603b1-88f2-49ee-ae8b-8e7b346e216e",
      "cell_type": "code",
      "source": "",
      "metadata": {
        "trusted": true
      },
      "outputs": [],
      "execution_count": null
    },
    {
      "id": "0bf7e2d3-0caf-4699-85c0-e48af98f0db8",
      "cell_type": "code",
      "source": "",
      "metadata": {
        "trusted": true
      },
      "outputs": [],
      "execution_count": null
    },
    {
      "id": "0e471efe-c89e-4588-9b1a-45d0401e0ea0",
      "cell_type": "code",
      "source": "### Word Style",
      "metadata": {
        "trusted": true
      },
      "outputs": [],
      "execution_count": null
    },
    {
      "id": "6dfa25be-587f-4fa2-b27f-abebb1aa1e18",
      "cell_type": "code",
      "source": "doc = docx.Document()\nhead0 = doc.add_heading('Data Visualization', 0)\nhead0.style = 'Title'\ndoc.add_heading(\"Preface\", 1)\ndoc.add_heading('Introduction', 2)\ndoc.add_heading('Types of plots', 2)\ndoc.add_heading('Bar plot', 3)\ndoc.add_heading('scatter plot', 3)\ndoc.add_heading('line plot', 3)\npara1 = doc.add_paragraph('the line plot is ...')\npara1.style= 'BodyText'\ndoc.save('test1.docx')",
      "metadata": {
        "trusted": true
      },
      "outputs": [],
      "execution_count": null
    },
    {
      "id": "aabb46ce-dbd5-4468-b9e9-2c3d3c16b097",
      "cell_type": "code",
      "source": "",
      "metadata": {
        "trusted": true
      },
      "outputs": [],
      "execution_count": null
    },
    {
      "id": "f9e3b272-bb13-4c58-9bd8-a952e0ff3612",
      "cell_type": "markdown",
      "source": "\nPDF stands for Portable Document Format and uses the .pdf file extension. Although PDFs support many features, this chapter will focus on the two things you’ll be doing most often with them: \nreading text content from PDFs and \ncrafting new PDFs from existing documents.",
      "metadata": {}
    },
    {
      "id": "4ce4896b-78aa-40b1-9c7c-4a931f84c70a",
      "cell_type": "code",
      "source": "PyPDF2 package ",
      "metadata": {
        "trusted": true
      },
      "outputs": [],
      "execution_count": null
    },
    {
      "id": "1470dbd2-1466-4feb-9f5f-2a3b1955dbff",
      "cell_type": "markdown",
      "source": "PyPDF2 does not have a way to extract images, charts, or other media from PDF documents, but it can extract text and return it as a Python string.\n\n",
      "metadata": {}
    },
    {
      "id": "0bd4be5a-e02f-4bb6-8dc3-19e6aaed08ce",
      "cell_type": "markdown",
      "source": "- PyPDF2’s counterpart to PdfReader objects is PdfWriter objects, which can create new PDF files. \n- But PyPDF2 cannot write arbitrary text to a PDF like Python can do with plaintext files. \n- PyPDF2 doesn’t allow you to directly edit a PDF. Instead, you have to create a new PDF and then copy content over from an existing document.\n",
      "metadata": {}
    },
    {
      "id": "7be3bb1e-4180-4579-82f9-b4f208057510",
      "cell_type": "markdown",
      "source": "### Procedure\n1. Open one or more existing PDFs (the source PDFs) into PdfReaderobjects.\n2. Create a new PdfWriter object.\n3. Copy pages from the PdfReader objects into the PdfWriter object.\n4. Finally, use the PdfWriter object to write the output PDF.\n",
      "metadata": {},
      "attachments": {}
    },
    {
      "id": "14eec494-116d-4878-9aff-f8546b19afba",
      "cell_type": "markdown",
      "source": "- You can use PyPDF2 to copy pages from one PDF document to another. This allows you to combine multiple PDF files, cut unwanted pages, or re-order pages.\n- PyPDF2 cannot insert pages in the middle of a PdfWriter object; the addPage() method will only add pages to the end.\n",
      "metadata": {}
    },
    {
      "id": "2866232f-8d66-4c92-8d78-56bd66ca784b",
      "cell_type": "code",
      "source": "from PyPDF2 import PdfReader\n### Read contents\nreader = PdfReader(\"NSFC.pdf\")\nprint(f\"{len(reader.pages)}\")\n",
      "metadata": {
        "trusted": true
      },
      "outputs": [],
      "execution_count": null
    },
    {
      "id": "6f70e543-e69f-4a5c-989f-04797038222f",
      "cell_type": "code",
      "source": "page = reader.pages[1]\ntext = page.extract_text()\nprint(text)",
      "metadata": {
        "trusted": true
      },
      "outputs": [],
      "execution_count": null
    },
    {
      "id": "f49ab23f-94ca-4c74-a34e-ab9327512a0f",
      "cell_type": "code",
      "source": "##Merge\n\nfrom PyPDF2 import PdfMerger\nmerger = PdfMerger()\n\n# 添加多个 PDF 文件\nmerger.append(\"NSFC.pdf\")\nmerger.append(\"papers.pdf\")\n\n# 合并并保存\nmerger.write(\"merged.pdf\")\nmerger.close()",
      "metadata": {
        "trusted": true
      },
      "outputs": [],
      "execution_count": null
    },
    {
      "id": "f5e194ac-a0ad-42c5-9c62-fb9abb782f08",
      "cell_type": "code",
      "source": "## Split",
      "metadata": {
        "trusted": true
      },
      "outputs": [],
      "execution_count": null
    },
    {
      "id": "33a1d29b-fc23-4f38-a543-d2796dda556c",
      "cell_type": "code",
      "source": "from PyPDF2 import PdfReader, PdfWriter\n\nreader = PdfReader(\"NSFC.pdf\")\nwriter = PdfWriter()\n\n## Read the first three pages\nfor page in reader.pages[0:3]:\n    writer.add_page(page)\n\n\nwith open(\"split.pdf\", \"wb\") as f:\n    writer.write(f)",
      "metadata": {
        "trusted": true
      },
      "outputs": [],
      "execution_count": null
    },
    {
      "id": "3107f1a5-0122-431d-beec-7eebe7d2a223",
      "cell_type": "code",
      "source": "## Rotation\nfrom PyPDF2 import PdfReader, PdfWriter\n\nreader = PdfReader(\"NSFC.pdf\")\nwriter = PdfWriter()\n\npage = reader.pages[0]\npage.rotate(90)\nwriter.add_page(page)\n\n# 保存旋转后的 PDF\nwith open(\"rotated.pdf\", \"wb\") as f:\n    writer.write(f)",
      "metadata": {
        "trusted": true
      },
      "outputs": [],
      "execution_count": null
    },
    {
      "id": "4aa904d3-0f72-4d42-81c6-77fe707af374",
      "cell_type": "code",
      "source": "from PyPDF2 import PdfReader, PdfWriter\n\nreader = PdfReader(\"NSFC.pdf\")\nwriter = PdfWriter()\n\nfor page in reader.pages:\n    writer.add_page(page)\n\nwriter.encrypt(\"123456\")\n\nwith open(\"encrypted.pdf\", \"wb\") as f:\n    writer.write(f)",
      "metadata": {
        "trusted": true
      },
      "outputs": [],
      "execution_count": null
    },
    {
      "id": "cf718a0a-358c-4028-9c5b-e3c5cfafc0c7",
      "cell_type": "code",
      "source": "from PyPDF2 import PdfReader\n\nreader = PdfReader(\"encrypted.pdf\")\nreader.decrypt(\"123456\")  \npage = reader.pages[0]\nprint(page.extract_text())",
      "metadata": {
        "trusted": true
      },
      "outputs": [],
      "execution_count": null
    },
    {
      "id": "da8335f5-fafd-4cf7-96da-c62de8fe135f",
      "cell_type": "code",
      "source": "from PyPDF2 import PdfReader, PdfWriter\n\n# 打开原始 PDF 和水印 PDF\npdf_reader = PdfReader(\"papers.pdf\")\nwatermark_reader = PdfReader(\"NSFC.pdf\")\nwriter = PdfWriter()\n\n# 获取水印页\nwatermark_page = watermark_reader.pages[0]\n\n# 合并水印到每一页\nfor page in pdf_reader.pages:\n    page.merge_page(watermark_page)\n    writer.add_page(page)\n\n# 保存带水印的 PDF\nwith open(\"watermarked.pdf\", \"wb\") as f:\n    writer.write(f)",
      "metadata": {
        "trusted": true
      },
      "outputs": [],
      "execution_count": null
    },
    {
      "id": "61e1e108-0ee4-4897-9159-3ca9a6ba9e75",
      "cell_type": "code",
      "source": "t = (1)\nt + 2",
      "metadata": {
        "trusted": true
      },
      "outputs": [],
      "execution_count": null
    },
    {
      "id": "7ce53cfb-a6a2-402b-ad85-d33b6553c3e0",
      "cell_type": "code",
      "source": "a = (1,2,3)\na.append(4)",
      "metadata": {
        "trusted": true
      },
      "outputs": [],
      "execution_count": null
    }
  ]
}